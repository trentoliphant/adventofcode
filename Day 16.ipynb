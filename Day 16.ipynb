{
 "cells": [
  {
   "cell_type": "code",
   "execution_count": 9,
   "metadata": {},
   "outputs": [],
   "source": [
    "import numpy"
   ]
  },
  {
   "cell_type": "code",
   "execution_count": 10,
   "metadata": {},
   "outputs": [],
   "source": [
    "input_str = '59750530221324194853012320069589312027523989854830232144164799228029162830477472078089790749906142587998642764059439173975199276254972017316624772614925079238407309384923979338502430726930592959991878698412537971672558832588540600963437409230550897544434635267172603132396722812334366528344715912756154006039512272491073906389218927420387151599044435060075148142946789007756800733869891008058075303490106699737554949348715600795187032293436328810969288892220127730287766004467730818489269295982526297430971411865028098708555709525646237713045259603175397623654950719275982134690893685598734136409536436003548128411943963263336042840301380655801969822'"
   ]
  },
  {
   "cell_type": "code",
   "execution_count": 103,
   "metadata": {},
   "outputs": [],
   "source": [
    "input_str = '12345678'"
   ]
  },
  {
   "cell_type": "code",
   "execution_count": 78,
   "metadata": {},
   "outputs": [],
   "source": [
    "input_str = '80871224585914546619083218645595'"
   ]
  },
  {
   "cell_type": "code",
   "execution_count": 146,
   "metadata": {},
   "outputs": [],
   "source": [
    "input_str = '19617804207202209144916044189917'"
   ]
  },
  {
   "cell_type": "code",
   "execution_count": 153,
   "metadata": {},
   "outputs": [],
   "source": [
    "input_str = '69317163492948606335995924319873'"
   ]
  },
  {
   "cell_type": "code",
   "execution_count": 79,
   "metadata": {},
   "outputs": [],
   "source": [
    "sig = numpy.array([int(d) for d in input_str])[:8]"
   ]
  },
  {
   "cell_type": "code",
   "execution_count": 81,
   "metadata": {},
   "outputs": [],
   "source": [
    "size = len(sig)\n",
    "transform = numpy.array([\n",
    "    numpy.resize(\n",
    "        numpy.repeat(\n",
    "            [0,1,0,-1], i\n",
    "        ), 9\n",
    "    ) for i in range(1, 9)]).T[1:]"
   ]
  },
  {
   "cell_type": "code",
   "execution_count": 82,
   "metadata": {},
   "outputs": [
    {
     "data": {
      "text/plain": [
       "array([[ 1,  0,  0,  0,  0,  0,  0,  0],\n",
       "       [ 0,  1,  0,  0,  0,  0,  0,  0],\n",
       "       [-1,  1,  1,  0,  0,  0,  0,  0],\n",
       "       [ 0,  0,  1,  1,  0,  0,  0,  0],\n",
       "       [ 1,  0,  1,  1,  1,  0,  0,  0],\n",
       "       [ 0, -1,  0,  1,  1,  1,  0,  0],\n",
       "       [-1, -1,  0,  1,  1,  1,  1,  0],\n",
       "       [ 0,  0,  0,  0,  1,  1,  1,  1]])"
      ]
     },
     "execution_count": 82,
     "metadata": {},
     "output_type": "execute_result"
    }
   ],
   "source": [
    "transform"
   ]
  },
  {
   "cell_type": "code",
   "execution_count": 83,
   "metadata": {},
   "outputs": [
    {
     "name": "stdout",
     "output_type": "stream",
     "text": [
      "[1 4 6 2 9 8 6 4]\n",
      "[2 4 7 5 7 8 0 4]\n",
      "[2 3 9 0 9 2 4 4]\n",
      "[2 6 8 5 9 0 8 4]\n",
      "[5 6 2 2 1 2 2 4]\n",
      "[2 4 5 7 9 8 6 4]\n",
      "[0 5 1 0 7 8 0 4]\n",
      "[6 2 8 5 9 2 4 4]\n",
      "[3 4 2 0 9 0 8 4]\n",
      "[2 2 1 7 1 2 2 4]\n",
      "[0 1 9 2 9 8 6 4]\n",
      "[6 4 0 5 7 8 0 4]\n",
      "[3 4 2 0 9 2 4 4]\n",
      "[6 0 1 5 9 0 8 4]\n",
      "[6 7 5 2 1 2 2 4]\n",
      "[0 8 8 7 9 8 6 4]\n",
      "[5 2 4 0 7 8 0 4]\n",
      "[8 2 1 5 9 2 4 4]\n",
      "[2 3 5 0 9 0 8 4]\n",
      "[2 0 4 7 1 2 2 4]\n",
      "[3 0 2 2 9 8 6 4]\n",
      "[4 2 3 5 7 8 0 4]\n",
      "[8 3 5 0 9 2 4 4]\n",
      "[8 2 4 5 9 0 8 4]\n",
      "[5 2 8 2 1 2 2 4]\n",
      "[4 6 1 7 9 8 6 4]\n",
      "[6 7 7 0 7 8 0 4]\n",
      "[6 6 4 5 9 2 4 4]\n",
      "[7 4 8 0 9 0 8 4]\n",
      "[0 4 7 7 1 2 2 4]\n",
      "[8 7 5 2 9 8 6 4]\n",
      "[6 2 6 5 7 8 0 4]\n",
      "[7 0 8 0 9 2 4 4]\n",
      "[4 2 7 5 9 0 8 4]\n",
      "[2 1 1 2 1 2 2 4]\n",
      "[0 2 4 7 9 8 6 4]\n",
      "[1 8 0 0 7 8 0 4]\n",
      "[8 0 7 5 9 2 4 4]\n",
      "[6 1 1 0 9 0 8 4]\n",
      "[6 6 0 7 1 2 2 4]\n",
      "[5 2 8 2 9 8 6 4]\n",
      "[0 4 9 5 7 8 0 4]\n",
      "[2 5 1 0 9 2 4 4]\n",
      "[6 0 0 5 9 0 8 4]\n",
      "[7 8 4 2 1 2 2 4]\n",
      "[2 8 7 7 9 8 6 4]\n",
      "[2 1 3 0 7 8 0 4]\n",
      "[6 4 0 5 9 2 4 4]\n",
      "[1 2 4 0 9 0 8 4]\n",
      "[2 2 3 7 1 2 2 4]\n",
      "[2 1 1 2 9 8 6 4]\n",
      "[4 2 2 5 7 8 0 4]\n",
      "[9 4 4 0 9 2 4 4]\n",
      "[0 2 3 5 9 0 8 4]\n",
      "[2 3 7 2 1 2 2 4]\n",
      "[6 6 0 7 9 8 6 4]\n",
      "[9 8 6 0 7 8 0 4]\n",
      "[0 6 3 5 9 2 4 4]\n",
      "[2 3 7 0 9 0 8 4]\n",
      "[4 2 6 7 1 2 2 4]\n",
      "[3 4 4 2 9 8 6 4]\n",
      "[2 6 5 5 7 8 0 4]\n",
      "[4 3 7 0 9 2 4 4]\n",
      "[2 4 6 5 9 0 8 4]\n",
      "[3 2 0 2 1 2 2 4]\n",
      "[2 2 3 7 9 8 6 4]\n",
      "[2 9 9 0 7 8 0 4]\n",
      "[0 0 6 5 9 2 4 4]\n",
      "[1 0 0 0 9 0 8 4]\n",
      "[2 8 9 7 1 2 2 4]\n",
      "[8 3 7 2 9 8 6 4]\n",
      "[4 4 8 5 7 8 0 4]\n",
      "[3 4 0 0 9 2 4 4]\n",
      "[8 2 9 5 9 0 8 4]\n",
      "[0 3 3 2 1 2 2 4]\n",
      "[4 2 6 7 9 8 6 4]\n",
      "[1 6 2 0 7 8 0 4]\n",
      "[6 0 9 5 9 2 4 4]\n",
      "[2 3 3 0 9 0 8 4]\n",
      "[0 2 2 7 1 2 2 4]\n",
      "[3 0 0 2 9 8 6 4]\n",
      "[6 4 1 5 7 8 0 4]\n",
      "[2 3 3 0 9 2 4 4]\n",
      "[4 0 2 5 9 0 8 4]\n",
      "[3 6 6 2 1 2 2 4]\n",
      "[4 8 9 7 9 8 6 4]\n",
      "[2 3 5 0 7 8 0 4]\n",
      "[4 0 2 5 9 2 4 4]\n",
      "[7 4 6 0 9 0 8 4]\n",
      "[2 2 5 7 1 2 2 4]\n",
      "[4 3 3 2 9 8 6 4]\n",
      "[4 8 4 5 7 8 0 4]\n",
      "[7 4 6 0 9 2 4 4]\n",
      "[6 4 5 5 9 0 8 4]\n",
      "[2 1 9 2 1 2 2 4]\n",
      "[8 6 2 7 9 8 6 4]\n",
      "[9 6 8 0 7 8 0 4]\n",
      "[8 6 5 5 9 2 4 4]\n",
      "[8 5 9 0 9 0 8 4]\n",
      "[0 6 8 7 1 2 2 4]\n"
     ]
    }
   ],
   "source": [
    "for phase in range(100):\n",
    "    sig = abs(sig.dot(transform))%10\n",
    "    print(sig)"
   ]
  },
  {
   "cell_type": "code",
   "execution_count": 142,
   "metadata": {},
   "outputs": [
    {
     "data": {
      "text/plain": [
       "array([2, 4, 1, 7, 6, 1, 7, 6, 4, 8, 0, 9, 1, 9, 0, 4, 6, 1, 1, 4, 0, 3,\n",
       "       8, 7, 6, 3, 1, 9, 5, 5, 9, 5])"
      ]
     },
     "execution_count": 142,
     "metadata": {},
     "output_type": "execute_result"
    }
   ],
   "source": [
    "sig"
   ]
  },
  {
   "cell_type": "code",
   "execution_count": 84,
   "metadata": {},
   "outputs": [
    {
     "data": {
      "text/plain": [
       "array([1, 2, 4, 7, 3, 3, 9, 6])"
      ]
     },
     "execution_count": 84,
     "metadata": {},
     "output_type": "execute_result"
    }
   ],
   "source": [
    "a.T[1:].dot(input_a) % 10"
   ]
  },
  {
   "cell_type": "code",
   "execution_count": 86,
   "metadata": {},
   "outputs": [
    {
     "data": {
      "text/plain": [
       "array([ 1,  2,  4,  7, 13, 13, 19, 26])"
      ]
     },
     "execution_count": 86,
     "metadata": {},
     "output_type": "execute_result"
    }
   ],
   "source": [
    "input_a.dot(a.T[1:].T)"
   ]
  },
  {
   "cell_type": "code",
   "execution_count": 87,
   "metadata": {},
   "outputs": [
    {
     "data": {
      "text/plain": [
       "array([[ 0,  1,  0, -1,  0,  1,  0, -1,  0],\n",
       "       [ 0,  0,  1,  1,  0,  0, -1, -1,  0],\n",
       "       [ 0,  0,  0,  1,  1,  1,  0,  0,  0],\n",
       "       [ 0,  0,  0,  0,  1,  1,  1,  1,  0],\n",
       "       [ 0,  0,  0,  0,  0,  1,  1,  1,  1],\n",
       "       [ 0,  0,  0,  0,  0,  0,  1,  1,  1],\n",
       "       [ 0,  0,  0,  0,  0,  0,  0,  1,  1],\n",
       "       [ 0,  0,  0,  0,  0,  0,  0,  0,  1]])"
      ]
     },
     "execution_count": 87,
     "metadata": {},
     "output_type": "execute_result"
    }
   ],
   "source": [
    "a"
   ]
  },
  {
   "cell_type": "code",
   "execution_count": 88,
   "metadata": {},
   "outputs": [
    {
     "data": {
      "text/plain": [
       "array([[ 1,  0, -1,  0,  1,  0, -1,  0],\n",
       "       [ 0,  1,  1,  0,  0, -1, -1,  0],\n",
       "       [ 0,  0,  1,  1,  1,  0,  0,  0],\n",
       "       [ 0,  0,  0,  1,  1,  1,  1,  0],\n",
       "       [ 0,  0,  0,  0,  1,  1,  1,  1],\n",
       "       [ 0,  0,  0,  0,  0,  1,  1,  1],\n",
       "       [ 0,  0,  0,  0,  0,  0,  1,  1],\n",
       "       [ 0,  0,  0,  0,  0,  0,  0,  1]])"
      ]
     },
     "execution_count": 88,
     "metadata": {},
     "output_type": "execute_result"
    }
   ],
   "source": [
    "a.T[1:].T"
   ]
  },
  {
   "cell_type": "code",
   "execution_count": 97,
   "metadata": {},
   "outputs": [
    {
     "data": {
      "text/plain": [
       "array([4, 8, 2, 2, 6, 1, 5, 8])"
      ]
     },
     "execution_count": 97,
     "metadata": {},
     "output_type": "execute_result"
    }
   ],
   "source": [
    "abs(input_a.dot(a.T[1:]))%10"
   ]
  },
  {
   "cell_type": "code",
   "execution_count": 1,
   "metadata": {},
   "outputs": [],
   "source": [
    "input_str = '03036732577212944063491565474664'"
   ]
  },
  {
   "cell_type": "code",
   "execution_count": 11,
   "metadata": {},
   "outputs": [],
   "source": [
    "m = input_str*10000"
   ]
  },
  {
   "cell_type": "code",
   "execution_count": 15,
   "metadata": {},
   "outputs": [],
   "source": [
    "offset = int(input_str[:7])"
   ]
  },
  {
   "cell_type": "code",
   "execution_count": 63,
   "metadata": {},
   "outputs": [],
   "source": [
    "sig = numpy.array([int(d) for d in m[offset: offset+8]])"
   ]
  },
  {
   "cell_type": "code",
   "execution_count": 64,
   "metadata": {},
   "outputs": [
    {
     "data": {
      "text/plain": [
       "array([4, 6, 3, 5, 2, 6, 7, 1])"
      ]
     },
     "execution_count": 64,
     "metadata": {},
     "output_type": "execute_result"
    }
   ],
   "source": [
    "sig"
   ]
  },
  {
   "cell_type": "code",
   "execution_count": 19,
   "metadata": {},
   "outputs": [
    {
     "data": {
      "text/plain": [
       "5975061"
      ]
     },
     "execution_count": 19,
     "metadata": {},
     "output_type": "execute_result"
    }
   ],
   "source": [
    "offset + 8"
   ]
  },
  {
   "cell_type": "code",
   "execution_count": 20,
   "metadata": {},
   "outputs": [
    {
     "data": {
      "text/plain": [
       "array([1, 1, 1, 1, 1, 1, 1, 1, 1])"
      ]
     },
     "execution_count": 20,
     "metadata": {},
     "output_type": "execute_result"
    }
   ],
   "source": [
    "numpy.array(\n",
    "    numpy.resize(\n",
    "            numpy.repeat(\n",
    "                [0,1,0,-1], offset\n",
    "            ), offset + 9\n",
    "        )[offset:offset + 9]\n",
    "    "
   ]
  },
  {
   "cell_type": "code",
   "execution_count": 76,
   "metadata": {},
   "outputs": [],
   "source": [
    "transforms = numpy.array([\n",
    "        numpy.repeat(\n",
    "            [0,1,0,-1], i\n",
    "        )[offset:offset+9] for i in range(offset, offset+8)]).T[1:]"
   ]
  },
  {
   "cell_type": "code",
   "execution_count": 66,
   "metadata": {},
   "outputs": [
    {
     "data": {
      "text/plain": [
       "array([[1, 1, 0, 0, 0, 0, 0, 0],\n",
       "       [1, 1, 1, 0, 0, 0, 0, 0],\n",
       "       [1, 1, 1, 1, 0, 0, 0, 0],\n",
       "       [1, 1, 1, 1, 1, 0, 0, 0],\n",
       "       [1, 1, 1, 1, 1, 1, 0, 0],\n",
       "       [1, 1, 1, 1, 1, 1, 1, 0],\n",
       "       [1, 1, 1, 1, 1, 1, 1, 1],\n",
       "       [1, 1, 1, 1, 1, 1, 1, 1]])"
      ]
     },
     "execution_count": 66,
     "metadata": {},
     "output_type": "execute_result"
    }
   ],
   "source": [
    "transforms"
   ]
  },
  {
   "cell_type": "code",
   "execution_count": 65,
   "metadata": {},
   "outputs": [
    {
     "data": {
      "text/plain": [
       "array([4, 6, 3, 5, 2, 6, 7, 1])"
      ]
     },
     "execution_count": 65,
     "metadata": {},
     "output_type": "execute_result"
    }
   ],
   "source": [
    "sig"
   ]
  },
  {
   "cell_type": "code",
   "execution_count": 68,
   "metadata": {},
   "outputs": [],
   "source": [
    "t1 = '03036732577212944063491565474664'"
   ]
  },
  {
   "cell_type": "code",
   "execution_count": 69,
   "metadata": {},
   "outputs": [],
   "source": [
    "offset = int(t1[:7])"
   ]
  },
  {
   "cell_type": "code",
   "execution_count": 71,
   "metadata": {},
   "outputs": [],
   "source": [
    "t1x = t1*10000"
   ]
  },
  {
   "cell_type": "code",
   "execution_count": 74,
   "metadata": {},
   "outputs": [],
   "source": [
    "sig = numpy.array([int(d) for d in t1x[offset:offset+8]])"
   ]
  },
  {
   "cell_type": "code",
   "execution_count": 75,
   "metadata": {},
   "outputs": [
    {
     "data": {
      "text/plain": [
       "array([5, 4, 7, 4, 6, 6, 4, 0])"
      ]
     },
     "execution_count": 75,
     "metadata": {},
     "output_type": "execute_result"
    }
   ],
   "source": [
    "sig"
   ]
  },
  {
   "cell_type": "code",
   "execution_count": null,
   "metadata": {},
   "outputs": [],
   "source": []
  }
 ],
 "metadata": {
  "kernelspec": {
   "display_name": "Python [default]",
   "language": "python",
   "name": "python3"
  },
  "language_info": {
   "codemirror_mode": {
    "name": "ipython",
    "version": 3
   },
   "file_extension": ".py",
   "mimetype": "text/x-python",
   "name": "python",
   "nbconvert_exporter": "python",
   "pygments_lexer": "ipython3",
   "version": "3.6.7"
  }
 },
 "nbformat": 4,
 "nbformat_minor": 4
}
