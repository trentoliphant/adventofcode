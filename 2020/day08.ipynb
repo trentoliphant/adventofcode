{
 "cells": [
  {
   "cell_type": "code",
   "execution_count": 28,
   "metadata": {},
   "outputs": [],
   "source": [
    "input_data = open('data/day08.txt').read().split('\\n')"
   ]
  },
  {
   "cell_type": "code",
   "execution_count": 87,
   "metadata": {},
   "outputs": [],
   "source": [
    "prog = input_data"
   ]
  },
  {
   "cell_type": "code",
   "execution_count": 84,
   "metadata": {},
   "outputs": [],
   "source": [
    "test_data = \"\"\"nop +0\n",
    "acc +1\n",
    "jmp +4\n",
    "acc +3\n",
    "jmp -3\n",
    "acc -99\n",
    "acc +1\n",
    "jmp -4\n",
    "acc +6\"\"\".split('\\n')"
   ]
  },
  {
   "cell_type": "code",
   "execution_count": 56,
   "metadata": {},
   "outputs": [],
   "source": [
    "prog = test_data"
   ]
  },
  {
   "cell_type": "code",
   "execution_count": null,
   "metadata": {},
   "outputs": [],
   "source": [
    "prog"
   ]
  },
  {
   "cell_type": "code",
   "execution_count": 92,
   "metadata": {},
   "outputs": [
    {
     "ename": "IndexError",
     "evalue": "list index out of range",
     "output_type": "error",
     "traceback": [
      "\u001b[0;31m---------------------------------------------------------------------------\u001b[0m",
      "\u001b[0;31mIndexError\u001b[0m                                Traceback (most recent call last)",
      "\u001b[0;32m<ipython-input-92-368412ceb6e9>\u001b[0m in \u001b[0;36m<module>\u001b[0;34m()\u001b[0m\n\u001b[1;32m     44\u001b[0m         \u001b[0;32mif\u001b[0m \u001b[0mcur_pos\u001b[0m \u001b[0;32min\u001b[0m \u001b[0mvisited_pos\u001b[0m\u001b[0;34m:\u001b[0m\u001b[0;34m\u001b[0m\u001b[0;34m\u001b[0m\u001b[0m\n\u001b[1;32m     45\u001b[0m             \u001b[0;32mbreak\u001b[0m\u001b[0;34m\u001b[0m\u001b[0;34m\u001b[0m\u001b[0m\n\u001b[0;32m---> 46\u001b[0;31m         \u001b[0minst\u001b[0m\u001b[0;34m,\u001b[0m \u001b[0mvalue\u001b[0m \u001b[0;34m=\u001b[0m \u001b[0mprog\u001b[0m\u001b[0;34m[\u001b[0m\u001b[0mcur_pos\u001b[0m\u001b[0;34m]\u001b[0m\u001b[0;34m.\u001b[0m\u001b[0msplit\u001b[0m\u001b[0;34m(\u001b[0m\u001b[0;34m)\u001b[0m\u001b[0;34m\u001b[0m\u001b[0;34m\u001b[0m\u001b[0m\n\u001b[0m\u001b[1;32m     47\u001b[0m         \u001b[0mvisited_pos\u001b[0m\u001b[0;34m.\u001b[0m\u001b[0mappend\u001b[0m\u001b[0;34m(\u001b[0m\u001b[0mcur_pos\u001b[0m\u001b[0;34m)\u001b[0m\u001b[0;34m\u001b[0m\u001b[0;34m\u001b[0m\u001b[0m\n\u001b[1;32m     48\u001b[0m         \u001b[0mfuncs\u001b[0m\u001b[0;34m[\u001b[0m\u001b[0minst\u001b[0m\u001b[0;34m]\u001b[0m\u001b[0;34m(\u001b[0m\u001b[0mvalue\u001b[0m\u001b[0;34m)\u001b[0m\u001b[0;34m\u001b[0m\u001b[0;34m\u001b[0m\u001b[0m\n",
      "\u001b[0;31mIndexError\u001b[0m: list index out of range"
     ]
    }
   ],
   "source": [
    "accumulator = 0\n",
    "cur_pos = 0\n",
    "visited_pos = []\n",
    "\n",
    "def acc(value):\n",
    "    mul = 1\n",
    "    if value[0] == '-':\n",
    "        mul = -1\n",
    "    global accumulator \n",
    "    accumulator += (mul * int(value[1:]))\n",
    "    global cur_pos \n",
    "    cur_pos += 1\n",
    "#     print(f\"Accumlater adjusted to {accumulator}, moving to {cur_pos}\")\n",
    "    \n",
    "def noop(value):\n",
    "    global cur_pos\n",
    "    cur_pos += 1\n",
    "#     print(\"noop moving to\", cur_pos)\n",
    "\n",
    "def jmp(value):\n",
    "    mul = 1\n",
    "    if value[0] == '-':\n",
    "        mul = -1\n",
    "    global cur_pos \n",
    "    cur_pos += (mul * int(value[1:]))\n",
    "#     print(\"jumping to\", cur_pos)\n",
    "\n",
    "funcs = {'acc': acc, 'nop': noop, 'jmp': jmp}\n",
    "    \n",
    "for idx, val in enumerate(prog):\n",
    "    global cur_pos, accumulator, visited_pos\n",
    "    cur_pos = 0\n",
    "    accumulator = 0\n",
    "    visited_pos = []\n",
    "    old_value = val\n",
    "    if val[:3] == 'jmp':\n",
    "        val = val.replace('jmp', 'nop')\n",
    "    elif val[:3] == 'nop':\n",
    "        val = val.replace('nop', 'jmp')\n",
    "    else:\n",
    "        continue        \n",
    "    prog[idx] = val\n",
    "    while True:\n",
    "        if cur_pos in visited_pos:\n",
    "            break\n",
    "        inst, value = prog[cur_pos].split()\n",
    "        visited_pos.append(cur_pos)\n",
    "        funcs[inst](value)\n",
    "    prog[idx] = old_value\n"
   ]
  },
  {
   "cell_type": "code",
   "execution_count": 93,
   "metadata": {},
   "outputs": [
    {
     "data": {
      "text/plain": [
       "1000"
      ]
     },
     "execution_count": 93,
     "metadata": {},
     "output_type": "execute_result"
    }
   ],
   "source": [
    "accumulator"
   ]
  },
  {
   "cell_type": "code",
   "execution_count": 63,
   "metadata": {},
   "outputs": [
    {
     "data": {
      "text/plain": [
       "['nop +0',\n",
       " 'acc +1',\n",
       " 'jmp +4',\n",
       " 'acc +3',\n",
       " 'jmp -3',\n",
       " 'acc -99',\n",
       " 'acc +1',\n",
       " 'jmp -4',\n",
       " 'acc +6']"
      ]
     },
     "execution_count": 63,
     "metadata": {},
     "output_type": "execute_result"
    }
   ],
   "source": [
    "prog[0:10]"
   ]
  },
  {
   "cell_type": "code",
   "execution_count": 80,
   "metadata": {},
   "outputs": [
    {
     "data": {
      "text/plain": [
       "['nop +0',\n",
       " 'acc +1',\n",
       " 'jmp +4',\n",
       " 'acc +3',\n",
       " 'nop -3',\n",
       " 'acc -99',\n",
       " 'acc +1',\n",
       " 'nop -4',\n",
       " 'acc +6']"
      ]
     },
     "execution_count": 80,
     "metadata": {},
     "output_type": "execute_result"
    }
   ],
   "source": [
    "prog[-10:]"
   ]
  },
  {
   "cell_type": "code",
   "execution_count": 36,
   "metadata": {},
   "outputs": [
    {
     "data": {
      "text/plain": [
       "[438, 439, 440, 12, 13, 14, 598, 599, 600, 601]"
      ]
     },
     "execution_count": 36,
     "metadata": {},
     "output_type": "execute_result"
    }
   ],
   "source": [
    "visited_pos[-10:]"
   ]
  },
  {
   "cell_type": "code",
   "execution_count": 44,
   "metadata": {},
   "outputs": [
    {
     "data": {
      "text/plain": [
       "['acc +8', 'jmp -37', 'jmp -542', 'jmp -332']"
      ]
     },
     "execution_count": 44,
     "metadata": {},
     "output_type": "execute_result"
    }
   ],
   "source": [
    "prog[598:602]"
   ]
  },
  {
   "cell_type": "code",
   "execution_count": 40,
   "metadata": {},
   "outputs": [],
   "source": [
    "prog[599] = 'nop -37'"
   ]
  },
  {
   "cell_type": "code",
   "execution_count": 45,
   "metadata": {},
   "outputs": [],
   "source": [
    "prog[600] = 'nop -542'"
   ]
  },
  {
   "cell_type": "code",
   "execution_count": 46,
   "metadata": {},
   "outputs": [],
   "source": [
    "prog[601] = 'nop -332'"
   ]
  },
  {
   "cell_type": "code",
   "execution_count": null,
   "metadata": {},
   "outputs": [],
   "source": []
  }
 ],
 "metadata": {
  "kernelspec": {
   "display_name": "Python [default]",
   "language": "python",
   "name": "python3"
  },
  "language_info": {
   "codemirror_mode": {
    "name": "ipython",
    "version": 3
   },
   "file_extension": ".py",
   "mimetype": "text/x-python",
   "name": "python",
   "nbconvert_exporter": "python",
   "pygments_lexer": "ipython3",
   "version": "3.6.7"
  }
 },
 "nbformat": 4,
 "nbformat_minor": 4
}
