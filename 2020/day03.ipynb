{
 "cells": [
  {
   "cell_type": "code",
   "execution_count": 52,
   "metadata": {},
   "outputs": [],
   "source": [
    "data = open('data/day03.txt').read().split('\\n')"
   ]
  },
  {
   "cell_type": "code",
   "execution_count": 44,
   "metadata": {},
   "outputs": [
    {
     "name": "stdout",
     "output_type": "stream",
     "text": [
      "2\n"
     ]
    }
   ],
   "source": [
    "xpos = 0\n",
    "row_length = len(data[0])\n",
    "trees = 0\n",
    "for row in data[::2]:\n",
    "    trees += row[xpos % row_length] == '#'\n",
    "    xpos += 1\n",
    "print(trees)"
   ]
  },
  {
   "cell_type": "code",
   "execution_count": 45,
   "metadata": {},
   "outputs": [],
   "source": [
    "def find_trees(right, down):\n",
    "    xpos = 0\n",
    "    trees = 0\n",
    "    for row in data[::down]:\n",
    "        trees += row[xpos % row_length] == '#'\n",
    "        xpos += right\n",
    "    return trees"
   ]
  },
  {
   "cell_type": "code",
   "execution_count": 56,
   "metadata": {},
   "outputs": [
    {
     "name": "stdout",
     "output_type": "stream",
     "text": [
      "31\n",
      "78\n",
      "178\n",
      "75\n",
      "86\n",
      "39\n",
      "3492520200\n"
     ]
    }
   ],
   "source": [
    "row_length = len(data[0])\n",
    "print(row_length)\n",
    "slopes = [(1,1), (3,1), (5,1), (7,1), (1,2)]\n",
    "prod = 1\n",
    "for slope in slopes:\n",
    "    trees = find_trees(*slope)\n",
    "    prod *= trees\n",
    "    print(trees)\n",
    "print(prod)"
   ]
  },
  {
   "cell_type": "code",
   "execution_count": 55,
   "metadata": {},
   "outputs": [
    {
     "data": {
      "text/plain": [
       "178"
      ]
     },
     "execution_count": 55,
     "metadata": {},
     "output_type": "execute_result"
    }
   ],
   "source": [
    "find_trees(3,1)"
   ]
  },
  {
   "cell_type": "code",
   "execution_count": 9,
   "metadata": {},
   "outputs": [],
   "source": [
    "path = data[1::33]\n",
    "trees = path.count('#')"
   ]
  },
  {
   "cell_type": "code",
   "execution_count": 10,
   "metadata": {},
   "outputs": [
    {
     "data": {
      "text/plain": [
       "822"
      ]
     },
     "execution_count": 10,
     "metadata": {},
     "output_type": "execute_result"
    }
   ],
   "source": [
    "trees"
   ]
  },
  {
   "cell_type": "code",
   "execution_count": 6,
   "metadata": {},
   "outputs": [
    {
     "data": {
      "text/plain": [
       "'.#.#...##.....#.#..............#.#..#..#.#.....##....#..#..##........#...##.##......###..#...#.....###..#..#.....###.#.#...#......#..####.....##.#..#..........##..#.#.........#.#..............#.....##.#.........#....##.........##..........#.#.............#..##...............#..#.#.##..#..###......#.####.#.#..#........##...#.....##..............................##.....#......#....#..##..........##.#..#.........#......#.#.#..#....##.#........#.....###.....#..#...#.........#..#.#..........##.#.###.....#..#...........#.##.#.#.##.##.#...#.#...###.#....#....#..#..##.##.###..#..#.#.......#...#.....##...........#..##..##.......#...#.......##..##..#...##..#...#....#......#....#..#.........#...##...#.#..........##....#.#.#...#..##..#.##...........#..#......#..#......#....#.#.......#....#..#.#.#....#............#.#....##.....###...#..##....###.#......#.....#..#.....##...........####..#....#......##.......#........##..#....#...#..#.#..##..........#.#..#..#........#...##.#.#....##......##.##.#............#.......#...##.#.#.#.#.....##.##..#...#.#.............##.#.#........##...#....##.#..#.##...##............#.#..#...#..#.#.#....#..........#...#......##...........#........####....................#............#.....##.#..#.......##....#.##....#...##....#......#..##.#..###..#.##.##.....##....#...#........#.....#....##...##....#...........####..#....#.#..#.###.....#...###.#.....#...#..###....#.....##.#...#.....#.#.#.#...#..#...#.#......#.#.......###.......#..#....##.#..........#.#.##.#..#.........#..##....###.....#..##...#.......#.#........##........#......#...##.....#.#.....##..................#.#..........#.....#.....#.....#...........#..................#.#.....#.####...#.......#...#...................#..#.#.#.............#...........#.#.......#........#.##.......#...............#......#...##.....#..#...#...#.#.#....#.#..#.#....#..##.##.#..##......##...#.......#..#...........#..#.##...#...........#......##...#...#..#.....##...#.#...##.......#...#....#...#..##.......#..............###...#........#.............#......###.....#.#..#.#.......####..#...##..#..#.....#..#...................#.......#....#.......#...#.........#.....#........#....#........#...#..#.###....#..#...#...#.#....#...##..#..#..#..#.##........#...##.##.#..........................#.......#............#..#.#.#.....##...#.###..........#........#.......##..#.#.....#..#....#...##.....#........##..........#........#..#....#......#.#.#..#........#...........#....##..#.#.....#........#..###...#...#.#....#...##....#..#......#.##.........#.#.....#...###....###........#..#..................#......#.###...#...#.#..#.#....#...#.#......##.##.....#...........#.....##.#..#.....#.............#.......#.#....###.....#......##......#..#.#......###..#.#..#.#........#....#.......##.#.........#..#.#........##......#....#...#..#...#..#....##.....#.#....#.#.#.##....#.##...#...###..####.##.#....#...#....#.##......#.............#..#.#............##.....##.###...#..#..#.#.##.#......#.#.....#.#...............#..#...##.#..#..##.#......#...##....#................##...#.......#..#..#.........##..#.##..#.#.###...#....#..#..#..#..#......#....#..#.#.##...........#.#.#...#.#....#...#.....#...##...#.#.#.....#..#..#...#.##...#..###...#...........#.##.#..#....#...#...#.#...#......#.........#..........#...#.......#.....#.....##........#.......#..#....#....#.......#...'"
      ]
     },
     "execution_count": 6,
     "metadata": {},
     "output_type": "execute_result"
    }
   ],
   "source": [
    "path"
   ]
  },
  {
   "cell_type": "code",
   "execution_count": 7,
   "metadata": {},
   "outputs": [
    {
     "data": {
      "text/plain": [
       "3338"
      ]
     },
     "execution_count": 7,
     "metadata": {},
     "output_type": "execute_result"
    }
   ],
   "source": [
    "len(path)"
   ]
  },
  {
   "cell_type": "code",
   "execution_count": 8,
   "metadata": {},
   "outputs": [
    {
     "data": {
      "text/plain": [
       "10013"
      ]
     },
     "execution_count": 8,
     "metadata": {},
     "output_type": "execute_result"
    }
   ],
   "source": [
    "len(data)"
   ]
  },
  {
   "cell_type": "code",
   "execution_count": 42,
   "metadata": {},
   "outputs": [],
   "source": [
    "test = \"\"\"..##.......\n",
    "#...#...#..\n",
    ".#....#..#.\n",
    "..#.#...#.#\n",
    ".#...##..#.\n",
    "..#.##.....\n",
    ".#.#.#....#\n",
    ".#........#\n",
    "#.##...#...\n",
    "#...##....#\n",
    ".#..#...#.#\"\"\""
   ]
  },
  {
   "cell_type": "code",
   "execution_count": 50,
   "metadata": {},
   "outputs": [],
   "source": [
    "data = test.split('\\n')"
   ]
  },
  {
   "cell_type": "code",
   "execution_count": 34,
   "metadata": {},
   "outputs": [
    {
     "name": "stdout",
     "output_type": "stream",
     "text": [
      "0\n",
      "3\n",
      "6\n",
      "9\n",
      "1\n",
      "4\n",
      "7\n",
      "10\n",
      "2\n",
      "5\n",
      "8\n",
      "['.', '.', '#', '.', '#', '#', '.', '#', '#', '#', '#'] 7\n"
     ]
    }
   ],
   "source": [
    "xpos = 0\n",
    "row_length = len(t[0])\n",
    "path = []\n",
    "for row in t:\n",
    "    pos_in_row = xpos % row_length\n",
    "    path.append(row[pos_in_row])\n",
    "    xpos += 3\n",
    "    print(pos_in_row)\n",
    "print(path, path.count('#'))"
   ]
  },
  {
   "cell_type": "code",
   "execution_count": 24,
   "metadata": {},
   "outputs": [
    {
     "data": {
      "text/plain": [
       "1"
      ]
     },
     "execution_count": 24,
     "metadata": {},
     "output_type": "execute_result"
    }
   ],
   "source": [
    "xpos % row_length"
   ]
  },
  {
   "cell_type": "code",
   "execution_count": 25,
   "metadata": {},
   "outputs": [
    {
     "data": {
      "text/plain": [
       "11"
      ]
     },
     "execution_count": 25,
     "metadata": {},
     "output_type": "execute_result"
    }
   ],
   "source": [
    "row_length"
   ]
  },
  {
   "cell_type": "code",
   "execution_count": 26,
   "metadata": {},
   "outputs": [
    {
     "data": {
      "text/plain": [
       "10"
      ]
     },
     "execution_count": 26,
     "metadata": {},
     "output_type": "execute_result"
    }
   ],
   "source": [
    "10 % row_length"
   ]
  },
  {
   "cell_type": "code",
   "execution_count": 27,
   "metadata": {},
   "outputs": [
    {
     "data": {
      "text/plain": [
       "2"
      ]
     },
     "execution_count": 27,
     "metadata": {},
     "output_type": "execute_result"
    }
   ],
   "source": [
    "13 % row_length"
   ]
  },
  {
   "cell_type": "code",
   "execution_count": 49,
   "metadata": {},
   "outputs": [],
   "source": [
    "row_length = 1"
   ]
  },
  {
   "cell_type": "code",
   "execution_count": null,
   "metadata": {},
   "outputs": [],
   "source": []
  }
 ],
 "metadata": {
  "kernelspec": {
   "display_name": "Python [default]",
   "language": "python",
   "name": "python3"
  },
  "language_info": {
   "codemirror_mode": {
    "name": "ipython",
    "version": 3
   },
   "file_extension": ".py",
   "mimetype": "text/x-python",
   "name": "python",
   "nbconvert_exporter": "python",
   "pygments_lexer": "ipython3",
   "version": "3.6.7"
  }
 },
 "nbformat": 4,
 "nbformat_minor": 4
}
