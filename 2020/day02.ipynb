{
 "cells": [
  {
   "cell_type": "code",
   "execution_count": 21,
   "metadata": {},
   "outputs": [],
   "source": [
    "data = [x for x in open('data/day02.txt').readlines()]"
   ]
  },
  {
   "cell_type": "code",
   "execution_count": 9,
   "metadata": {},
   "outputs": [
    {
     "name": "stdout",
     "output_type": "stream",
     "text": [
      "564\n"
     ]
    }
   ],
   "source": [
    "valid = []\n",
    "for row in data:\n",
    "    pol, pwd = row.split(': ')\n",
    "    nums, letter = pol.split(' ')\n",
    "    low, high = (int(num) for num in nums.split('-'))\n",
    "    if low <= pwd.count(letter) <=high:\n",
    "        valid.append((pol, pwd))\n",
    "print(len(valid))"
   ]
  },
  {
   "cell_type": "code",
   "execution_count": 24,
   "metadata": {},
   "outputs": [
    {
     "name": "stdout",
     "output_type": "stream",
     "text": [
      "325\n"
     ]
    }
   ],
   "source": [
    "valid = []\n",
    "for row in data:\n",
    "    pol, pwd = row.split(': ')\n",
    "    nums, letter = pol.split(' ')\n",
    "    first, second = (int(num) for num in nums.split('-'))\n",
    "    a = pwd[first-1] == letter\n",
    "    b = pwd[second-1] == letter\n",
    "    if (a and not b) or (b and not a):\n",
    "        valid.append((pol, pwd))\n",
    "\n",
    "print(len(valid))"
   ]
  },
  {
   "cell_type": "code",
   "execution_count": 26,
   "metadata": {},
   "outputs": [
    {
     "data": {
      "text/plain": [
       "'3-5 f: fgfff'"
      ]
     },
     "execution_count": 26,
     "metadata": {},
     "output_type": "execute_result"
    }
   ],
   "source": [
    "data[0].strip()"
   ]
  },
  {
   "cell_type": "code",
   "execution_count": 27,
   "metadata": {},
   "outputs": [
    {
     "name": "stdout",
     "output_type": "stream",
     "text": [
      "325\n"
     ]
    }
   ],
   "source": [
    "valid = []\n",
    "for row in data:\n",
    "    pol, pwd = row.split(': ')\n",
    "    nums, letter = pol.split(' ')\n",
    "    first, second = (int(num) for num in nums.split('-'))\n",
    "    a = pwd[first-1] == letter\n",
    "    b = pwd[second-1] == letter\n",
    "    if a ^ b:\n",
    "        valid.append((pol, pwd))\n",
    "\n",
    "print(len(valid))"
   ]
  },
  {
   "cell_type": "code",
   "execution_count": 31,
   "metadata": {},
   "outputs": [],
   "source": [
    "del pwd"
   ]
  },
  {
   "cell_type": "code",
   "execution_count": 32,
   "metadata": {},
   "outputs": [
    {
     "data": {
      "text/plain": [
       "'/Volumes/Development/advent/2020'"
      ]
     },
     "execution_count": 32,
     "metadata": {},
     "output_type": "execute_result"
    }
   ],
   "source": [
    "pwd"
   ]
  },
  {
   "cell_type": "code",
   "execution_count": null,
   "metadata": {},
   "outputs": [],
   "source": []
  }
 ],
 "metadata": {
  "kernelspec": {
   "display_name": "Python [default]",
   "language": "python",
   "name": "python3"
  },
  "language_info": {
   "codemirror_mode": {
    "name": "ipython",
    "version": 3
   },
   "file_extension": ".py",
   "mimetype": "text/x-python",
   "name": "python",
   "nbconvert_exporter": "python",
   "pygments_lexer": "ipython3",
   "version": "3.6.7"
  }
 },
 "nbformat": 4,
 "nbformat_minor": 4
}
