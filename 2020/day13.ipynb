{
 "cells": [
  {
   "cell_type": "code",
   "execution_count": 381,
   "metadata": {},
   "outputs": [],
   "source": [
    "start_time = 1000509\n",
    "busses = \"17,x,x,x,x,x,x,x,x,x,x,37,x,x,x,x,x,739,x,29,x,x,x,x,x,x,x,x,x,x,13,x,x,x,x,x,x,x,x,x,23,x,x,x,x,x,x,x,971,x,x,x,x,x,x,x,x,x,41,x,x,x,x,x,x,x,x,19\".split(',')"
   ]
  },
  {
   "cell_type": "code",
   "execution_count": 11,
   "metadata": {},
   "outputs": [],
   "source": [
    "loops = [int(bus) for bus in busses if bus != 'x']"
   ]
  },
  {
   "cell_type": "code",
   "execution_count": 3,
   "metadata": {},
   "outputs": [
    {
     "data": {
      "text/plain": [
       "[17, 37, 739, 29, 13, 23, 971, 41, 19]"
      ]
     },
     "execution_count": 3,
     "metadata": {},
     "output_type": "execute_result"
    }
   ],
   "source": [
    "loops"
   ]
  },
  {
   "cell_type": "code",
   "execution_count": 12,
   "metadata": {},
   "outputs": [
    {
     "name": "stdout",
     "output_type": "stream",
     "text": [
      "296\n"
     ]
    }
   ],
   "source": [
    "found = False\n",
    "cur_time = start_time\n",
    "while not found:\n",
    "    for loop in loops:\n",
    "        if cur_time % loop == 0:bring6pops\n",
    "            \n",
    "            print(loop * (cur_time - start_time))\n",
    "            found = True\n",
    "    if not found:\n",
    "        cur_time += 1\n",
    "            \n",
    "        "
   ]
  },
  {
   "cell_type": "code",
   "execution_count": 7,
   "metadata": {},
   "outputs": [],
   "source": [
    "start_time = 939\n",
    "loops = [7,13,59,31,19]"
   ]
  },
  {
   "cell_type": "code",
   "execution_count": null,
   "metadata": {},
   "outputs": [],
   "source": []
  },
  {
   "cell_type": "markdown",
   "metadata": {},
   "source": [
    "## Part 2"
   ]
  },
  {
   "cell_type": "code",
   "execution_count": 292,
   "metadata": {},
   "outputs": [],
   "source": [
    "def check_relationship(multiple, loops, offsets):\n",
    "    for idx, value in enumerate(loops):\n",
    "        offset_value = multiple + offsets[idx]\n",
    "        m = offset_value % value\n",
    "        if m != 0:\n",
    "            return False\n",
    "    return True"
   ]
  },
  {
   "cell_type": "code",
   "execution_count": 94,
   "metadata": {},
   "outputs": [],
   "source": [
    "def get_max_and_offsets(loops, offsets):\n",
    "    max_loop = max(loops)\n",
    "    max_loop_index = loops.index(max_loop)\n",
    "    max_offset_val = offsets[max_loop_index]\n",
    "    offset_from_max = [x-max_offset_val for x in offsets]\n",
    "    return max_loop, offset_from_max"
   ]
  },
  {
   "cell_type": "code",
   "execution_count": null,
   "metadata": {},
   "outputs": [],
   "source": []
  },
  {
   "cell_type": "code",
   "execution_count": 355,
   "metadata": {},
   "outputs": [],
   "source": [
    "busses = \"17,x,13,19\".split(',')"
   ]
  },
  {
   "cell_type": "code",
   "execution_count": 367,
   "metadata": {},
   "outputs": [],
   "source": [
    "busses = \"67,7,59,61\".split(',')"
   ]
  },
  {
   "cell_type": "code",
   "execution_count": 371,
   "metadata": {},
   "outputs": [],
   "source": [
    "busses = \"67,x,7,59,61\".split(',')"
   ]
  },
  {
   "cell_type": "code",
   "execution_count": 373,
   "metadata": {},
   "outputs": [],
   "source": [
    "busses = \"67,7,x,59,61\".split(',')"
   ]
  },
  {
   "cell_type": "code",
   "execution_count": 377,
   "metadata": {},
   "outputs": [],
   "source": [
    "busses = \"1789,37,47,1889\".split(',')"
   ]
  },
  {
   "cell_type": "code",
   "execution_count": 379,
   "metadata": {},
   "outputs": [],
   "source": [
    "busses = \"7,13,x,x,59,x,31,19\".split(',')"
   ]
  },
  {
   "cell_type": "code",
   "execution_count": null,
   "metadata": {},
   "outputs": [],
   "source": []
  },
  {
   "cell_type": "code",
   "execution_count": 281,
   "metadata": {},
   "outputs": [],
   "source": [
    "busses = '3,x,x,4,5'.split(',')"
   ]
  },
  {
   "cell_type": "code",
   "execution_count": null,
   "metadata": {},
   "outputs": [],
   "source": []
  },
  {
   "cell_type": "code",
   "execution_count": 309,
   "metadata": {},
   "outputs": [],
   "source": [
    "def get_multiplier(cur_multiplier, loops, offsets):\n",
    "    found = False\n",
    "    while not found:\n",
    "        cur_multiplier += 1\n",
    "        found = check_relationship(cur_multiplier, loops, offsets)\n",
    "    return cur_multiplier"
   ]
  },
  {
   "cell_type": "code",
   "execution_count": 375,
   "metadata": {},
   "outputs": [],
   "source": [
    "def find_best_multiple_and_offset(loops, offsets):\n",
    "    # Finds the offset that produces the highest lcm to use as the step\n",
    "    # Calculates based on all the loops that share an offset\n",
    "    \n",
    "    max_lcm = 1\n",
    "    best_offset = 0\n",
    "    for offset in offsets:\n",
    "        included = [bus for idx, bus in enumerate(loops) if (offsets[idx]-offset) % bus == 0]\n",
    "        lcm = 1\n",
    "        for bus in included:\n",
    "            lcm = (lcm * bus) // math.gcd(lcm, bus)\n",
    "        if lcm > max_lcm:\n",
    "            best_offset = offset\n",
    "            max_lcm = lcm\n",
    "            \n",
    "    return max_lcm, best_offset"
   ]
  },
  {
   "cell_type": "code",
   "execution_count": null,
   "metadata": {},
   "outputs": [],
   "source": []
  },
  {
   "cell_type": "code",
   "execution_count": 369,
   "metadata": {},
   "outputs": [],
   "source": [
    "def find_t(busses):\n",
    "    loops = [int(bus) for bus in busses if bus != 'x']\n",
    "    offsets = [busses.index(str(x)) for x in loops]\n",
    "\n",
    "    multiple, offset = find_best_multiple_and_offset(loops, offsets)\n",
    "    \n",
    "    found = False\n",
    "    i = 0\n",
    "    while not found:\n",
    "        i += 1\n",
    "        check_time = multiple * i - offset\n",
    "        found = check_relationship(check_time, loops, offsets)\n",
    "    return check_time"
   ]
  },
  {
   "cell_type": "code",
   "execution_count": 299,
   "metadata": {},
   "outputs": [],
   "source": [
    "def find_t2(busses):\n",
    "    loops = [int(bus) for bus in busses if bus != 'x']\n",
    "    offsets = [busses.index(str(x)) for x in loops]\n",
    "    \n",
    "    cur_multiplier = loops[0]\n",
    "    for x in range(1, len(loops)):\n",
    "        cur_multiplier = get_multiplier(cur_multiplier, loops[0:x+1], offsets[0:x+1])\n",
    "        print(cur_multiplier)\n",
    "        print('+++++++++++++++')\n",
    "    return cur_multiplier"
   ]
  },
  {
   "cell_type": "code",
   "execution_count": 383,
   "metadata": {},
   "outputs": [
    {
     "data": {
      "text/plain": [
       "535296695251210"
      ]
     },
     "execution_count": 383,
     "metadata": {},
     "output_type": "execute_result"
    }
   ],
   "source": [
    "find_t(busses)"
   ]
  },
  {
   "cell_type": "code",
   "execution_count": 302,
   "metadata": {},
   "outputs": [
    {
     "data": {
      "text/plain": [
       "['17', 'x', '13', '19']"
      ]
     },
     "execution_count": 302,
     "metadata": {},
     "output_type": "execute_result"
    }
   ],
   "source": [
    "busses"
   ]
  },
  {
   "cell_type": "code",
   "execution_count": null,
   "metadata": {},
   "outputs": [],
   "source": []
  },
  {
   "cell_type": "code",
   "execution_count": 314,
   "metadata": {},
   "outputs": [
    {
     "name": "stdout",
     "output_type": "stream",
     "text": [
      "17 [17, 37] [0, 11]\n",
      "544\n",
      "+++++++++++++++\n",
      "544 [17, 37, 739] [0, 11, 17]\n",
      "50235\n",
      "+++++++++++++++\n",
      "50235 [17, 37, 739, 29] [0, 11, 17, 19]\n",
      "9346855\n",
      "+++++++++++++++\n",
      "9346855 [17, 37, 739, 29, 13] [0, 11, 17, 19, 30]\n",
      "103707548\n",
      "+++++++++++++++\n",
      "103707548 [17, 37, 739, 29, 13, 23] [0, 11, 17, 19, 30, 40]\n"
     ]
    },
    {
     "ename": "KeyboardInterrupt",
     "evalue": "",
     "output_type": "error",
     "traceback": [
      "\u001b[0;31m---------------------------------------------------------------------------\u001b[0m",
      "\u001b[0;31mKeyboardInterrupt\u001b[0m                         Traceback (most recent call last)",
      "\u001b[0;32m<ipython-input-314-47adf041b98e>\u001b[0m in \u001b[0;36m<module>\u001b[0;34m()\u001b[0m\n\u001b[0;32m----> 1\u001b[0;31m \u001b[0mfind_t2\u001b[0m\u001b[0;34m(\u001b[0m\u001b[0mbusses\u001b[0m\u001b[0;34m)\u001b[0m\u001b[0;34m\u001b[0m\u001b[0;34m\u001b[0m\u001b[0m\n\u001b[0m",
      "\u001b[0;32m<ipython-input-299-2f938d61bd44>\u001b[0m in \u001b[0;36mfind_t2\u001b[0;34m(busses)\u001b[0m\n\u001b[1;32m      5\u001b[0m     \u001b[0mcur_multiplier\u001b[0m \u001b[0;34m=\u001b[0m \u001b[0mloops\u001b[0m\u001b[0;34m[\u001b[0m\u001b[0;36m0\u001b[0m\u001b[0;34m]\u001b[0m\u001b[0;34m\u001b[0m\u001b[0;34m\u001b[0m\u001b[0m\n\u001b[1;32m      6\u001b[0m     \u001b[0;32mfor\u001b[0m \u001b[0mx\u001b[0m \u001b[0;32min\u001b[0m \u001b[0mrange\u001b[0m\u001b[0;34m(\u001b[0m\u001b[0;36m1\u001b[0m\u001b[0;34m,\u001b[0m \u001b[0mlen\u001b[0m\u001b[0;34m(\u001b[0m\u001b[0mloops\u001b[0m\u001b[0;34m)\u001b[0m\u001b[0;34m)\u001b[0m\u001b[0;34m:\u001b[0m\u001b[0;34m\u001b[0m\u001b[0;34m\u001b[0m\u001b[0m\n\u001b[0;32m----> 7\u001b[0;31m         \u001b[0mcur_multiplier\u001b[0m \u001b[0;34m=\u001b[0m \u001b[0mget_multiplier\u001b[0m\u001b[0;34m(\u001b[0m\u001b[0mcur_multiplier\u001b[0m\u001b[0;34m,\u001b[0m \u001b[0mloops\u001b[0m\u001b[0;34m[\u001b[0m\u001b[0;36m0\u001b[0m\u001b[0;34m:\u001b[0m\u001b[0mx\u001b[0m\u001b[0;34m+\u001b[0m\u001b[0;36m1\u001b[0m\u001b[0;34m]\u001b[0m\u001b[0;34m,\u001b[0m \u001b[0moffsets\u001b[0m\u001b[0;34m[\u001b[0m\u001b[0;36m0\u001b[0m\u001b[0;34m:\u001b[0m\u001b[0mx\u001b[0m\u001b[0;34m+\u001b[0m\u001b[0;36m1\u001b[0m\u001b[0;34m]\u001b[0m\u001b[0;34m)\u001b[0m\u001b[0;34m\u001b[0m\u001b[0;34m\u001b[0m\u001b[0m\n\u001b[0m\u001b[1;32m      8\u001b[0m         \u001b[0mprint\u001b[0m\u001b[0;34m(\u001b[0m\u001b[0mcur_multiplier\u001b[0m\u001b[0;34m)\u001b[0m\u001b[0;34m\u001b[0m\u001b[0;34m\u001b[0m\u001b[0m\n\u001b[1;32m      9\u001b[0m         \u001b[0mprint\u001b[0m\u001b[0;34m(\u001b[0m\u001b[0;34m'+++++++++++++++'\u001b[0m\u001b[0;34m)\u001b[0m\u001b[0;34m\u001b[0m\u001b[0;34m\u001b[0m\u001b[0m\n",
      "\u001b[0;32m<ipython-input-309-b5208651dcad>\u001b[0m in \u001b[0;36mget_multiplier\u001b[0;34m(cur_multiplier, loops, offsets)\u001b[0m\n\u001b[1;32m      4\u001b[0m     \u001b[0;32mwhile\u001b[0m \u001b[0;32mnot\u001b[0m \u001b[0mfound\u001b[0m\u001b[0;34m:\u001b[0m\u001b[0;34m\u001b[0m\u001b[0;34m\u001b[0m\u001b[0m\n\u001b[1;32m      5\u001b[0m         \u001b[0mcur_multiplier\u001b[0m \u001b[0;34m+=\u001b[0m \u001b[0;36m1\u001b[0m\u001b[0;34m\u001b[0m\u001b[0;34m\u001b[0m\u001b[0m\n\u001b[0;32m----> 6\u001b[0;31m         \u001b[0mfound\u001b[0m \u001b[0;34m=\u001b[0m \u001b[0mcheck_relationship\u001b[0m\u001b[0;34m(\u001b[0m\u001b[0mcur_multiplier\u001b[0m\u001b[0;34m,\u001b[0m \u001b[0mloops\u001b[0m\u001b[0;34m,\u001b[0m \u001b[0moffsets\u001b[0m\u001b[0;34m)\u001b[0m\u001b[0;34m\u001b[0m\u001b[0;34m\u001b[0m\u001b[0m\n\u001b[0m\u001b[1;32m      7\u001b[0m     \u001b[0;32mreturn\u001b[0m \u001b[0mcur_multiplier\u001b[0m\u001b[0;34m\u001b[0m\u001b[0;34m\u001b[0m\u001b[0m\n",
      "\u001b[0;31mKeyboardInterrupt\u001b[0m: "
     ]
    }
   ],
   "source": [
    "find_t2(busses)"
   ]
  },
  {
   "cell_type": "code",
   "execution_count": 301,
   "metadata": {},
   "outputs": [
    {
     "name": "stdout",
     "output_type": "stream",
     "text": [
      "6\n"
     ]
    },
    {
     "data": {
      "text/plain": [
       "102"
      ]
     },
     "execution_count": 301,
     "metadata": {},
     "output_type": "execute_result"
    }
   ],
   "source": [
    "find_t(busses[:3])"
   ]
  },
  {
   "cell_type": "code",
   "execution_count": 144,
   "metadata": {},
   "outputs": [],
   "source": [
    "busses = '2,3,5'.split(',')"
   ]
  },
  {
   "cell_type": "code",
   "execution_count": 148,
   "metadata": {},
   "outputs": [],
   "source": [
    "import random"
   ]
  },
  {
   "cell_type": "code",
   "execution_count": 236,
   "metadata": {},
   "outputs": [],
   "source": [
    "tested = {}"
   ]
  },
  {
   "cell_type": "code",
   "execution_count": 191,
   "metadata": {},
   "outputs": [],
   "source": [
    "def make_schedule(values=[2,3,4], max_x=3):\n",
    "    schedule = []\n",
    "    for bus in values:\n",
    "        schedule.append(str(bus))\n",
    "        for _ in range(random.randint(0,max_x)):\n",
    "            schedule.append('x')\n",
    "    return schedule"
   ]
  },
  {
   "cell_type": "code",
   "execution_count": 243,
   "metadata": {},
   "outputs": [
    {
     "name": "stdout",
     "output_type": "stream",
     "text": [
      "['3', 'x', 'x', '2', 'x', 'x', '5', 'x']: 9\n",
      "['2', 'x', '3', 'x', 'x', '5', 'x']: 10\n",
      "['3', 'x', 'x', '2', '5', 'x', 'x']: 21\n",
      "['2', 'x', '3', 'x', '5']: 16\n",
      "['5', '2', '3']: 25\n",
      "['2', 'x', '3', 'x', 'x', '5', 'x']: 10\n",
      "['5', 'x', '3', 'x', '2', 'x']: 10\n",
      "['5', '3', 'x', '2', 'x']: 5\n",
      "['2', 'x', '5', '3', 'x']: 18\n",
      "['5', '2', 'x', '3', 'x', 'x']: 15\n",
      "['2', '3', 'x', '5']: 2\n",
      "['3', 'x', '5', 'x', 'x', '2']: 3\n",
      "['2', 'x', '3', 'x', 'x', '5', 'x', 'x']: 10\n",
      "['3', '5', 'x', 'x', '2', 'x', 'x']: 24\n",
      "['5', '3', 'x', '2']: 5\n",
      "['5', 'x', '3', 'x', '2']: 10\n",
      "['5', '2', 'x', '3', 'x']: 15\n",
      "['5', 'x', 'x', '2', '3', 'x']: 5\n",
      "['5', 'x', 'x', '2', 'x', '3']: 25\n",
      "['3', 'x', '2', '5']: 12\n"
     ]
    }
   ],
   "source": [
    "for _ in range(20):\n",
    "    nums = [2,3,5] \n",
    "    to_test = nums\n",
    "    max_x = 2\n",
    "    random.shuffle(to_test)\n",
    "    schedule = make_schedule(to_test, max_x)\n",
    "    print(schedule, end=': ')\n",
    "    t = find_t(schedule)\n",
    "    if t < 0:\n",
    "        print('Not found')\n",
    "    else:\n",
    "        print(t)\n",
    "    if tested.get(tuple(to_test)) is None:\n",
    "        tested[tuple(to_test)] = [(schedule, t, max_x)]\n",
    "    else:\n",
    "        if (schedule, t, max_x) not in tested[tuple(to_test)]:\n",
    "            tested[tuple(to_test)].append((schedule, t, max_x))"
   ]
  },
  {
   "cell_type": "code",
   "execution_count": 244,
   "metadata": {},
   "outputs": [
    {
     "data": {
      "text/plain": [
       "{(2, 3, 5): [(['2', '3', '5'], 8, 0),\n",
       "  (['2', '3', '5'], 8, 1),\n",
       "  (['2', 'x', '3', '5'], 22, 1),\n",
       "  (['2', '3', '5', 'x', 'x'], 8, 2),\n",
       "  (['2', 'x', '3', 'x', 'x', '5', 'x', 'x'], 10, 2),\n",
       "  (['2', 'x', '3', 'x', 'x', '5', 'x'], 10, 2),\n",
       "  (['2', 'x', '3', 'x', '5'], 16, 2),\n",
       "  (['2', '3', 'x', '5'], 2, 2)],\n",
       " (2, 5, 3): [(['2', '5', '3'], 4, 0),\n",
       "  (['2', '5', 'x', '3', 'x'], 24, 1),\n",
       "  (['2', '5', '3', 'x'], 4, 2),\n",
       "  (['2', 'x', '5', '3', 'x', 'x'], 18, 2),\n",
       "  (['2', 'x', 'x', '5', 'x', '3'], 22, 2),\n",
       "  (['2', 'x', '5', '3', 'x'], 18, 2)],\n",
       " (3, 2, 5): [(['3', '2', '5'], 3, 0),\n",
       "  (['3', 'x', '2', 'x', '5', 'x'], 6, 1),\n",
       "  (['3', '2', '5'], 3, 1),\n",
       "  (['3', 'x', '2', '5', 'x'], 12, 1),\n",
       "  (['3', '2', 'x', '5', 'x'], 27, 1),\n",
       "  (['3', 'x', '2', 'x', '5'], 6, 1),\n",
       "  (['3', '2', 'x', '5', 'x', 'x'], 27, 2),\n",
       "  (['3', 'x', '2', 'x', '5'], 6, 2),\n",
       "  (['3', 'x', 'x', '2', '5', 'x'], 21, 2),\n",
       "  (['3', 'x', '2', 'x', 'x', '5', 'x'], 0, 2),\n",
       "  (['3', 'x', 'x', '2', 'x', '5'], 15, 2),\n",
       "  (['3', '2', 'x', 'x', '5'], 21, 2),\n",
       "  (['3', 'x', 'x', '2', 'x', 'x', '5', 'x'], 9, 2),\n",
       "  (['3', 'x', 'x', '2', '5', 'x', 'x'], 21, 2),\n",
       "  (['3', 'x', '2', '5'], 12, 2)],\n",
       " (3, 5, 2): [(['3', '5', '2'], 24, 0),\n",
       "  (['3', '5', 'x', '2'], 9, 1),\n",
       "  (['3', 'x', '5', 'x', '2'], 18, 1),\n",
       "  (['3', 'x', '5', '2', 'x'], 3, 2),\n",
       "  (['3', 'x', 'x', '5', 'x', 'x', '2'], 12, 2),\n",
       "  (['3', 'x', 'x', '5', '2', 'x', 'x'], 12, 2),\n",
       "  (['3', 'x', '5', 'x', 'x', '2'], 3, 2),\n",
       "  (['3', '5', 'x', 'x', '2', 'x', 'x'], 24, 2)],\n",
       " (5, 2, 3): [(['5', '2', '3'], 25, 0),\n",
       "  (['5', 'x', '2', '3'], 30, 1),\n",
       "  (['5', 'x', '2', 'x', '3', 'x'], 20, 1),\n",
       "  (['5', 'x', '2', 'x', 'x', '3', 'x', 'x'], 10, 2),\n",
       "  (['5', '2', 'x', 'x', '3', 'x', 'x'], 5, 2),\n",
       "  (['5', '2', '3'], 25, 2),\n",
       "  (['5', '2', 'x', '3', 'x', 'x'], 15, 2),\n",
       "  (['5', '2', 'x', '3', 'x'], 15, 2),\n",
       "  (['5', 'x', 'x', '2', '3', 'x'], 5, 2),\n",
       "  (['5', 'x', 'x', '2', 'x', '3'], 25, 2)],\n",
       " (5, 3, 2): [(['5', '3', '2'], 20, 0),\n",
       "  (['5', '3', '2'], 20, 1),\n",
       "  (['5', 'x', '3', 'x', '2'], 10, 1),\n",
       "  (['5', '3', '2', 'x'], 20, 1),\n",
       "  (['5', 'x', '3', 'x', '2', 'x'], 10, 1),\n",
       "  (['5', '3', 'x', '2', 'x'], 5, 1),\n",
       "  (['5', '3', 'x', '2', 'x', 'x'], 5, 2),\n",
       "  (['5', '3', 'x', 'x', '2', 'x', 'x'], 20, 2),\n",
       "  (['5', 'x', '3', 'x', '2', 'x'], 10, 2),\n",
       "  (['5', '3', 'x', '2', 'x'], 5, 2),\n",
       "  (['5', '3', 'x', '2'], 5, 2),\n",
       "  (['5', 'x', '3', 'x', '2'], 10, 2)]}"
      ]
     },
     "execution_count": 244,
     "metadata": {},
     "output_type": "execute_result"
    }
   ],
   "source": [
    "tested"
   ]
  },
  {
   "cell_type": "code",
   "execution_count": 245,
   "metadata": {},
   "outputs": [
    {
     "ename": "ModuleNotFoundError",
     "evalue": "No module named 'sympy'",
     "output_type": "error",
     "traceback": [
      "\u001b[0;31m---------------------------------------------------------------------------\u001b[0m",
      "\u001b[0;31mModuleNotFoundError\u001b[0m                       Traceback (most recent call last)",
      "\u001b[0;32m<ipython-input-245-f3b5e8a7e105>\u001b[0m in \u001b[0;36m<module>\u001b[0;34m()\u001b[0m\n\u001b[0;32m----> 1\u001b[0;31m \u001b[0;32mimport\u001b[0m \u001b[0msympy\u001b[0m\u001b[0;34m\u001b[0m\u001b[0;34m\u001b[0m\u001b[0m\n\u001b[0m",
      "\u001b[0;31mModuleNotFoundError\u001b[0m: No module named 'sympy'"
     ]
    }
   ],
   "source": []
  },
  {
   "cell_type": "code",
   "execution_count": null,
   "metadata": {},
   "outputs": [],
   "source": []
  },
  {
   "cell_type": "code",
   "execution_count": 315,
   "metadata": {},
   "outputs": [],
   "source": [
    "bus_offsets = [(i, int(b)) for i, b in enumerate(busses) if b != 'x']\n"
   ]
  },
  {
   "cell_type": "code",
   "execution_count": 316,
   "metadata": {},
   "outputs": [
    {
     "data": {
      "text/plain": [
       "[(0, 17),\n",
       " (11, 37),\n",
       " (17, 739),\n",
       " (19, 29),\n",
       " (30, 13),\n",
       " (40, 23),\n",
       " (48, 971),\n",
       " (58, 41),\n",
       " (67, 19)]"
      ]
     },
     "execution_count": 316,
     "metadata": {},
     "output_type": "execute_result"
    }
   ],
   "source": [
    "bus_offsets"
   ]
  },
  {
   "cell_type": "code",
   "execution_count": 317,
   "metadata": {},
   "outputs": [],
   "source": [
    "import math"
   ]
  },
  {
   "cell_type": "code",
   "execution_count": 322,
   "metadata": {},
   "outputs": [],
   "source": [
    "max_lcm = 1\n",
    "best_offset = 0"
   ]
  },
  {
   "cell_type": "code",
   "execution_count": 332,
   "metadata": {},
   "outputs": [
    {
     "name": "stdout",
     "output_type": "stream",
     "text": [
      "++++++++++++++++++\n",
      "0\n",
      "[17]\n",
      "17 1\n",
      "17\n",
      "++++++++++++++++++\n",
      "11\n",
      "[37]\n",
      "37 1\n",
      "37\n",
      "++++++++++++++++++\n",
      "17\n",
      "[17, 739, 13, 23, 41]\n",
      "17 1\n",
      "17\n",
      "739 17\n",
      "12563\n",
      "13 12563\n",
      "163319\n",
      "23 163319\n",
      "3756337\n",
      "41 3756337\n",
      "154009817\n",
      "++++++++++++++++++\n",
      "19\n",
      "[29]\n",
      "29 1\n",
      "29\n",
      "++++++++++++++++++\n",
      "30\n",
      "[13]\n",
      "13 1\n",
      "13\n",
      "++++++++++++++++++\n",
      "40\n",
      "[23]\n",
      "23 1\n",
      "23\n",
      "++++++++++++++++++\n",
      "48\n",
      "[37, 29, 971, 19]\n",
      "37 1\n",
      "37\n",
      "29 37\n",
      "1073\n",
      "971 1073\n",
      "1041883\n",
      "19 1041883\n",
      "19795777\n",
      "++++++++++++++++++\n",
      "58\n",
      "[41]\n",
      "41 1\n",
      "41\n",
      "++++++++++++++++++\n",
      "67\n",
      "[19]\n",
      "19 1\n",
      "19\n"
     ]
    }
   ],
   "source": [
    "for offset, _ in bus_offsets:\n",
    "    print('++++++++++++++++++')\n",
    "    print(offset)\n",
    "    bus_multiples = [b for i, b in bus_offsets if (i-offset) % b == 0]\n",
    "    print(bus_multiples)\n",
    "    lcm = 1\n",
    "    for m in bus_multiples:\n",
    "        print(m, lcm)\n",
    "        lcm *= m // math.gcd(m, lcm)\n",
    "        print(lcm)\n",
    "\n",
    "    if lcm > max_lcm:\n",
    "        best_offset = offset\n",
    "        max_lcm = lcm"
   ]
  },
  {
   "cell_type": "code",
   "execution_count": 329,
   "metadata": {},
   "outputs": [
    {
     "data": {
      "text/plain": [
       "12563"
      ]
     },
     "execution_count": 329,
     "metadata": {},
     "output_type": "execute_result"
    }
   ],
   "source": [
    "(739 * 17) // math.gcd(739, 17)"
   ]
  },
  {
   "cell_type": "code",
   "execution_count": 324,
   "metadata": {},
   "outputs": [
    {
     "data": {
      "text/plain": [
       "154009817"
      ]
     },
     "execution_count": 324,
     "metadata": {},
     "output_type": "execute_result"
    }
   ],
   "source": [
    "max_lcm"
   ]
  },
  {
   "cell_type": "code",
   "execution_count": 326,
   "metadata": {},
   "outputs": [
    {
     "data": {
      "text/plain": [
       "17"
      ]
     },
     "execution_count": 326,
     "metadata": {},
     "output_type": "execute_result"
    }
   ],
   "source": [
    "best_offset"
   ]
  },
  {
   "cell_type": "code",
   "execution_count": null,
   "metadata": {},
   "outputs": [],
   "source": []
  }
 ],
 "metadata": {
  "kernelspec": {
   "display_name": "Python [default]",
   "language": "python",
   "name": "python3"
  },
  "language_info": {
   "codemirror_mode": {
    "name": "ipython",
    "version": 3
   },
   "file_extension": ".py",
   "mimetype": "text/x-python",
   "name": "python",
   "nbconvert_exporter": "python",
   "pygments_lexer": "ipython3",
   "version": "3.6.7"
  }
 },
 "nbformat": 4,
 "nbformat_minor": 4
}
