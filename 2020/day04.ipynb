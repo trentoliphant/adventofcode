{
 "cells": [
  {
   "cell_type": "code",
   "execution_count": 4,
   "metadata": {},
   "outputs": [],
   "source": [
    "import re"
   ]
  },
  {
   "cell_type": "code",
   "execution_count": 78,
   "metadata": {},
   "outputs": [],
   "source": [
    "data = open('data/day04.txt').read().split(\"\\n\\n\")"
   ]
  },
  {
   "cell_type": "code",
   "execution_count": 79,
   "metadata": {},
   "outputs": [],
   "source": [
    "psprts = data"
   ]
  },
  {
   "cell_type": "code",
   "execution_count": 40,
   "metadata": {},
   "outputs": [],
   "source": [
    "nocid = '(hgt|eyr|pid|iyr|ecl|hcl|byr):([^ \\n]*)'\n",
    "comp = re.compile(nocid, re.MULTILINE)"
   ]
  },
  {
   "cell_type": "code",
   "execution_count": 80,
   "metadata": {},
   "outputs": [
    {
     "name": "stdout",
     "output_type": "stream",
     "text": [
      "190\n"
     ]
    }
   ],
   "source": [
    "valid = []\n",
    "invalid = []\n",
    "for psprt in psprts:\n",
    "    fields = comp.findall(psprt)\n",
    "    if len(fields) == 7:\n",
    "        valid.append(fields)\n",
    "    else:\n",
    "        invalid.append(fields)\n",
    "print(len(valid))"
   ]
  },
  {
   "cell_type": "code",
   "execution_count": 105,
   "metadata": {},
   "outputs": [],
   "source": [
    "MAX_HEX_VAL = int('ffffff', 16)"
   ]
  },
  {
   "cell_type": "code",
   "execution_count": 38,
   "metadata": {},
   "outputs": [],
   "source": [
    "test = \"\"\"\n",
    "ecl:gry pid:860033327 eyr:2020 hcl:#fffffd\n",
    "byr:1937 iyr:2017 cid:147 hgt:183cm\n",
    "\n",
    "iyr:2013 ecl:amb cid:350 eyr:2023 pid:028048884\n",
    "hcl:#cfa07d byr:1929\n",
    "\n",
    "hcl:#ae17e1 iyr:2013\n",
    "eyr:2024\n",
    "ecl:brn pid:760753108 byr:1931\n",
    "hgt:179cm\n",
    "\n",
    "hcl:#cfa07d eyr:2025 pid:166559648\n",
    "iyr:2011 ecl:brn hgt:59in\n",
    "\"\"\""
   ]
  },
  {
   "cell_type": "code",
   "execution_count": 47,
   "metadata": {},
   "outputs": [],
   "source": [
    "test_valid = \"\"\"\n",
    "pid:087499704 hgt:74in ecl:grn iyr:2012 eyr:2030 byr:1980\n",
    "hcl:#623a2f\n",
    "\n",
    "eyr:2029 ecl:blu cid:129 byr:1989\n",
    "iyr:2014 pid:896056539 hcl:#a97842 hgt:165cm\n",
    "\n",
    "hcl:#888785\n",
    "hgt:164cm byr:2001 iyr:2015 cid:88\n",
    "pid:545766238 ecl:hzl\n",
    "eyr:2022\n",
    "\n",
    "iyr:2010 hgt:158cm hcl:#b6652a ecl:blu byr:1944 eyr:2021 pid:093154719\n",
    "\"\"\"\n",
    "test_invalid = \"\"\"\n",
    "eyr:1972 cid:100\n",
    "hcl:#18171d ecl:amb hgt:170 pid:186cm iyr:2018 byr:1926\n",
    "\n",
    "iyr:2019\n",
    "hcl:#602927 eyr:1967 hgt:170cm\n",
    "ecl:grn pid:012533040 byr:1946\n",
    "\n",
    "hcl:dab227 iyr:2012\n",
    "ecl:brn hgt:182cm pid:021572410 eyr:2020 byr:1992 cid:277\n",
    "\n",
    "hgt:59cm ecl:zzz\n",
    "eyr:2038 hcl:74454a iyr:2023\n",
    "pid:3556412378 byr:2007\n",
    "\"\"\""
   ]
  },
  {
   "cell_type": "code",
   "execution_count": null,
   "metadata": {},
   "outputs": [],
   "source": []
  },
  {
   "cell_type": "code",
   "execution_count": null,
   "metadata": {},
   "outputs": [],
   "source": []
  },
  {
   "cell_type": "code",
   "execution_count": null,
   "metadata": {},
   "outputs": [],
   "source": []
  },
  {
   "cell_type": "code",
   "execution_count": 62,
   "metadata": {},
   "outputs": [],
   "source": [
    "psprts = test_invalid.split(\"\\n\\n\")"
   ]
  },
  {
   "cell_type": "code",
   "execution_count": 63,
   "metadata": {},
   "outputs": [
    {
     "data": {
      "text/plain": [
       "['\\neyr:1972 cid:100\\nhcl:#18171d ecl:amb hgt:170 pid:186cm iyr:2018 byr:1926',\n",
       " 'iyr:2019\\nhcl:#602927 eyr:1967 hgt:170cm\\necl:grn pid:012533040 byr:1946',\n",
       " 'hcl:dab227 iyr:2012\\necl:brn hgt:182cm pid:021572410 eyr:2020 byr:1992 cid:277',\n",
       " 'hgt:59cm ecl:zzz\\neyr:2038 hcl:74454a iyr:2023\\npid:3556412378 byr:2007\\n']"
      ]
     },
     "execution_count": 63,
     "metadata": {},
     "output_type": "execute_result"
    }
   ],
   "source": [
    "psprts"
   ]
  },
  {
   "cell_type": "code",
   "execution_count": 20,
   "metadata": {},
   "outputs": [],
   "source": [
    "def is_year_valid(year_str, low, high):\n",
    "    try:\n",
    "        year = int(year_str)\n",
    "    except:\n",
    "        return False\n",
    "    return low <= year <= high"
   ]
  },
  {
   "cell_type": "code",
   "execution_count": 108,
   "metadata": {},
   "outputs": [],
   "source": [
    "def is_valid(field, value):\n",
    "    try:\n",
    "        if field == 'byr':\n",
    "            year = int(value)\n",
    "            return 1920 <= year <= 2002\n",
    "        if field == 'iyr':\n",
    "            year = int(value)\n",
    "            return 2010 <= year <= 2020\n",
    "        if field == 'eyr':\n",
    "            year = int(value)\n",
    "            return 2020 <= year <= 2030\n",
    "        if field == 'hgt':\n",
    "            units = value[-2:]\n",
    "            hgt = int(value[:-2])\n",
    "            if units not in ['in','cm']:\n",
    "                return false\n",
    "            if units == 'in':\n",
    "                return 59 <= hgt <= 76\n",
    "            else:\n",
    "                return 150 <= hgt <= 193\n",
    "        if field == 'hcl':\n",
    "            return value[0] == '#' and int(value[1:], 16) < MAX_HEX_VAL\n",
    "        if field == 'ecl':\n",
    "            return value in ['amb', 'blu', 'brn', 'gry', 'grn', 'hzl', 'oth']\n",
    "        if field == 'pid':\n",
    "            return len(value) == 9 and int(value) < 1000000000\n",
    "    except:\n",
    "        return False"
   ]
  },
  {
   "cell_type": "code",
   "execution_count": 109,
   "metadata": {},
   "outputs": [
    {
     "name": "stdout",
     "output_type": "stream",
     "text": [
      "121\n"
     ]
    }
   ],
   "source": [
    "validated = []\n",
    "invalidated = []\n",
    "invalid_field = {}\n",
    "for psprt in psprts:\n",
    "    fields = comp.findall(psprt)\n",
    "    valid = len(fields) == 7\n",
    "#     print(fields, valid)\n",
    "    for field in fields:\n",
    "        valid = valid and is_valid(*field)\n",
    "        if not valid:\n",
    "            if len(fields) != 7:\n",
    "                invalid_field[psprt] = 'Missing Field'\n",
    "            else:\n",
    "                invalid_field[psprt] = field\n",
    "            break\n",
    "#         print(field, valid)\n",
    "    if valid:\n",
    "        validated.append(fields)\n",
    "    else:\n",
    "        invalidated.append(fields)\n",
    "print(len(validated))"
   ]
  },
  {
   "cell_type": "code",
   "execution_count": 104,
   "metadata": {},
   "outputs": [
    {
     "data": {
      "text/plain": [
       "{'byr:1921 eyr:2025 iyr:2014 pid:719127279 ecl:brn hcl:#cfa07d cid:243 hgt:176cm': ('hcl',\n",
       "  '#cfa07d'),\n",
       " 'byr:1926 hcl:#c0946f iyr:2010 hgt:155cm ecl:gry pid:475722917\\neyr:2030': ('hcl',\n",
       "  '#c0946f'),\n",
       " 'byr:1933 ecl:hzl\\nhcl:#c0946f iyr:2013 pid:655452550\\nhgt:170cm\\neyr:2024': ('hcl',\n",
       "  '#c0946f'),\n",
       " 'byr:1933 ecl:hzl\\nhgt:179cm\\npid:500053352 eyr:2020 hcl:#fffffd\\niyr:2014': ('hcl',\n",
       "  '#fffffd'),\n",
       " 'byr:1945 pid:646444288 iyr:2020\\neyr:2023 hgt:186cm': 'Missing Field',\n",
       " 'byr:1950 ecl:blu hgt:163cm\\npid:455597862 cid:302 eyr:2027\\nhcl:#341e13 iyr:2015': ('hcl',\n",
       "  '#341e13'),\n",
       " 'byr:1953 hgt:190cm\\npid:156cm hcl:#7d3b0c eyr:2022 ecl:#1b0b35 iyr:2015': ('pid',\n",
       "  '156cm'),\n",
       " 'byr:1955\\npid:947711080\\ncid:149 ecl:amb\\nhgt:150cm\\nhcl:#341e13 eyr:2022 iyr:2016': ('hcl',\n",
       "  '#341e13'),\n",
       " 'byr:1955 hgt:68cm\\nhcl:#67dac3 eyr:2031 pid:502641687 ecl:oth iyr:1922': ('hgt',\n",
       "  '68cm'),\n",
       " 'byr:1958 iyr:2019 hgt:163cm eyr:2029\\npid:384542472 hcl:819959\\necl:#866be8': ('hcl',\n",
       "  '819959'),\n",
       " 'byr:1966 ecl:grn pid:597443937\\niyr:2014 eyr:2029': 'Missing Field',\n",
       " 'byr:1967\\niyr:2015 pid:142177822 hgt:157cm ecl:oth eyr:2024 cid:221': 'Missing Field',\n",
       " 'byr:1969 eyr:2021\\niyr:2012\\npid:318752605 hgt:179cm\\ncid:81 hcl:#888785': 'Missing Field',\n",
       " 'byr:1969 hcl:#a97842 cid:226\\niyr:2011 pid:621770561\\neyr:2024 ecl:blu': 'Missing Field',\n",
       " 'byr:1969 hcl:#a97842 ecl:gry eyr:2027 pid:835656333 hgt:152cm cid:324 iyr:2014': ('hcl',\n",
       "  '#a97842'),\n",
       " 'byr:1974 hcl:#6b5442 pid:562222331 hgt:68in\\ncid:319\\necl:grn\\niyr:2012 eyr:2028': ('hcl',\n",
       "  '#6b5442'),\n",
       " 'byr:1976\\necl:hzl iyr:2015 hgt:178cm eyr:2022 hcl:#341e13\\npid:473630095': ('hcl',\n",
       "  '#341e13'),\n",
       " 'byr:1979 iyr:2020 ecl:brn\\nhcl:#6b5442\\npid:492860333 hgt:168cm eyr:2030': ('hcl',\n",
       "  '#6b5442'),\n",
       " 'byr:1994 hgt:152cm pid:198152466\\neyr:2022 ecl:hzl hcl:#4df239 iyr:2020': ('hcl',\n",
       "  '#4df239'),\n",
       " 'byr:2001 pid:332016728\\niyr:2018 cid:89\\neyr:2031 hgt:155cm ecl:zzz\\nhcl:#866857': ('eyr',\n",
       "  '2031'),\n",
       " 'byr:2002\\ncid:98 pid:828911903 eyr:2030 ecl:blu hgt:65in hcl:#74b1dc': 'Missing Field',\n",
       " 'byr:2004 iyr:2021 pid:165cm ecl:#7e7d04\\nhcl:#18171d\\neyr:2035 hgt:61': ('byr',\n",
       "  '2004'),\n",
       " 'byr:2009\\necl:#893922\\niyr:2020 hcl:a59633 hgt:170in eyr:1995\\npid:28540793': ('byr',\n",
       "  '2009'),\n",
       " 'byr:2014\\npid:9029821667 hgt:59cm eyr:2035 hcl:e9c79a\\niyr:2010': 'Missing Field',\n",
       " 'byr:2015\\npid:164cm hgt:90 eyr:2036 iyr:1947 hcl:b7b0e6 ecl:#fd96b3': ('byr',\n",
       "  '2015'),\n",
       " 'byr:2018\\ncid:150 eyr:2033 pid:043853978 iyr:2017 hgt:61cm hcl:z\\necl:#f19d87': ('byr',\n",
       "  '2018'),\n",
       " 'byr:2023\\nhcl:z pid:3586415546 iyr:2022 cid:209 hgt:188in ecl:brn': 'Missing Field',\n",
       " 'byr:2028 iyr:2013 ecl:#376cda\\neyr:1928 pid:#c135ce hcl:z hgt:185in': ('byr',\n",
       "  '2028'),\n",
       " 'cid:130 hgt:187in eyr:2040\\necl:brn\\niyr:2020\\nhcl:z pid:7364218001\\nbyr:1949': ('hgt',\n",
       "  '187in'),\n",
       " 'cid:161\\nhcl:#b6652a iyr:2016\\nbyr:1930 ecl:oth pid:000425745 hgt:167cm eyr:2022': ('hcl',\n",
       "  '#b6652a'),\n",
       " 'cid:198\\niyr:2018 hcl:#a97842 hgt:74in\\npid:279483949 eyr:2029 ecl:gry byr:1931': ('hcl',\n",
       "  '#a97842'),\n",
       " 'cid:203 eyr:2028 iyr:2019\\nbyr:1939\\nhcl:#18171d pid:091534428 hgt:175cm': 'Missing Field',\n",
       " 'cid:244 hcl:#623a2f iyr:2012 pid:527925497\\nbyr:1957\\neyr:2024 ecl:brn': 'Missing Field',\n",
       " 'cid:319 eyr:2026 iyr:2013\\nhgt:155in\\nhcl:z pid:185cm': 'Missing Field',\n",
       " 'cid:347\\nbyr:1939 hgt:151cm eyr:2026\\niyr:2010\\nhcl:#fffffd ecl:gry\\npid:562919031': ('hcl',\n",
       "  '#fffffd'),\n",
       " 'cid:66 hgt:165cm\\neyr:2027 iyr:2012 hcl:#b6652a ecl:amb pid:946987379 byr:1999': ('hcl',\n",
       "  '#b6652a'),\n",
       " 'cid:71 iyr:2012 byr:1950 hcl:#7d3b0c pid:803324747 eyr:2023 hgt:151cm ecl:oth': ('hcl',\n",
       "  '#7d3b0c'),\n",
       " 'cid:94\\necl:hzl byr:1972 hcl:#7d3b0c iyr:2015 pid:219956257\\neyr:2022 hgt:165cm': ('hcl',\n",
       "  '#7d3b0c'),\n",
       " 'cid:94 byr:1934 hgt:59in eyr:2022\\nhcl:#623a2f pid:573884719\\niyr:2016 ecl:oth': ('hcl',\n",
       "  '#623a2f'),\n",
       " 'ecl:#492a33\\nhgt:168cm\\niyr:2018\\nbyr:2017 cid:293\\npid:1764204298 hcl:#cfa07d eyr:2022': ('ecl',\n",
       "  '#492a33'),\n",
       " 'ecl:#535e3c hgt:84\\neyr:1963 hcl:z\\niyr:1986 pid:187cm byr:2028 cid:258': ('ecl',\n",
       "  '#535e3c'),\n",
       " 'ecl:#564a01\\nhgt:136 iyr:1984\\npid:#646419\\neyr:2032\\nhcl:z': 'Missing Field',\n",
       " 'ecl:#804adb byr:2004 hgt:181cm\\nhcl:#623a2f\\neyr:2040 pid:#57e9d1\\niyr:2028 cid:97': ('ecl',\n",
       "  '#804adb'),\n",
       " 'ecl:amb hcl:#fffffd\\nbyr:1992\\npid:266072435\\neyr:2028 iyr:2020 hgt:161cm': ('hcl',\n",
       "  '#fffffd'),\n",
       " 'ecl:blu byr:1987 cid:167 iyr:2015 hgt:189cm\\npid:797675433 eyr:2024 hcl:#6b5442': ('hcl',\n",
       "  '#6b5442'),\n",
       " 'ecl:blu hgt:186cm hcl:#c0946f pid:741255292 eyr:2022 byr:1996 iyr:2017': ('hcl',\n",
       "  '#c0946f'),\n",
       " 'ecl:blu iyr:1924 pid:866797032 hgt:193cm cid:90 hcl:#fffffd eyr:1998 byr:1990': ('iyr',\n",
       "  '1924'),\n",
       " 'ecl:blu iyr:2010 byr:1984 hgt:183\\npid:306571244 hcl:#623a2f eyr:2033 cid:113': ('hgt',\n",
       "  '183'),\n",
       " 'ecl:brn\\npid:771134604 hgt:160cm\\nbyr:1961 eyr:2020\\niyr:2012 hcl:#6b5442': ('hcl',\n",
       "  '#6b5442'),\n",
       " 'ecl:brn eyr:2029 hcl:#fffffd iyr:2018 pid:065149883 byr:1938 hgt:178cm': ('hcl',\n",
       "  '#fffffd'),\n",
       " 'ecl:brn hgt:173cm eyr:2022\\niyr:2010 pid:525711593 byr:1990': 'Missing Field',\n",
       " 'ecl:brn pid:131551626 iyr:2013 eyr:2022 byr:1949\\nhgt:155cm hcl:#18171d': ('hcl',\n",
       "  '#18171d'),\n",
       " 'ecl:gmt hgt:75cm byr:2007 eyr:2037 iyr:2028 hcl:4591f6 cid:118': 'Missing Field',\n",
       " 'ecl:grn\\nbyr:1941 pid:395943714\\neyr:2027\\nhcl:#7d3b0c\\niyr:2011 hgt:158cm': ('hcl',\n",
       "  '#7d3b0c'),\n",
       " 'ecl:grn\\neyr:1980 pid:385212564 hcl:5b27f7 hgt:160cm iyr:2016 cid:171 byr:1990': ('eyr',\n",
       "  '1980'),\n",
       " 'ecl:grn\\neyr:2022\\nbyr:1968 iyr:2017 pid:044109096': 'Missing Field',\n",
       " 'ecl:grn\\nhgt:61in iyr:1925 byr:1984 hcl:#733820\\npid:216995428 eyr:1944': ('iyr',\n",
       "  '1925'),\n",
       " 'ecl:grn byr:1964 eyr:2022\\nhgt:61in pid:202756433 hcl:#cfa07d cid:241\\niyr:2015': ('hcl',\n",
       "  '#cfa07d'),\n",
       " 'ecl:grn hcl:#c0946f\\nbyr:2028 iyr:2016 pid:950191991\\nhgt:193cm cid:93\\neyr:1935': ('hcl',\n",
       "  '#c0946f'),\n",
       " 'ecl:gry pid:561021264 cid:178 byr:1980 iyr:2010\\neyr:2028 hcl:#7d3b0c hgt:181cm': ('hcl',\n",
       "  '#7d3b0c'),\n",
       " 'ecl:hzl\\neyr:2029\\niyr:2013 byr:1952 hgt:152cm\\npid:968064648 hcl:#6b5442': ('hcl',\n",
       "  '#6b5442'),\n",
       " 'ecl:hzl byr:1982 hcl:#fffffd hgt:188cm iyr:2018 pid:039931872 cid:288 eyr:2025': ('hcl',\n",
       "  '#fffffd'),\n",
       " 'ecl:hzl eyr:2027 iyr:2019 pid:125201586\\nbyr:1947 cid:74 hcl:#341e13': 'Missing Field',\n",
       " 'ecl:lzr byr:1967 pid:50313895 hcl:34441e hgt:158in iyr:2030 eyr:2039': ('ecl',\n",
       "  'lzr'),\n",
       " 'ecl:lzr hgt:61in eyr:2025\\npid:556812665\\nbyr:1923 iyr:2019\\nhcl:e962ed': ('ecl',\n",
       "  'lzr'),\n",
       " 'ecl:oth\\nbyr:1994 iyr:2018 hgt:64in pid:136896463\\neyr:2022\\nhcl:#a97842': ('hcl',\n",
       "  '#a97842'),\n",
       " 'ecl:oth hgt:150cm byr:1937 pid:927692980 iyr:2013 eyr:2023 hcl:#623a2f': ('hcl',\n",
       "  '#623a2f'),\n",
       " 'ecl:oth hgt:185cm pid:958027833 hcl:#b6652a iyr:2028 cid:171\\neyr:1994': 'Missing Field',\n",
       " 'ecl:zzz eyr:2034\\nbyr:2022\\npid:52407584 iyr:2016 hcl:#888785\\nhgt:176in': ('ecl',\n",
       "  'zzz'),\n",
       " 'eyr:1920 pid:873476029 hgt:192cm byr:1971 ecl:gry iyr:2020 hcl:#f463f6': ('eyr',\n",
       "  '1920'),\n",
       " 'eyr:2020 iyr:2012 hgt:150cm\\nhcl:#c0946f\\nbyr:1924 ecl:amb': 'Missing Field',\n",
       " 'eyr:2021\\niyr:2015 hcl:3a6401 byr:1997 ecl:blu pid:188cm hgt:166in': ('hcl',\n",
       "  '3a6401'),\n",
       " 'eyr:2022\\necl:grn hgt:151cm iyr:2020 hcl:#83f878 byr:1982 pid:816902510': ('hcl',\n",
       "  '#83f878'),\n",
       " 'eyr:2022\\niyr:2018\\nhcl:#efcc98 cid:181\\nbyr:2029 ecl:utc hgt:188cm pid:332630362': ('hcl',\n",
       "  '#efcc98'),\n",
       " 'eyr:2022 ecl:gry\\nhgt:156cm\\npid:640711969\\nhcl:#cfa07d': 'Missing Field',\n",
       " 'eyr:2022 hgt:180cm ecl:amb hcl:#c0946f\\npid:543330083\\niyr:2014\\ncid:286 byr:1989': ('hcl',\n",
       "  '#c0946f'),\n",
       " 'eyr:2023 byr:1966 ecl:blu\\ncid:295 pid:347753668\\nhcl:#c0946f\\niyr:2010 hgt:163cm': ('hcl',\n",
       "  '#c0946f'),\n",
       " 'eyr:2023 ecl:amb\\nbyr:1942\\niyr:2012 hcl:#b6652a hgt:156cm pid:398126488': ('hcl',\n",
       "  '#b6652a'),\n",
       " 'eyr:2024\\nbyr:1983\\necl:gry\\nhgt:154cm\\niyr:2019\\npid:#f331f5 hcl:#7d3b0c cid:315': ('pid',\n",
       "  '#f331f5'),\n",
       " 'eyr:2024 hcl:#fffffd ecl:hzl hgt:188cm cid:199 byr:2015 pid:983962091 iyr:1937': ('hcl',\n",
       "  '#fffffd'),\n",
       " 'eyr:2025\\necl:grn\\npid:708755870 hgt:189cm hcl:#e23d5f\\niyr:2017 byr:1982': ('hcl',\n",
       "  '#e23d5f'),\n",
       " 'eyr:2025\\necl:grn byr:1980 iyr:2010 hgt:160cm hcl:#d03ef0 pid:474973131': ('hcl',\n",
       "  '#d03ef0'),\n",
       " 'eyr:2025 ecl:gry byr:2002 iyr:2019 hgt:174cm pid:603301922\\nhcl:#fffffd': ('hcl',\n",
       "  '#fffffd'),\n",
       " 'eyr:2025 hcl:#a97842\\nbyr:1930 pid:468404395\\niyr:2013 ecl:oth cid:220 hgt:170cm': ('hcl',\n",
       "  '#a97842'),\n",
       " 'eyr:2025 hcl:#fffffd pid:776551474\\necl:hzl hgt:169cm\\niyr:2017': 'Missing Field',\n",
       " 'eyr:2025 pid:78761845\\nhcl:#866857 iyr:2019\\nhgt:173cm ecl:blu byr:1936': ('pid',\n",
       "  '78761845'),\n",
       " 'eyr:2026 byr:1921 pid:297672804 hgt:172cm iyr:2011 ecl:brn': 'Missing Field',\n",
       " 'eyr:2026 cid:241\\nhcl:#341e13\\npid:316611397 hgt:193cm\\nbyr:1977': 'Missing Field',\n",
       " 'eyr:2027\\nbyr:1923\\nhgt:170cm pid:754104917\\niyr:2020 cid:135 hcl:#341e13\\necl:brn': ('hcl',\n",
       "  '#341e13'),\n",
       " 'eyr:2027 pid:#d676d0\\nhcl:d2fcfa hgt:154cm ecl:hzl byr:1938': 'Missing Field',\n",
       " 'eyr:2028 hgt:192cm\\nbyr:1946 pid:897533472 ecl:brn hcl:#efcc98': 'Missing Field',\n",
       " 'eyr:2029\\ncid:257 hgt:175cm\\necl:oth iyr:2016\\nhcl:#602927 pid:506432649': 'Missing Field',\n",
       " 'eyr:2029 cid:264 pid:931433692\\nbyr:1974 ecl:oth hcl:z hgt:67in iyr:2012': ('hcl',\n",
       "  'z'),\n",
       " 'eyr:2029 pid:1655089174 ecl:grn hgt:158cm iyr:2011 hcl:#b6652a byr:1926\\ncid:158': ('pid',\n",
       "  '1655089174'),\n",
       " 'eyr:2029 pid:664032828 hgt:185cm hcl:#fffffd byr:1991 ecl:grn iyr:2017': ('hcl',\n",
       "  '#fffffd'),\n",
       " 'eyr:2030 hcl:#a97842 hgt:188cm byr:2000 pid:262013450\\niyr:2018': 'Missing Field',\n",
       " 'eyr:2035\\necl:gmt hcl:71e1ef iyr:2023\\npid:4347854 byr:2017': 'Missing Field',\n",
       " 'hcl:#007d7c pid:195125455 cid:213 hgt:154cm eyr:2021 ecl:grn byr:1981': 'Missing Field',\n",
       " 'hcl:#18171d\\niyr:2017 hgt:193cm cid:183 eyr:2025 pid:728034540 ecl:hzl byr:1969': ('hcl',\n",
       "  '#18171d'),\n",
       " 'hcl:#341e13\\niyr:2006\\nbyr:2008 hgt:185 eyr:2024 ecl:utc': 'Missing Field',\n",
       " 'hcl:#341e13 iyr:2019 hgt:166cm pid:419840849 byr:1974 eyr:2026 cid:211': 'Missing Field',\n",
       " 'hcl:#623a2f pid:583448566\\nbyr:1999\\neyr:2026 hgt:179cm\\niyr:2015 ecl:gry cid:55': ('hcl',\n",
       "  '#623a2f'),\n",
       " 'hcl:#6b5442 eyr:2024 pid:7727182081\\niyr:2017\\nhgt:110 ecl:dne': 'Missing Field',\n",
       " 'hcl:#866857 pid:85618849 ecl:brn byr:1958 eyr:2025\\nhgt:111\\ncid:190': 'Missing Field',\n",
       " 'hcl:#a7a05c pid:0137262572 eyr:2023 cid:350 iyr:2015\\necl:#52d3fe hgt:190cm\\nbyr:2007': ('hcl',\n",
       "  '#a7a05c'),\n",
       " 'hcl:#b6652a\\npid:553897602 iyr:1929 ecl:grn cid:191 hgt:178cm byr:1991 eyr:2024': ('hcl',\n",
       "  '#b6652a'),\n",
       " 'hcl:#c0946f\\npid:473360783 byr:1986\\nhgt:159cm ecl:brn\\niyr:2011 eyr:2023': ('hcl',\n",
       "  '#c0946f'),\n",
       " 'hcl:#c0946f pid:899925634\\neyr:2025 byr:2020\\niyr:2016\\necl:grt hgt:173cm': ('hcl',\n",
       "  '#c0946f'),\n",
       " 'hcl:#ceb3a1\\niyr:2013 pid:592603167\\ncid:95 ecl:blu eyr:2022': 'Missing Field',\n",
       " 'hcl:#ceb3a1 pid:395843182 hgt:168cm eyr:2025 iyr:2014 byr:1991 ecl:gry cid:283': ('hcl',\n",
       "  '#ceb3a1'),\n",
       " 'hcl:#cfa07d pid:639664506 ecl:amb\\nbyr:1997 cid:137 iyr:2014 eyr:2030 hgt:67in': ('hcl',\n",
       "  '#cfa07d'),\n",
       " 'hcl:#d257c7 eyr:2036\\niyr:2018\\necl:#5b11eb\\nbyr:1950': 'Missing Field',\n",
       " 'hcl:#efcc98\\niyr:2011 pid:550968343\\necl:hzl byr:1924 eyr:2022\\nhgt:191cm cid:120': ('hcl',\n",
       "  '#efcc98'),\n",
       " 'hcl:#efcc98 ecl:blu\\nbyr:1974 iyr:2019\\nhgt:165cm\\neyr:2020 pid:755433303': ('hcl',\n",
       "  '#efcc98'),\n",
       " 'hcl:#efcc98 eyr:2024\\niyr:2010 ecl:hzl\\npid:153620883 byr:1957': 'Missing Field',\n",
       " 'hcl:100344 iyr:1933 eyr:2023 hgt:71cm byr:2010 ecl:#6a8007 pid:90001213': ('hcl',\n",
       "  '100344'),\n",
       " 'hcl:b9c0fd iyr:1996 hgt:83\\nbyr:2029 pid:#449a30\\necl:grt eyr:1925': ('hcl',\n",
       "  'b9c0fd'),\n",
       " 'hcl:de3776 eyr:2021\\ncid:234 ecl:#160982\\niyr:2017 byr:1992': 'Missing Field',\n",
       " 'hcl:z\\necl:hzl byr:2003 hgt:118 eyr:2008 iyr:2022\\npid:157cm': ('hcl', 'z'),\n",
       " 'hcl:z ecl:#769ca0 pid:180cm\\nbyr:1922 iyr:2026 eyr:2028\\nhgt:180cm': ('hcl',\n",
       "  'z'),\n",
       " 'hcl:z pid:#8d311d iyr:2023 hgt:71cm\\nbyr:1923 ecl:zzz eyr:2039': ('hcl',\n",
       "  'z'),\n",
       " 'hcl:z pid:399837694 iyr:2018 ecl:#33e59d eyr:2038\\nhgt:60in': 'Missing Field',\n",
       " 'hgt:150cm ecl:grn\\nhcl:8f3824 pid:735766540 eyr:2029\\nbyr:2000 iyr:2015': ('hcl',\n",
       "  '8f3824'),\n",
       " 'hgt:153cm\\npid:523083973 ecl:brn\\niyr:2011 byr:2000 hcl:#cfa07d\\neyr:2020 cid:114': ('hcl',\n",
       "  '#cfa07d'),\n",
       " 'hgt:156\\necl:oth\\ncid:235\\npid:609823906 iyr:2016 eyr:2021 hcl:#6b5442\\nbyr:1932': ('hgt',\n",
       "  '156'),\n",
       " 'hgt:156cm ecl:brn eyr:2023\\niyr:2011\\nhcl:#6b5442 pid:328412891 byr:1948': ('hcl',\n",
       "  '#6b5442'),\n",
       " 'hgt:159cm\\nbyr:1945 hcl:#6b5442 iyr:2027\\neyr:2024\\ncid:94 ecl:brn pid:476551927': ('hcl',\n",
       "  '#6b5442'),\n",
       " 'hgt:159cm ecl:blu\\npid:5642951907 iyr:2029 byr:1952\\nhcl:#6b5442': 'Missing Field',\n",
       " 'hgt:159cm eyr:2029 pid:854089988 iyr:2018 ecl:gry byr:1962 hcl:#efcc98': ('hcl',\n",
       "  '#efcc98'),\n",
       " 'hgt:160cm hcl:#89f1a0 eyr:2023 pid:867868252 byr:1976 iyr:2019 ecl:hzl': ('hcl',\n",
       "  '#89f1a0'),\n",
       " 'hgt:161cm hcl:#efcc98 ecl:grn eyr:2028 iyr:2014\\nbyr:1966 pid:769989459': ('hcl',\n",
       "  '#efcc98'),\n",
       " 'hgt:162cm\\nhcl:2ee8db\\nbyr:2008 iyr:2003 pid:50279629 eyr:2030 ecl:grt': ('hcl',\n",
       "  '2ee8db'),\n",
       " 'hgt:165cm cid:248 hcl:#6b5442 eyr:2026\\npid:703744314\\nbyr:1921 iyr:2020\\necl:blu': ('hcl',\n",
       "  '#6b5442'),\n",
       " 'hgt:165cm eyr:2025 ecl:oth pid:844167324 byr:1950 iyr:2014 hcl:#a97842': ('hcl',\n",
       "  '#a97842'),\n",
       " 'hgt:168cm eyr:2026 ecl:hzl hcl:#fffffd cid:169 pid:920076943\\nbyr:1929 iyr:2013': ('hcl',\n",
       "  '#fffffd'),\n",
       " 'hgt:169cm eyr:2035 pid:023983645 iyr:2014 ecl:amb hcl:#c0946f byr:1975 cid:258': ('eyr',\n",
       "  '2035'),\n",
       " 'hgt:171cm\\niyr:2010 pid:812511153 byr:1971 eyr:2026 ecl:hzl\\nhcl:#6b5442': ('hcl',\n",
       "  '#6b5442'),\n",
       " 'hgt:171cm\\npid:533365287 byr:1957 hcl:#ceb3a1 iyr:2014 ecl:amb eyr:2020\\ncid:184': ('hcl',\n",
       "  '#ceb3a1'),\n",
       " 'hgt:171cm iyr:2019 byr:1930\\necl:hzl\\neyr:2026 hcl:#a6ef22 pid:294449839': ('hcl',\n",
       "  '#a6ef22'),\n",
       " 'hgt:172cm\\nhcl:#888785 eyr:2022 pid:377797887 byr:1980': 'Missing Field',\n",
       " 'hgt:172cm byr:1923 pid:741415636 ecl:grn eyr:2022 iyr:2013': 'Missing Field',\n",
       " 'hgt:173cm pid:527615519 eyr:2024 hcl:#602927 byr:1949 ecl:oth cid:328': 'Missing Field',\n",
       " 'hgt:175cm byr:1999\\npid:409477026\\nhcl:#cfa07d\\necl:amb eyr:2021 iyr:2017 cid:75': ('hcl',\n",
       "  '#cfa07d'),\n",
       " 'hgt:177 eyr:1973 pid:83092851 cid:92 ecl:utc byr:2023 hcl:z iyr:1948': ('hgt',\n",
       "  '177'),\n",
       " 'hgt:178cm ecl:gry cid:139 hcl:#341e13 pid:390510619 eyr:2026 iyr:2012\\nbyr:1952': ('hcl',\n",
       "  '#341e13'),\n",
       " 'hgt:179cm\\nbyr:1928\\npid:933893768 hcl:#18171d ecl:gry iyr:2016 eyr:2027': ('hcl',\n",
       "  '#18171d'),\n",
       " 'hgt:179cm iyr:2013 ecl:amb hcl:#95766f pid:620956072\\nbyr:1997 eyr:2026': ('hcl',\n",
       "  '#95766f'),\n",
       " 'hgt:181in\\necl:grn eyr:2034\\nhcl:#7d3b0c byr:2018\\npid:206240985 iyr:2015': ('hgt',\n",
       "  '181in'),\n",
       " 'hgt:183cm\\neyr:2023 iyr:2019 byr:1946 pid:684966686\\ncid:307 ecl:brn hcl:#cfa07d': ('hcl',\n",
       "  '#cfa07d'),\n",
       " 'hgt:184cm hcl:#cfa07d cid:335 iyr:2018 byr:1995\\necl:grn eyr:2026 pid:435090537': ('hcl',\n",
       "  '#cfa07d'),\n",
       " 'hgt:187cm iyr:2008 pid:151cm ecl:blu eyr:1954': 'Missing Field',\n",
       " 'hgt:187cm pid:958933966\\necl:hzl byr:1955\\neyr:2027 hcl:#6b5442': 'Missing Field',\n",
       " 'hgt:189cm\\nhcl:#18171d iyr:2013\\npid:686835652 byr:1972\\necl:grn eyr:2029': ('hcl',\n",
       "  '#18171d'),\n",
       " 'hgt:191in\\neyr:2025\\ncid:128\\nbyr:2021 iyr:2015\\nhcl:5ed1ae ecl:lzr\\npid:406311551': ('hgt',\n",
       "  '191in'),\n",
       " 'hgt:59cm hcl:c5b2d7 byr:2008 iyr:2027\\necl:lzr pid:155cm\\neyr:2035': ('hgt',\n",
       "  '59cm'),\n",
       " 'hgt:68cm\\neyr:2039 hcl:#cfa07d\\npid:193cm iyr:1984\\necl:#b9ec76': 'Missing Field',\n",
       " 'hgt:68in byr:1973 hcl:#18171d ecl:hzl\\npid:701847555 eyr:2030 iyr:2019': ('hcl',\n",
       "  '#18171d'),\n",
       " 'hgt:71cm ecl:#c6c47f\\nbyr:2028 iyr:1994 eyr:2030 pid:0684877002 cid:237 hcl:#341e13': ('hgt',\n",
       "  '71cm'),\n",
       " 'hgt:71in hcl:14d37b\\nbyr:2017 cid:243 ecl:zzz pid:208245975\\niyr:2029': 'Missing Field',\n",
       " 'hgt:74in byr:1955 ecl:blu iyr:2012 hcl:#341e13 pid:165688658': 'Missing Field',\n",
       " 'hgt:75cm byr:1983 iyr:2000\\neyr:2007\\ncid:307\\npid:227345093 ecl:#080923 hcl:#ceb3a1': ('hgt',\n",
       "  '75cm'),\n",
       " 'hgt:83 ecl:hzl hcl:z eyr:2026 byr:2029': 'Missing Field',\n",
       " 'iyr:1922\\necl:gmt\\neyr:1963\\npid:#d1a6f3 hcl:z byr:2015 hgt:153in': ('iyr',\n",
       "  '1922'),\n",
       " 'iyr:1928 cid:150 pid:476113241 eyr:2039 hcl:a5ac0f\\necl:#25f8d2\\nbyr:2027 hgt:190': ('iyr',\n",
       "  '1928'),\n",
       " 'iyr:1969 cid:324 eyr:1927 ecl:lzr\\nhcl:z\\nbyr:2030 hgt:172cm\\npid:#997235': ('iyr',\n",
       "  '1969'),\n",
       " 'iyr:2006\\nhgt:103 ecl:#2d77e5 cid:214 byr:2018 hcl:6c53a4 pid:190cm eyr:1940': ('iyr',\n",
       "  '2006'),\n",
       " 'iyr:2008\\ncid:229 byr:2023 eyr:2022 hcl:#341e13\\necl:grn\\nhgt:70in pid:104660281': ('iyr',\n",
       "  '2008'),\n",
       " 'iyr:2010\\necl:grn hgt:63cm eyr:2027 hcl:#602927 pid:240973955 byr:1984 cid:280': ('hgt',\n",
       "  '63cm'),\n",
       " 'iyr:2010\\npid:121142355\\neyr:2020\\ncid:302\\nhgt:158cm ecl:amb\\nbyr:1978 hcl:#623a2f': ('hcl',\n",
       "  '#623a2f'),\n",
       " 'iyr:2010 byr:1948 hgt:169cm eyr:2022 hcl:#623a2f\\ncid:93 ecl:hzl': 'Missing Field',\n",
       " 'iyr:2010 hgt:192cm\\npid:247508683 ecl:#57a15d byr:1972\\nhcl:#602927 eyr:2024': ('ecl',\n",
       "  '#57a15d'),\n",
       " 'iyr:2012\\nbyr:1987 eyr:2020 hgt:190cm cid:298 hcl:#866857': 'Missing Field',\n",
       " 'iyr:2012 byr:1942 cid:187 pid:886132093\\nhgt:158cm ecl:hzl hcl:#1bc909': 'Missing Field',\n",
       " 'iyr:2012 ecl:oth eyr:2020\\nbyr:1965 hcl:#efcc98\\nhgt:173cm\\ncid:102 pid:302599543': ('hcl',\n",
       "  '#efcc98'),\n",
       " 'iyr:2012 hcl:#18171d eyr:2025 hgt:188cm\\necl:blu byr:1976': 'Missing Field',\n",
       " 'iyr:2013\\necl:grn eyr:2022\\npid:053411982 byr:1946 cid:302 hcl:#60ca85\\nhgt:160cm': ('hcl',\n",
       "  '#60ca85'),\n",
       " 'iyr:2013\\npid:909258239 byr:1970\\necl:utc eyr:2026\\ncid:312 hgt:158cm\\nhcl:#18171d': ('ecl',\n",
       "  'utc'),\n",
       " 'iyr:2014\\neyr:2022 pid:850258746 hcl:#a97842 byr:2022 ecl:brn hgt:178cm': ('hcl',\n",
       "  '#a97842'),\n",
       " 'iyr:2014 ecl:hzl hgt:159cm hcl:#c0946f eyr:2028 byr:1926 pid:007819051': ('hcl',\n",
       "  '#c0946f'),\n",
       " 'iyr:2014 hgt:171cm ecl:blu byr:1999\\nhcl:#6b5442 pid:813505466\\neyr:2029': ('hcl',\n",
       "  '#6b5442'),\n",
       " 'iyr:2015\\ncid:162 eyr:2020\\npid:89806820 byr:1955\\nhcl:b043dd ecl:brn': 'Missing Field',\n",
       " 'iyr:2015\\nhcl:#ceb3a1\\necl:lzr eyr:2022 hgt:173cm pid:1799325911 cid:210 byr:2018': ('hcl',\n",
       "  '#ceb3a1'),\n",
       " 'iyr:2015 ecl:oth eyr:2023 byr:1998 hcl:#ceb3a1 cid:136 pid:253146183\\nhgt:179cm': ('hcl',\n",
       "  '#ceb3a1'),\n",
       " 'iyr:2015 hcl:#733820 pid:245692263\\necl:oth byr:1960 eyr:2022': 'Missing Field',\n",
       " 'iyr:2015 hgt:165cm\\necl:gmt cid:116 hcl:z\\nbyr:1998\\neyr:2021\\npid:170cm': ('ecl',\n",
       "  'gmt'),\n",
       " 'iyr:2015 pid:106083602\\nhgt:168cm eyr:2025 ecl:gry byr:1996 cid:341\\nhcl:#fffffd': ('hcl',\n",
       "  '#fffffd'),\n",
       " 'iyr:2015 pid:294753454 byr:1980 eyr:2020\\nhgt:76in\\necl:oth\\nhcl:#a97842': ('hcl',\n",
       "  '#a97842'),\n",
       " 'iyr:2017 ecl:brn\\nhgt:165cm\\npid:818623102 byr:1968 hcl:#fffffd eyr:2020': ('hcl',\n",
       "  '#fffffd'),\n",
       " 'iyr:2018 byr:1929 ecl:brn hgt:60in eyr:2024 pid:152cm hcl:#a97842': ('pid',\n",
       "  '152cm'),\n",
       " 'iyr:2018 eyr:2026\\ncid:289 byr:1992\\nhgt:170cm pid:856187601 ecl:gry hcl:#efcc98': ('hcl',\n",
       "  '#efcc98'),\n",
       " 'iyr:2018 hcl:#cfa07d cid:80\\npid:347839572 byr:1946 eyr:2023 ecl:blu\\nhgt:163cm': ('hcl',\n",
       "  '#cfa07d'),\n",
       " 'iyr:2018 hgt:157cm hcl:#b6652a\\necl:oth byr:2002 eyr:2023': 'Missing Field',\n",
       " 'iyr:2018 pid:026680847 cid:117 hcl:#602927 hgt:67cm ecl:xry eyr:2030\\nbyr:1989': ('hgt',\n",
       "  '67cm'),\n",
       " 'iyr:2020\\necl:lzr byr:2014 eyr:2027 pid:976290173\\nhcl:#efcc98\\nhgt:192in': ('ecl',\n",
       "  'lzr'),\n",
       " 'iyr:2020 eyr:2025 byr:1942 pid:007017276 ecl:oth hgt:170cm\\nhcl:#ceb3a1 cid:104': ('hcl',\n",
       "  '#ceb3a1'),\n",
       " 'iyr:2020 hgt:192cm ecl:oth\\npid:651509606 byr:1965 eyr:2029\\nhcl:#b6652a': ('hcl',\n",
       "  '#b6652a'),\n",
       " 'iyr:2023 hgt:178cm cid:109 pid:#6eca6e hcl:#7d3b0c eyr:1961\\necl:xry byr:2012': ('iyr',\n",
       "  '2023'),\n",
       " 'iyr:2024 pid:87644548 hgt:126\\nbyr:1971 ecl:brn\\neyr:2040': 'Missing Field',\n",
       " 'iyr:2025\\npid:2210753 byr:2010 hgt:173cm cid:208\\neyr:2008 hcl:de66d6\\necl:grt': ('iyr',\n",
       "  '2025'),\n",
       " 'iyr:2027\\npid:7267919678 byr:2013 hgt:161in hcl:z ecl:brn': 'Missing Field',\n",
       " 'iyr:2030 pid:152cm cid:297 ecl:#75a512 hcl:z hgt:156in byr:2006\\neyr:2035': ('iyr',\n",
       "  '2030'),\n",
       " 'pid:034858755\\nhcl:#d93689 iyr:2012 eyr:2025\\nhgt:67cm\\necl:brn byr:2027\\ncid:306': ('hcl',\n",
       "  '#d93689'),\n",
       " 'pid:110863702\\nhcl:#341e13 iyr:2017 byr:1942 hgt:175cm cid:277 eyr:2030\\necl:amb': ('hcl',\n",
       "  '#341e13'),\n",
       " 'pid:112431133 byr:1950 hgt:174cm\\niyr:2020\\ncid:118 hcl:#341e13 eyr:2023 ecl:amb': ('hcl',\n",
       "  '#341e13'),\n",
       " 'pid:177860177\\necl:blu\\nhgt:154cm hcl:#cfa07d iyr:2015 eyr:2022\\nbyr:1977': ('hcl',\n",
       "  '#cfa07d'),\n",
       " 'pid:179cm ecl:#00a56d\\neyr:2025 hcl:eed83e iyr:1949 hgt:177in': 'Missing Field',\n",
       " 'pid:206185815 ecl:grn hcl:#cfa07d eyr:2027\\niyr:2018 byr:1989\\nhgt:176cm': ('hcl',\n",
       "  '#cfa07d'),\n",
       " 'pid:240747543 hgt:190cm\\nhcl:#18171d iyr:2013 eyr:2021 ecl:grn byr:1920': ('hcl',\n",
       "  '#18171d'),\n",
       " 'pid:2523045951 cid:203 hgt:75cm eyr:2031 hcl:#888785\\niyr:1937 byr:1988': 'Missing Field',\n",
       " 'pid:295847270 hcl:#7d3b0c ecl:oth iyr:2015\\nbyr:2000 hgt:181cm eyr:2025': ('hcl',\n",
       "  '#7d3b0c'),\n",
       " 'pid:302395756\\necl:grn hcl:z byr:2005 hgt:111 eyr:2031 cid:147': 'Missing Field',\n",
       " 'pid:306301971 ecl:#a145cc\\nhcl:z iyr:2018 cid:325 eyr:2023 byr:1942 hgt:157cm': ('ecl',\n",
       "  '#a145cc'),\n",
       " 'pid:457776708\\nbyr:1992\\nhcl:#b6652a hgt:157cm eyr:2024 iyr:2011': 'Missing Field',\n",
       " 'pid:467427172 hcl:#efcc98\\neyr:2021 byr:1923\\niyr:2012 cid:139 hgt:176cm': 'Missing Field',\n",
       " 'pid:479260033 hcl:#efcc98 iyr:2018 ecl:grn\\nbyr:1993 cid:92 hgt:165cm\\neyr:2027': ('hcl',\n",
       "  '#efcc98'),\n",
       " 'pid:480248391\\nhgt:150cm eyr:2027 cid:226 hcl:#cfa07d\\nbyr:1940 ecl:brn\\niyr:2018': ('hcl',\n",
       "  '#cfa07d'),\n",
       " 'pid:490847399\\nbyr:1963\\nhgt:69in\\niyr:2011 ecl:gry\\neyr:2027 hcl:#e4f497 cid:87': ('hcl',\n",
       "  '#e4f497'),\n",
       " 'pid:509492550 hgt:64cm eyr:2030 hcl:#b6652a byr:1986 iyr:1922 ecl:gry': ('hgt',\n",
       "  '64cm'),\n",
       " 'pid:549507973 hgt:178cm byr:1929 ecl:oth\\niyr:2020 eyr:2025\\nhcl:#7d3b0c': ('hcl',\n",
       "  '#7d3b0c'),\n",
       " 'pid:679489285\\nhgt:153cm byr:1963\\nhcl:#602927 eyr:2026 ecl:blu': 'Missing Field',\n",
       " 'pid:709465009 byr:1971 iyr:2018 hcl:#602927 ecl:oth\\ncid:222 eyr:2025': 'Missing Field',\n",
       " 'pid:826827136 eyr:2030 ecl:brn byr:1946 hcl:#a97842 iyr:2018\\nhgt:173in': ('hcl',\n",
       "  '#a97842'),\n",
       " 'pid:848442741 eyr:2030 hcl:#ceb3a1 byr:1984 iyr:2019 ecl:grn hgt:164cm': ('hcl',\n",
       "  '#ceb3a1'),\n",
       " 'pid:855195796 ecl:oth\\neyr:2030 hgt:163cm hcl:#341e13 byr:1978\\niyr:2011 cid:206': ('hcl',\n",
       "  '#341e13'),\n",
       " 'pid:883408516 eyr:2022\\niyr:2010 hgt:182cm ecl:hzl byr:2000 cid:220': 'Missing Field',\n",
       " 'pid:939011546 byr:1945\\nhgt:70in hcl:#cfa07d eyr:2027 ecl:grn iyr:2015': ('hcl',\n",
       "  '#cfa07d'),\n",
       " 'pid:992814815 eyr:2028 iyr:2017 hgt:181cm hcl:#cfa07d\\nbyr:1961 ecl:hzl': ('hcl',\n",
       "  '#cfa07d')}"
      ]
     },
     "execution_count": 104,
     "metadata": {},
     "output_type": "execute_result"
    }
   ],
   "source": [
    "invalid_field"
   ]
  },
  {
   "cell_type": "code",
   "execution_count": 85,
   "metadata": {},
   "outputs": [
    {
     "name": "stdout",
     "output_type": "stream",
     "text": [
      "ecl hzl\n"
     ]
    },
    {
     "data": {
      "text/plain": [
       "False"
      ]
     },
     "execution_count": 85,
     "metadata": {},
     "output_type": "execute_result"
    }
   ],
   "source": [
    "is_valid('ecl', 'hzl')"
   ]
  },
  {
   "cell_type": "code",
   "execution_count": 91,
   "metadata": {},
   "outputs": [
    {
     "data": {
      "text/plain": [
       "True"
      ]
     },
     "execution_count": 91,
     "metadata": {},
     "output_type": "execute_result"
    }
   ],
   "source": [
    "int('341e13', 16) < 16777215"
   ]
  },
  {
   "cell_type": "code",
   "execution_count": 92,
   "metadata": {},
   "outputs": [],
   "source": [
    "e = '#341e13'"
   ]
  },
  {
   "cell_type": "code",
   "execution_count": 93,
   "metadata": {},
   "outputs": [
    {
     "data": {
      "text/plain": [
       "True"
      ]
     },
     "execution_count": 93,
     "metadata": {},
     "output_type": "execute_result"
    }
   ],
   "source": [
    "e[0] == '#'"
   ]
  },
  {
   "cell_type": "code",
   "execution_count": 94,
   "metadata": {},
   "outputs": [
    {
     "data": {
      "text/plain": [
       "True"
      ]
     },
     "execution_count": 94,
     "metadata": {},
     "output_type": "execute_result"
    }
   ],
   "source": [
    "int(e[1:], 16) < 16777215"
   ]
  },
  {
   "cell_type": "code",
   "execution_count": 107,
   "metadata": {},
   "outputs": [
    {
     "data": {
      "text/plain": [
       "True"
      ]
     },
     "execution_count": 107,
     "metadata": {},
     "output_type": "execute_result"
    }
   ],
   "source": [
    "int('cfa07d', 16) < MAX_HEX_VAL"
   ]
  },
  {
   "cell_type": "code",
   "execution_count": null,
   "metadata": {},
   "outputs": [],
   "source": []
  }
 ],
 "metadata": {
  "kernelspec": {
   "display_name": "Python [default]",
   "language": "python",
   "name": "python3"
  },
  "language_info": {
   "codemirror_mode": {
    "name": "ipython",
    "version": 3
   },
   "file_extension": ".py",
   "mimetype": "text/x-python",
   "name": "python",
   "nbconvert_exporter": "python",
   "pygments_lexer": "ipython3",
   "version": "3.6.7"
  }
 },
 "nbformat": 4,
 "nbformat_minor": 4
}
