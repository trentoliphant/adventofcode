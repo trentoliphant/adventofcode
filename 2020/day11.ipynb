{
 "cells": [
  {
   "cell_type": "code",
   "execution_count": 128,
   "metadata": {},
   "outputs": [],
   "source": [
    "seats =  open('data/day11.txt').read().split()"
   ]
  },
  {
   "cell_type": "code",
   "execution_count": 17,
   "metadata": {},
   "outputs": [],
   "source": [
    "test_data = \"\"\"L.LL.LL.LL\n",
    "LLLLLLL.LL\n",
    "L.L.L..L..\n",
    "LLLL.LL.LL\n",
    "L.LL.LL.LL\n",
    "L.LLLLL.LL\n",
    "..L.L.....\n",
    "LLLLLLLLLL\n",
    "L.LLLLLL.L\n",
    "L.LLLLL.LL\"\"\""
   ]
  },
  {
   "cell_type": "code",
   "execution_count": 93,
   "metadata": {},
   "outputs": [],
   "source": [
    "seats = test_data.strip().split()"
   ]
  },
  {
   "cell_type": "code",
   "execution_count": 19,
   "metadata": {},
   "outputs": [
    {
     "data": {
      "text/plain": [
       "['L.LL.LL.LL',\n",
       " 'LLLLLLL.LL',\n",
       " 'L.L.L..L..',\n",
       " 'LLLL.LL.LL',\n",
       " 'L.LL.LL.LL',\n",
       " 'L.LLLLL.LL',\n",
       " '..L.L.....',\n",
       " 'LLLLLLLLLL',\n",
       " 'L.LLLLLL.L',\n",
       " 'L.LLLLL.LL']"
      ]
     },
     "execution_count": 19,
     "metadata": {},
     "output_type": "execute_result"
    }
   ],
   "source": [
    "seats"
   ]
  },
  {
   "cell_type": "code",
   "execution_count": 16,
   "metadata": {},
   "outputs": [],
   "source": []
  },
  {
   "cell_type": "code",
   "execution_count": 80,
   "metadata": {},
   "outputs": [],
   "source": [
    "surround = [(-1,-1),(-1,0),(-1,1),(0,-1),(0,1),(1,-1),(1,0),(1,1)]\n",
    "\n",
    "def check_seat(row, col, seats):\n",
    "    status = seats[row][col]\n",
    "    if status == '.':\n",
    "        return '.'\n",
    "    occupied = 0\n",
    "    for r_diff, c_diff in surround:\n",
    "        try:\n",
    "            if r_diff + row < 0 or c_diff + col < 0:\n",
    "                raise IndexError\n",
    "            n_seat = seats[r_diff + row][c_diff + col]\n",
    "            if n_seat == \"#\":\n",
    "                occupied += 1\n",
    "        except IndexError:\n",
    "            pass\n",
    "    if status == 'L' and not occupied:\n",
    "        return '#'\n",
    "    elif status == '#' and occupied >= 4:\n",
    "        return 'L'\n",
    "    else:\n",
    "        return status"
   ]
  },
  {
   "cell_type": "code",
   "execution_count": 95,
   "metadata": {},
   "outputs": [],
   "source": [
    "def change_status(seats, use_alt=False):\n",
    "    new_status = []\n",
    "    for r, row in enumerate(seats):\n",
    "        new_row = []\n",
    "        for s, seat in enumerate(row):\n",
    "            if use_alt:\n",
    "                new_row.append(check_seat_alt(r, s, seats))\n",
    "            else:\n",
    "                new_row.append(check_seat(r, s, seats))\n",
    "        new_status.append(''.join(new_row))\n",
    "    return new_status"
   ]
  },
  {
   "cell_type": "code",
   "execution_count": 67,
   "metadata": {},
   "outputs": [],
   "source": [
    "def print_grid(info):\n",
    "    for row in info:\n",
    "        print(row)"
   ]
  },
  {
   "cell_type": "code",
   "execution_count": 129,
   "metadata": {},
   "outputs": [
    {
     "name": "stdout",
     "output_type": "stream",
     "text": [
      "1.2.3.4.5.6.7.8.9.10.11.12.13.14.15.16.17.18.19.20.21.22.23.24.25.26.27.28.29.30.31.32.33.34.35.36.37.38.39.40.41.42.43.44.45.46.47.48.49.50.51.52.53.54.55.56.57.58.59.60.61.62.63.64.65.66.67.68.69.70.71.72.73.74.75.76.77.78.79.80.81.82.83."
     ]
    }
   ],
   "source": [
    "old_status = seats\n",
    "# print_grid(old_status)\n",
    "# print()\n",
    "i = 1\n",
    "while True:\n",
    "    new_status = change_status(old_status, True)\n",
    "    if old_status == new_status:\n",
    "        break\n",
    "    old_status = new_status    \n",
    "    print(i, end='.')\n",
    "    i += 1"
   ]
  },
  {
   "cell_type": "code",
   "execution_count": 127,
   "metadata": {},
   "outputs": [
    {
     "name": "stdout",
     "output_type": "stream",
     "text": [
      "#.L#.L#.L#\n",
      "#LLLLLL.LL\n",
      "L.L.L..#..\n",
      "##L#.#L.L#\n",
      "L.L#.LL.L#\n",
      "#.LLLL#.LL\n",
      "..#.L.....\n",
      "LLL###LLL#\n",
      "#.LLLLL#.L\n",
      "#.L#LL#.L#\n"
     ]
    }
   ],
   "source": [
    "print_grid(old_status)"
   ]
  },
  {
   "cell_type": "code",
   "execution_count": 130,
   "metadata": {},
   "outputs": [
    {
     "data": {
      "text/plain": [
       "1865"
      ]
     },
     "execution_count": 130,
     "metadata": {},
     "output_type": "execute_result"
    }
   ],
   "source": [
    "''.join(old_status).count('#')"
   ]
  },
  {
   "cell_type": "code",
   "execution_count": 123,
   "metadata": {},
   "outputs": [],
   "source": [
    "step = change_status(seats, True)\n",
    "new_step = change_status(step, True)"
   ]
  },
  {
   "cell_type": "code",
   "execution_count": 124,
   "metadata": {},
   "outputs": [
    {
     "name": "stdout",
     "output_type": "stream",
     "text": [
      "#.##.##.##\n",
      "#######.##\n",
      "#.#.#..#..\n",
      "####.##.##\n",
      "#.##.##.##\n",
      "#.#####.##\n",
      "..#.#.....\n",
      "##########\n",
      "#.######.#\n",
      "#.#####.##\n",
      "\n",
      "#.LL.LL.L#\n",
      "#LLLLLL.LL\n",
      "L.L.L..L..\n",
      "LLLL.LL.LL\n",
      "L.LL.LL.LL\n",
      "L.LLLLL.LL\n",
      "..L.L.....\n",
      "LLLLLLLLL#\n",
      "#.LLLLLL.L\n",
      "#.LLLLL.L#\n"
     ]
    }
   ],
   "source": [
    "print_grid(step)\n",
    "print()\n",
    "print_grid(new_step)"
   ]
  },
  {
   "cell_type": "code",
   "execution_count": 121,
   "metadata": {},
   "outputs": [
    {
     "name": "stdout",
     "output_type": "stream",
     "text": [
      "Checking direction (-1, -1)\n",
      "Looking at -1 5\n",
      "Checking direction (-1, 0)\n",
      "Looking at -1 6\n",
      "Checking direction (-1, 1)\n",
      "Looking at -1 7\n",
      "Checking direction (0, -1)\n",
      "Looking at 0 5\n",
      "Position 0, 5 is #\n",
      "Checking direction (0, 1)\n",
      "Looking at 0 7\n",
      "Position 0, 7 is .\n",
      "Looking at 0 8\n",
      "Position 0, 8 is #\n",
      "Checking direction (1, -1)\n",
      "Looking at 1 5\n",
      "Position 1, 5 is #\n",
      "Checking direction (1, 0)\n",
      "Looking at 1 6\n",
      "Position 1, 6 is #\n",
      "Checking direction (1, 1)\n",
      "Looking at 1 7\n",
      "Position 1, 7 is .\n",
      "Looking at 2 8\n",
      "Position 2, 8 is .\n",
      "Looking at 3 9\n",
      "Position 3, 9 is #\n"
     ]
    },
    {
     "data": {
      "text/plain": [
       "'L'"
      ]
     },
     "execution_count": 121,
     "metadata": {},
     "output_type": "execute_result"
    }
   ],
   "source": [
    "check_seat_alt(0,6, step)"
   ]
  },
  {
   "cell_type": "code",
   "execution_count": 122,
   "metadata": {},
   "outputs": [],
   "source": [
    "def check_seat_alt(row, col, seats):\n",
    "    status = seats[row][col]\n",
    "    if status == '.':\n",
    "        return '.'\n",
    "    occupied = 0\n",
    "    for r_diff, c_diff in surround:\n",
    "        r_pos = row\n",
    "        c_pos = col\n",
    "        finished = False\n",
    "#         print(f'Checking direction ({r_diff}, {c_diff})')\n",
    "        while not finished:\n",
    "            r_pos = r_diff + r_pos\n",
    "            c_pos = c_diff + c_pos\n",
    "#             print('Looking at', r_pos, c_pos)\n",
    "            try:\n",
    "                if r_pos < 0 or c_pos < 0:\n",
    "                    raise IndexError\n",
    "                nearest_seat = seats[r_pos][c_pos]\n",
    "#                 print(f'Position {r_pos}, {c_pos} is {nearest_seat}')\n",
    "                if nearest_seat == \"#\":\n",
    "                    occupied += 1\n",
    "                    finished = True\n",
    "                if nearest_seat == \"L\":\n",
    "                    finished = True\n",
    "            except IndexError:\n",
    "                finished = True\n",
    "    if status == 'L' and not occupied:\n",
    "        return '#'\n",
    "    elif status == '#' and occupied >= 5:\n",
    "        return 'L'\n",
    "    else:\n",
    "        return status"
   ]
  },
  {
   "cell_type": "code",
   "execution_count": 131,
   "metadata": {},
   "outputs": [],
   "source": [
    "surround2 = [\n",
    "    (-1, -1), (-1, 0), (-1, 1),\n",
    "    ( 0, -1),          ( 0, 1),\n",
    "    ( 1, -1), ( 1, 0), ( 1, 1)\n",
    "]"
   ]
  },
  {
   "cell_type": "code",
   "execution_count": 132,
   "metadata": {},
   "outputs": [
    {
     "data": {
      "text/plain": [
       "[(-1, -1), (-1, 0), (-1, 1), (0, -1), (0, 1), (1, -1), (1, 0), (1, 1)]"
      ]
     },
     "execution_count": 132,
     "metadata": {},
     "output_type": "execute_result"
    }
   ],
   "source": [
    "surround2"
   ]
  },
  {
   "cell_type": "code",
   "execution_count": null,
   "metadata": {},
   "outputs": [],
   "source": []
  }
 ],
 "metadata": {
  "kernelspec": {
   "display_name": "Python [default]",
   "language": "python",
   "name": "python3"
  },
  "language_info": {
   "codemirror_mode": {
    "name": "ipython",
    "version": 3
   },
   "file_extension": ".py",
   "mimetype": "text/x-python",
   "name": "python",
   "nbconvert_exporter": "python",
   "pygments_lexer": "ipython3",
   "version": "3.6.7"
  }
 },
 "nbformat": 4,
 "nbformat_minor": 4
}
