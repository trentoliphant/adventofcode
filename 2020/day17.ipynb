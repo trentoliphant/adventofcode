{
 "cells": [
  {
   "cell_type": "code",
   "execution_count": 1,
   "metadata": {},
   "outputs": [],
   "source": [
    "import numpy as np"
   ]
  },
  {
   "cell_type": "code",
   "execution_count": 201,
   "metadata": {},
   "outputs": [],
   "source": [
    "data = \"\"\".#.\n",
    "..#\n",
    "###\"\"\".split('\\n')"
   ]
  },
  {
   "cell_type": "code",
   "execution_count": 171,
   "metadata": {},
   "outputs": [],
   "source": [
    "data = \"\"\"......##\n",
    "####.#..\n",
    ".##....#\n",
    ".##.#..#\n",
    "........\n",
    ".#.#.###\n",
    "#.##....\n",
    "####.#..\"\"\".split('\\n')"
   ]
  },
  {
   "cell_type": "code",
   "execution_count": 202,
   "metadata": {},
   "outputs": [],
   "source": [
    "cubes = {}\n",
    "for x, row in enumerate(data):\n",
    "    for y, col in enumerate([let for let in row]):\n",
    "        cubes[(x,y,0)] = col == \"#\""
   ]
  },
  {
   "cell_type": "code",
   "execution_count": 203,
   "metadata": {},
   "outputs": [],
   "source": [
    "x_range = (0, len(data))\n",
    "y_range = (0, len(data))\n",
    "z_range = (0, 1)"
   ]
  },
  {
   "cell_type": "code",
   "execution_count": 140,
   "metadata": {},
   "outputs": [],
   "source": [
    "def check_neighbors(position, cubes):\n",
    "    xpos, ypos, zpos = position\n",
    "    active = []\n",
    "    for x in [-1, 0, 1]:\n",
    "        for y in [-1, 0, 1]:\n",
    "            for z in [-1, 0, 1]:\n",
    "                if (xpos+x, ypos+y, zpos+z) == position:\n",
    "                    continue\n",
    "                n_state = cubes.get((xpos + x, ypos+y, zpos+z), False)\n",
    "                if n_state:\n",
    "                    active.append(n_state)\n",
    "    return len(active)"
   ]
  },
  {
   "cell_type": "code",
   "execution_count": 204,
   "metadata": {},
   "outputs": [],
   "source": [
    "for _ in range(6):\n",
    "    new_cubes = {}\n",
    "    x_range = (x_range[0] - 1, x_range[1] + 1)\n",
    "    y_range = (y_range[0] - 1, y_range[1] + 1)\n",
    "    z_range = (z_range[0] - 1, z_range[1] + 1)\n",
    "    for x in range(*x_range):\n",
    "        for y in range(*y_range):\n",
    "            for z in range(*z_range):\n",
    "                active = cubes.get((x, y, z), False)\n",
    "                act_n = check_neighbors((x, y, z), cubes)\n",
    "                if active:\n",
    "                    new_cubes[(x, y, z)] = (act_n == 2 or act_n == 3)\n",
    "#                    print(active, (x, y, z), act_n)\n",
    "                else:\n",
    "                    new_cubes[(x, y, z)] = act_n == 3\n",
    "#                    print(active, (x, y, z), act_n)\n",
    "\n",
    "    cubes = new_cubes"
   ]
  },
  {
   "cell_type": "code",
   "execution_count": 205,
   "metadata": {},
   "outputs": [
    {
     "data": {
      "text/plain": [
       "112"
      ]
     },
     "execution_count": 205,
     "metadata": {},
     "output_type": "execute_result"
    }
   ],
   "source": [
    "len([val for val in cubes.values() if val])"
   ]
  },
  {
   "cell_type": "code",
   "execution_count": 189,
   "metadata": {},
   "outputs": [
    {
     "data": {
      "text/plain": [
       "90"
      ]
     },
     "execution_count": 189,
     "metadata": {},
     "output_type": "execute_result"
    }
   ],
   "source": [
    "len(cubes)"
   ]
  },
  {
   "cell_type": "code",
   "execution_count": 98,
   "metadata": {},
   "outputs": [
    {
     "data": {
      "text/plain": [
       "[0]"
      ]
     },
     "execution_count": 98,
     "metadata": {},
     "output_type": "execute_result"
    }
   ],
   "source": [
    "[i for i in range(0,1)]"
   ]
  },
  {
   "cell_type": "code",
   "execution_count": 120,
   "metadata": {},
   "outputs": [],
   "source": [
    "def print_cubes(cubes, x_range, y_range, z_range):\n",
    "    for z in range(*z_range):\n",
    "        print(f'z={z}')\n",
    "        for x in range(*x_range):\n",
    "            for y in range(*y_range):\n",
    "                val = cubes[(x,y,z)]\n",
    "                if val:\n",
    "                    print('#', end='')\n",
    "                else:\n",
    "                    print('.', end='')\n",
    "            print()"
   ]
  },
  {
   "cell_type": "code",
   "execution_count": 206,
   "metadata": {},
   "outputs": [
    {
     "name": "stdout",
     "output_type": "stream",
     "text": [
      "z=-6\n",
      "...............\n",
      "...............\n",
      "...............\n",
      "...............\n",
      "...............\n",
      "...............\n",
      "...............\n",
      "...............\n",
      "...............\n",
      "...............\n",
      "...............\n",
      "...............\n",
      "...............\n",
      "...............\n",
      "...............\n",
      "z=-5\n",
      "...............\n",
      "...............\n",
      "...............\n",
      "...............\n",
      "...............\n",
      "...............\n",
      "...............\n",
      "...............\n",
      "...............\n",
      "...............\n",
      "...............\n",
      "...............\n",
      "...............\n",
      "...............\n",
      "...............\n",
      "z=-4\n",
      "...............\n",
      "...............\n",
      "...............\n",
      "...............\n",
      "...............\n",
      "...............\n",
      "...............\n",
      "......#........\n",
      "......#........\n",
      "......#..#.....\n",
      "...............\n",
      "...............\n",
      "...............\n",
      "...............\n",
      "...............\n",
      "z=-3\n",
      "...............\n",
      "...............\n",
      "...............\n",
      "...............\n",
      "...............\n",
      "......#........\n",
      "....#...#......\n",
      "..........##...\n",
      "...............\n",
      "...............\n",
      ".....#....#....\n",
      "......#........\n",
      "........#......\n",
      "...............\n",
      "...............\n",
      "z=-2\n",
      "...............\n",
      "...............\n",
      "...............\n",
      "...............\n",
      ".......##......\n",
      ".....####......\n",
      "...#.....#.....\n",
      "...#......##...\n",
      "...#...........\n",
      "...............\n",
      "....#..........\n",
      ".....#....#....\n",
      "...............\n",
      "...............\n",
      "...............\n",
      "z=-1\n",
      "...............\n",
      "...............\n",
      "...............\n",
      "...............\n",
      ".....####......\n",
      "....#..##......\n",
      "..#......##....\n",
      "..#.....####...\n",
      "...............\n",
      "...............\n",
      "...............\n",
      "...............\n",
      "....#..........\n",
      "...............\n",
      "...............\n",
      "z=0\n",
      "...............\n",
      "...............\n",
      "...............\n",
      "...............\n",
      "....##.........\n",
      "...#.#.........\n",
      ".#..#.#####....\n",
      ".##............\n",
      ".###....#......\n",
      "........##.....\n",
      "....#..........\n",
      "............#..\n",
      "...............\n",
      "...............\n",
      "......###......\n",
      "z=1\n",
      "...............\n",
      "...............\n",
      "...............\n",
      "...............\n",
      ".....####......\n",
      "....#..##......\n",
      "..#......##....\n",
      "..#.....####...\n",
      "...............\n",
      "...............\n",
      "...............\n",
      "...............\n",
      "....#..........\n",
      "...............\n",
      "...............\n",
      "z=2\n",
      "...............\n",
      "...............\n",
      "...............\n",
      "...............\n",
      ".......##......\n",
      ".....####......\n",
      "...#.....#.....\n",
      "...#......##...\n",
      "...#...........\n",
      "...............\n",
      "....#..........\n",
      ".....#....#....\n",
      "...............\n",
      "...............\n",
      "...............\n",
      "z=3\n",
      "...............\n",
      "...............\n",
      "...............\n",
      "...............\n",
      "...............\n",
      "......#........\n",
      "....#...#......\n",
      "..........##...\n",
      "...............\n",
      "...............\n",
      ".....#....#....\n",
      "......#........\n",
      "........#......\n",
      "...............\n",
      "...............\n",
      "z=4\n",
      "...............\n",
      "...............\n",
      "...............\n",
      "...............\n",
      "...............\n",
      "...............\n",
      "...............\n",
      "......#........\n",
      "......#........\n",
      "......#..#.....\n",
      "...............\n",
      "...............\n",
      "...............\n",
      "...............\n",
      "...............\n",
      "z=5\n",
      "...............\n",
      "...............\n",
      "...............\n",
      "...............\n",
      "...............\n",
      "...............\n",
      "...............\n",
      "...............\n",
      "...............\n",
      "...............\n",
      "...............\n",
      "...............\n",
      "...............\n",
      "...............\n",
      "...............\n",
      "z=6\n",
      "...............\n",
      "...............\n",
      "...............\n",
      "...............\n",
      "...............\n",
      "...............\n",
      "...............\n",
      "...............\n",
      "...............\n",
      "...............\n",
      "...............\n",
      "...............\n",
      "...............\n",
      "...............\n",
      "...............\n"
     ]
    }
   ],
   "source": [
    "print_cubes(cubes, x_range, y_range, z_range)"
   ]
  },
  {
   "cell_type": "code",
   "execution_count": 191,
   "metadata": {},
   "outputs": [
    {
     "data": {
      "text/plain": [
       "(-1, 5)"
      ]
     },
     "execution_count": 191,
     "metadata": {},
     "output_type": "execute_result"
    }
   ],
   "source": [
    "y_range"
   ]
  },
  {
   "cell_type": "code",
   "execution_count": 165,
   "metadata": {},
   "outputs": [],
   "source": [
    "def check_neighbors2(position, cubes):\n",
    "    xpos, ypos, zpos, wpos = position\n",
    "    active = []\n",
    "    for x in [-1, 0, 1]:\n",
    "        for y in [-1, 0, 1]:\n",
    "            for z in [-1, 0, 1]:\n",
    "                for w in [-1, 0, 1]:\n",
    "                    if (xpos+x, ypos+y, zpos+z, wpos+w) == position:\n",
    "                        continue\n",
    "                    n_state = cubes.get((xpos + x, ypos+y, zpos+z, wpos+w), False)\n",
    "                    if n_state:\n",
    "                        active.append(n_state)\n",
    "    return len(active)"
   ]
  },
  {
   "cell_type": "code",
   "execution_count": 172,
   "metadata": {},
   "outputs": [],
   "source": [
    "cubes = {}\n",
    "for x, row in enumerate(data):\n",
    "    for y, col in enumerate([let for let in row]):\n",
    "        cubes[(x,y,0,0)] = col == \"#\"\n",
    "        \n",
    "x_range = (0, len(data))\n",
    "y_range = (0, len(data))\n",
    "z_range = (0, 1)\n",
    "w_range = (0, 1)"
   ]
  },
  {
   "cell_type": "code",
   "execution_count": 173,
   "metadata": {},
   "outputs": [],
   "source": [
    "for _ in range(6):\n",
    "    new_cubes = {}\n",
    "    x_range = (x_range[0] - 1, x_range[1] + 1)\n",
    "    y_range = (y_range[0] - 1, x_range[1] + 1)\n",
    "    z_range = (z_range[0] - 1, z_range[1] + 1)\n",
    "    w_range = (w_range[0] - 1, w_range[1] + 1)\n",
    "    for x in range(*x_range):\n",
    "        for y in range(*y_range):\n",
    "            for z in range(*z_range):\n",
    "                for w in range(*w_range):\n",
    "                    active = cubes.get((x, y, z, w), False)\n",
    "                    act_n = check_neighbors2((x, y, z, w), cubes)\n",
    "                    if active:\n",
    "                        new_cubes[(x, y, z, w)] = (act_n == 2 or act_n == 3)\n",
    "                    else:\n",
    "                        new_cubes[(x, y, z, w)] = act_n == 3\n",
    "    \n",
    "    cubes = new_cubes"
   ]
  },
  {
   "cell_type": "code",
   "execution_count": 174,
   "metadata": {},
   "outputs": [
    {
     "data": {
      "text/plain": [
       "1892"
      ]
     },
     "execution_count": 174,
     "metadata": {},
     "output_type": "execute_result"
    }
   ],
   "source": [
    "len([val for val in cubes.values() if val])"
   ]
  },
  {
   "cell_type": "code",
   "execution_count": null,
   "metadata": {},
   "outputs": [],
   "source": []
  }
 ],
 "metadata": {
  "kernelspec": {
   "display_name": "Python [default]",
   "language": "python",
   "name": "python3"
  },
  "language_info": {
   "codemirror_mode": {
    "name": "ipython",
    "version": 3
   },
   "file_extension": ".py",
   "mimetype": "text/x-python",
   "name": "python",
   "nbconvert_exporter": "python",
   "pygments_lexer": "ipython3",
   "version": "3.6.7"
  }
 },
 "nbformat": 4,
 "nbformat_minor": 4
}
