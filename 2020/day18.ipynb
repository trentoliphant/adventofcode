{
 "cells": [
  {
   "cell_type": "code",
   "execution_count": 1,
   "metadata": {},
   "outputs": [],
   "source": [
    "data = open('data/day18.txt').read().split('\\n')"
   ]
  },
  {
   "cell_type": "code",
   "execution_count": 24,
   "metadata": {},
   "outputs": [],
   "source": [
    "def add(a, b):\n",
    "    return a + b\n",
    "\n",
    "def mul(a, b):\n",
    "    return a * b\n",
    "\n",
    "\n",
    "def calc(expression):\n",
    "    accumulator = {0: 0}\n",
    "    operator = {0: add}\n",
    "    level = 0\n",
    "    for c in expression:\n",
    "        if c == ' ':\n",
    "            continue\n",
    "        elif c == '(':\n",
    "            level += 1\n",
    "            accumulator[level] = 0\n",
    "            operator[level] = add\n",
    "        elif c == ')':\n",
    "            right = accumulator[level]\n",
    "            accumulator[level] = 0\n",
    "            operator[level] = add\n",
    "            level -=1\n",
    "            left = accumulator[level]\n",
    "            accumulator[level] = operator[level](left, right)\n",
    "        elif c in '0123456789':\n",
    "            left = accumulator.get(level)\n",
    "            if left is None:\n",
    "                accumulator[level] = int(c)\n",
    "                operator[level] = add\n",
    "            else:\n",
    "                accumulator[level] = operator[level](left, int(c))\n",
    "        elif c == '+':\n",
    "            operator[level] = add\n",
    "        elif c == '*':\n",
    "            operator[level] = mul\n",
    "#         print(level)\n",
    "#         print(accumulator)\n",
    "#         print(operator)\n",
    "    return accumulator[0]\n",
    "        "
   ]
  },
  {
   "cell_type": "code",
   "execution_count": 17,
   "metadata": {},
   "outputs": [
    {
     "data": {
      "text/plain": [
       "71"
      ]
     },
     "execution_count": 17,
     "metadata": {},
     "output_type": "execute_result"
    }
   ],
   "source": [
    "calc('1 + 2 * 3 + 4 * 5 + 6')"
   ]
  },
  {
   "cell_type": "code",
   "execution_count": 18,
   "metadata": {},
   "outputs": [
    {
     "data": {
      "text/plain": [
       "26"
      ]
     },
     "execution_count": 18,
     "metadata": {},
     "output_type": "execute_result"
    }
   ],
   "source": [
    "calc('2 * 3 + (4 * 5)')"
   ]
  },
  {
   "cell_type": "code",
   "execution_count": 19,
   "metadata": {},
   "outputs": [
    {
     "data": {
      "text/plain": [
       "437"
      ]
     },
     "execution_count": 19,
     "metadata": {},
     "output_type": "execute_result"
    }
   ],
   "source": [
    "calc('5 + (8 * 3 + 9 + 3 * 4 * 3)')"
   ]
  },
  {
   "cell_type": "code",
   "execution_count": 20,
   "metadata": {},
   "outputs": [
    {
     "data": {
      "text/plain": [
       "12240"
      ]
     },
     "execution_count": 20,
     "metadata": {},
     "output_type": "execute_result"
    }
   ],
   "source": [
    "calc('5 * 9 * (7 * 3 * 3 + 9 * 3 + (8 + 6 * 4))')"
   ]
  },
  {
   "cell_type": "code",
   "execution_count": 25,
   "metadata": {},
   "outputs": [
    {
     "data": {
      "text/plain": [
       "13632"
      ]
     },
     "execution_count": 25,
     "metadata": {},
     "output_type": "execute_result"
    }
   ],
   "source": [
    "calc('((2 + 4 * 9) * (6 + 9 * 8 + 6) + 6) + 2 + 4 * 2')"
   ]
  },
  {
   "cell_type": "code",
   "execution_count": 26,
   "metadata": {},
   "outputs": [],
   "source": [
    "total = 0\n",
    "for exp in data:\n",
    "    total += calc(exp)"
   ]
  },
  {
   "cell_type": "code",
   "execution_count": 27,
   "metadata": {},
   "outputs": [
    {
     "data": {
      "text/plain": [
       "11076907812171"
      ]
     },
     "execution_count": 27,
     "metadata": {},
     "output_type": "execute_result"
    }
   ],
   "source": [
    "total"
   ]
  },
  {
   "cell_type": "code",
   "execution_count": null,
   "metadata": {},
   "outputs": [],
   "source": []
  },
  {
   "cell_type": "code",
   "execution_count": null,
   "metadata": {},
   "outputs": [],
   "source": [
    "def calc2(expression):\n",
    "    accumulator = {0: 0}\n",
    "    operator = {0: add}\n",
    "    level = 0\n",
    "    mul_hold = {0: False}\n",
    "    mul_right = {0: None}\n",
    "    for c in expression:\n",
    "        if c == ' ':\n",
    "            continue\n",
    "        elif c == '(':\n",
    "            level += 1\n",
    "            accumulator[level] = 0\n",
    "            operator[level] = add\n",
    "            mul_hold[level] = False\n",
    "            mul_right[level] = None\n",
    "        elif c == ')':\n",
    "            if mul_hold[level]:\n",
    "                right = mul_right[level]\n",
    "                mul_right[level] = 0\n",
    "                mul_hold[level] = False\n",
    "            else:\n",
    "                right = accumulator[level]\n",
    "            accumulator[level] = 0\n",
    "            operator[level] = add\n",
    "            level -= 1\n",
    "            left = accumulator[level]\n",
    "            if mul_hold[level]:\n",
    "                mul_right[level] = right\n",
    "            else:\n",
    "                accumulator[level] = operator[level](left, right)\n",
    "        elif c in '0123456789':\n",
    "            left = accumulator.get(level)\n",
    "            if left is None:\n",
    "                accumulator[level] = int(c)\n",
    "                operator[level] = add\n",
    "            else:\n",
    "                if mul_hold[level]:\n",
    "                    mul_right[int(c)]\n",
    "                accumulator[level] = operator[level](left, int(c))\n",
    "        elif c == '+':\n",
    "            operator[level] = add\n",
    "            if mul_hold[level]:\n",
    "                mul\n",
    "        elif c == '*':\n",
    "            operator[level] = mul\n",
    "            mul_hold[level] = True\n",
    "            mul_right[level] = None"
   ]
  },
  {
   "cell_type": "code",
   "execution_count": 56,
   "metadata": {},
   "outputs": [],
   "source": [
    "def calculate(expression):\n",
    "    accumulator = {0: 0}\n",
    "    operator = {0: add}\n",
    "    mul_hold = {0: False}\n",
    "    hold_val = {0: None}\n",
    "    level = 0\n",
    "    for char in expression:\n",
    "        if char == ' ':\n",
    "            continue\n",
    "        if char == '(':\n",
    "            level += 1\n",
    "            accumulator[level] = 0\n",
    "            operator[level] = add\n",
    "            mul_hold[level] = False\n",
    "            hold_val[level] = None\n",
    "        if char == '+':\n",
    "            operator[level] = add\n",
    "        if char == '*':\n",
    "            if mul_hold[level]:\n",
    "                accumulator[level] = operator[level](accumulator[level], hold_val[level])\n",
    "                mul_hold[level] = False\n",
    "            operator[level] = mul\n",
    "            print(mul_hold)\n",
    "        if char in '0123456789':\n",
    "            if operator[level] == mul:\n",
    "                mul_hold[level] = True\n",
    "                hold_val[level] = int(char)\n",
    "            if operator[level]  == add:\n",
    "                if mul_hold[level]:\n",
    "                    hold_val[level] = operator[level](hold_val[level], int(char))\n",
    "                else:\n",
    "                    accumulator[level] = operator[level](accumulator[level], int(char))\n",
    "        if char == ')':\n",
    "            if mul_hold[level]:\n",
    "                accumulator[level] = accumulator[level] * hold_val[level]\n",
    "            right = accumulator[level]\n",
    "            mul_hold[level] = False\n",
    "            accumulator[level] = 0\n",
    "            hold_val[level] = None\n",
    "            operator[level] = add\n",
    "            level -= 1\n",
    "            if operator[level] == mul:\n",
    "                mul_hold[level] = True\n",
    "                hold_val[level] = right\n",
    "            if operator[level]  == add:\n",
    "                if mul_hold[level]:\n",
    "                    hold_val[level] = operator[level](hold_val[level], right)\n",
    "                else:\n",
    "                    accumulator[level] = operator[level](accumulator[level], right)\n",
    "    if mul_hold[level]:\n",
    "        accumulator[level] = accumulator[level] * hold_val[level]\n",
    "    print(accumulator, hold_val, mul_hold, operator)\n",
    "    return accumulator[0]"
   ]
  },
  {
   "cell_type": "code",
   "execution_count": 46,
   "metadata": {},
   "outputs": [
    {
     "name": "stdout",
     "output_type": "stream",
     "text": [
      "{0: False}\n",
      "{0: 14} {0: 7} {0: True} {0: <function add at 0x10c91da60>}\n"
     ]
    },
    {
     "data": {
      "text/plain": [
       "14"
      ]
     },
     "execution_count": 46,
     "metadata": {},
     "output_type": "execute_result"
    }
   ],
   "source": [
    "calculate('2 * 3 + (4')"
   ]
  },
  {
   "cell_type": "code",
   "execution_count": 51,
   "metadata": {},
   "outputs": [
    {
     "name": "stdout",
     "output_type": "stream",
     "text": [
      "{0: False, 1: False}\n",
      "{0: False, 1: False}\n",
      "{0: 51, 1: 0, 2: 0} {0: None, 1: None, 2: None} {0: False, 1: False, 2: False} {0: <function add at 0x10c91da60>, 1: <function add at 0x10c91da60>, 2: <function add at 0x10c91da60>}\n"
     ]
    },
    {
     "data": {
      "text/plain": [
       "51"
      ]
     },
     "execution_count": 51,
     "metadata": {},
     "output_type": "execute_result"
    }
   ],
   "source": [
    "calculate('1 + (2 * 3) + (4 * (5 + 6))')"
   ]
  },
  {
   "cell_type": "code",
   "execution_count": 58,
   "metadata": {},
   "outputs": [
    {
     "name": "stdout",
     "output_type": "stream",
     "text": [
      "{0: False}\n",
      "{0: True, 1: False}\n",
      "{0: 46, 1: 0} {0: 23, 1: None} {0: True, 1: False} {0: <function add at 0x10c91da60>, 1: <function add at 0x10c91da60>}\n"
     ]
    },
    {
     "data": {
      "text/plain": [
       "46"
      ]
     },
     "execution_count": 58,
     "metadata": {},
     "output_type": "execute_result"
    }
   ],
   "source": [
    "calculate('2 * 3 + (4 * 5)')"
   ]
  },
  {
   "cell_type": "code",
   "execution_count": 57,
   "metadata": {},
   "outputs": [
    {
     "name": "stdout",
     "output_type": "stream",
     "text": [
      "{0: False, 1: False}\n",
      "{0: False, 1: False}\n",
      "{0: False, 1: False}\n",
      "{0: 281, 1: 0} {0: None, 1: None} {0: False, 1: False} {0: <function add at 0x10c91da60>, 1: <function add at 0x10c91da60>}\n"
     ]
    },
    {
     "data": {
      "text/plain": [
       "281"
      ]
     },
     "execution_count": 57,
     "metadata": {},
     "output_type": "execute_result"
    }
   ],
   "source": [
    "calculate('5 + (8 * 3 + 9 + 3 * 4 * 3)')"
   ]
  },
  {
   "cell_type": "code",
   "execution_count": 59,
   "metadata": {},
   "outputs": [
    {
     "name": "stdout",
     "output_type": "stream",
     "text": [
      "{0: False}\n",
      "{0: False}\n",
      "{0: False, 1: False}\n",
      "{0: False, 1: False}\n",
      "{0: False, 1: False}\n",
      "{0: False, 1: True, 2: False}\n",
      "{0: 87615, 1: 0, 2: 0} {0: 1947, 1: None, 2: None} {0: True, 1: False, 2: False} {0: <function mul at 0x10c91d9d8>, 1: <function add at 0x10c91da60>, 2: <function add at 0x10c91da60>}\n"
     ]
    },
    {
     "data": {
      "text/plain": [
       "87615"
      ]
     },
     "execution_count": 59,
     "metadata": {},
     "output_type": "execute_result"
    }
   ],
   "source": [
    "calculate('5 * 9 * (7 * 3 * 3 + 9 * 3 + (8 + 6 * 4))')"
   ]
  },
  {
   "cell_type": "code",
   "execution_count": 60,
   "metadata": {},
   "outputs": [
    {
     "name": "stdout",
     "output_type": "stream",
     "text": [
      "{0: False, 1: False, 2: False}\n",
      "{0: False, 1: False, 2: False}\n",
      "{0: False, 1: False, 2: False}\n",
      "{0: False, 1: False, 2: False}\n",
      "{0: 23340, 1: 0, 2: 0} {0: 2, 1: None, 2: None} {0: True, 1: False, 2: False} {0: <function mul at 0x10c91d9d8>, 1: <function add at 0x10c91da60>, 2: <function add at 0x10c91da60>}\n"
     ]
    },
    {
     "data": {
      "text/plain": [
       "23340"
      ]
     },
     "execution_count": 60,
     "metadata": {},
     "output_type": "execute_result"
    }
   ],
   "source": [
    "calculate('((2 + 4 * 9) * (6 + 9 * 8 + 6) + 6) + 2 + 4 * 2')"
   ]
  },
  {
   "cell_type": "code",
   "execution_count": null,
   "metadata": {},
   "outputs": [],
   "source": []
  }
 ],
 "metadata": {
  "kernelspec": {
   "display_name": "Python [default]",
   "language": "python",
   "name": "python3"
  },
  "language_info": {
   "codemirror_mode": {
    "name": "ipython",
    "version": 3
   },
   "file_extension": ".py",
   "mimetype": "text/x-python",
   "name": "python",
   "nbconvert_exporter": "python",
   "pygments_lexer": "ipython3",
   "version": "3.6.7"
  }
 },
 "nbformat": 4,
 "nbformat_minor": 4
}
