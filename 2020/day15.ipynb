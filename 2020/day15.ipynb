{
 "cells": [
  {
   "cell_type": "code",
   "execution_count": 71,
   "metadata": {},
   "outputs": [],
   "source": [
    "start = [2,1,10,11,0,6]"
   ]
  },
  {
   "cell_type": "code",
   "execution_count": 2,
   "metadata": {},
   "outputs": [],
   "source": [
    "sample = [0,3,6]"
   ]
  },
  {
   "cell_type": "code",
   "execution_count": 77,
   "metadata": {},
   "outputs": [],
   "source": [
    "def last_spoken(start):\n",
    "    last_seen = {}\n",
    "    cur_pos = len(start)\n",
    "    last_num = start[-1]\n",
    "    for i, num in enumerate(start):\n",
    "        last_seen[num] = i\n",
    "        yield num\n",
    "    while True:\n",
    "        to_check = last_seen.get(last_num)\n",
    "        last_seen[last_num] = cur_pos -1\n",
    "        if last_num == None or to_check == None:\n",
    "            to_yield = 0\n",
    "        else:\n",
    "            to_yield = cur_pos - to_check - 1\n",
    "        cur_pos += 1\n",
    "        last_num = to_yield\n",
    "        yield to_yield\n"
   ]
  },
  {
   "cell_type": "code",
   "execution_count": 60,
   "metadata": {},
   "outputs": [],
   "source": [
    "l = last_spoken(sample)"
   ]
  },
  {
   "cell_type": "code",
   "execution_count": 80,
   "metadata": {},
   "outputs": [
    {
     "name": "stdout",
     "output_type": "stream",
     "text": [
      "18929178\n"
     ]
    }
   ],
   "source": [
    "turn = last_spoken(start)\n",
    "for _ in range(30000000):\n",
    "    spoken = next(turn)\n",
    "print(spoken)"
   ]
  },
  {
   "cell_type": "code",
   "execution_count": 55,
   "metadata": {},
   "outputs": [
    {
     "name": "stdout",
     "output_type": "stream",
     "text": [
      "{0: 0, 3: 1, 6: 2}\n",
      "{0: 3, 3: 1, 6: 2}\n",
      "{0: 3, 3: 4, 6: 2}\n",
      "{0: 3, 3: 5, 6: 2}\n",
      "{0: 3, 3: 5, 6: 2, 1: 6}\n",
      "{0: 7, 3: 5, 6: 2, 1: 6}\n",
      "{0: 7, 3: 5, 6: 2, 1: 6, 4: 8}\n"
     ]
    }
   ],
   "source": [
    "    start = [0,3,6]\n",
    "    in_order = []\n",
    "    last_seen = {}\n",
    "    cur_pos = len(start)\n",
    "    last_num = start[-1]\n",
    "    for i, num in enumerate(start):\n",
    "        last_seen[num] = i\n",
    "        in_order.append(num)\n",
    "#     print(last_seen)\n",
    "    while cur_pos < 10:\n",
    "        to_check = last_seen.get(last_num)\n",
    "        last_seen[last_num] = cur_pos - 1\n",
    "#         print(to_check, last_num)\n",
    "        if last_num == None or to_check == None:\n",
    "            to_yield = 0\n",
    "#             print('nothing found')\n",
    "        else:\n",
    "            to_yield = cur_pos - to_check - 1\n",
    "#             print(cur_pos - to_check)\n",
    "#         last_seen[to_yield] = cur_pos\n",
    "        cur_pos += 1\n",
    "        last_num = to_yield\n",
    "        in_order.append(to_yield)\n",
    "        print(last_seen)\n",
    "#         print(to_yield)"
   ]
  },
  {
   "cell_type": "code",
   "execution_count": 29,
   "metadata": {},
   "outputs": [
    {
     "data": {
      "text/plain": [
       "[0, 3, 6, 0, 3, 3, 1, 0, 4, 0]"
      ]
     },
     "execution_count": 29,
     "metadata": {},
     "output_type": "execute_result"
    }
   ],
   "source": [
    "in_order"
   ]
  },
  {
   "cell_type": "code",
   "execution_count": null,
   "metadata": {},
   "outputs": [],
   "source": []
  }
 ],
 "metadata": {
  "kernelspec": {
   "display_name": "Python [default]",
   "language": "python",
   "name": "python3"
  },
  "language_info": {
   "codemirror_mode": {
    "name": "ipython",
    "version": 3
   },
   "file_extension": ".py",
   "mimetype": "text/x-python",
   "name": "python",
   "nbconvert_exporter": "python",
   "pygments_lexer": "ipython3",
   "version": "3.6.7"
  }
 },
 "nbformat": 4,
 "nbformat_minor": 4
}
