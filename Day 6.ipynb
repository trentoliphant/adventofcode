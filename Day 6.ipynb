{
 "cells": [
  {
   "cell_type": "code",
   "execution_count": 1,
   "metadata": {},
   "outputs": [],
   "source": [
    "orbit_list = [o.split(')') for o in open('Input 6.txt').read().split('\\n')]"
   ]
  },
  {
   "cell_type": "code",
   "execution_count": 2,
   "metadata": {},
   "outputs": [],
   "source": [
    "orbit_dict = {o[1]: o[0] for o in orbit_list}"
   ]
  },
  {
   "cell_type": "code",
   "execution_count": 3,
   "metadata": {},
   "outputs": [],
   "source": [
    "def count_orbits_in_dict(planet, verbose=False):\n",
    "    if planet not in orbit_dict:\n",
    "        if verbose:\n",
    "            print(F\"{planet} doesn't orbit anything\")\n",
    "        return 0\n",
    "    orb = orbit_dict[planet]\n",
    "    if verbose:\n",
    "        print(F\"{planet} orbits {orb}\")\n",
    "    return count_orbits_in_dict(orb) + 1"
   ]
  },
  {
   "cell_type": "code",
   "execution_count": 4,
   "metadata": {},
   "outputs": [],
   "source": [
    "orbit_counts = {x:count_orbits_in_dict(x) for x in orbit_dict.keys()}"
   ]
  },
  {
   "cell_type": "code",
   "execution_count": 5,
   "metadata": {},
   "outputs": [
    {
     "data": {
      "text/plain": [
       "314702"
      ]
     },
     "execution_count": 5,
     "metadata": {},
     "output_type": "execute_result"
    }
   ],
   "source": [
    "sum([c for c in orbit_counts.values()])"
   ]
  },
  {
   "cell_type": "code",
   "execution_count": 6,
   "metadata": {},
   "outputs": [
    {
     "data": {
      "text/plain": [
       "36"
      ]
     },
     "execution_count": 6,
     "metadata": {},
     "output_type": "execute_result"
    }
   ],
   "source": [
    "count_orbits_in_dict('P1T')"
   ]
  },
  {
   "cell_type": "code",
   "execution_count": 7,
   "metadata": {},
   "outputs": [],
   "source": [
    "def get_steps(planet, verbose=False):\n",
    "    if planet not in orbit_dict:\n",
    "        if verbose:\n",
    "            print(f'{planet} is the end of the line')\n",
    "        return [planet]\n",
    "    step_list = [planet]\n",
    "    orb = orbit_dict[planet]\n",
    "    if verbose:\n",
    "        print(f'Moving to {orb}')\n",
    "    step_list.extend(get_steps(orb, verbose))\n",
    "    return step_list"
   ]
  },
  {
   "cell_type": "code",
   "execution_count": 8,
   "metadata": {},
   "outputs": [],
   "source": [
    "you_steps = get_steps('YOU')\n",
    "san_steps = get_steps('SAN')"
   ]
  },
  {
   "cell_type": "code",
   "execution_count": 9,
   "metadata": {},
   "outputs": [
    {
     "name": "stdout",
     "output_type": "stream",
     "text": [
      "161 280 439\n"
     ]
    }
   ],
   "source": [
    "for i, step in enumerate(you_steps):\n",
    "    try:\n",
    "        s = san_steps.index(step)\n",
    "    except ValueError:\n",
    "        pass\n",
    "        continue\n",
    "    print(s, i, s+i-2)\n",
    "    break\n",
    "    \n",
    "    "
   ]
  },
  {
   "cell_type": "code",
   "execution_count": 125,
   "metadata": {},
   "outputs": [
    {
     "data": {
      "text/plain": [
       "222"
      ]
     },
     "execution_count": 125,
     "metadata": {},
     "output_type": "execute_result"
    }
   ],
   "source": [
    "orbit_counts['SAN']"
   ]
  },
  {
   "cell_type": "code",
   "execution_count": 142,
   "metadata": {},
   "outputs": [
    {
     "name": "stdout",
     "output_type": "stream",
     "text": [
      "Moving to J3G\n",
      "Moving to Z16\n",
      "Moving to 911\n",
      "Moving to XDK\n",
      "Moving to J3V\n",
      "Moving to PB5\n",
      "Moving to RV4\n",
      "Moving to COM\n",
      "COM is the end of the line\n"
     ]
    },
    {
     "data": {
      "text/plain": [
       "['7Q4', 'J3G', 'Z16', '911', 'XDK', 'J3V', 'PB5', 'RV4', 'COM']"
      ]
     },
     "execution_count": 142,
     "metadata": {},
     "output_type": "execute_result"
    }
   ],
   "source": [
    "get_steps('7Q4', True)"
   ]
  },
  {
   "cell_type": "code",
   "execution_count": 152,
   "metadata": {},
   "outputs": [
    {
     "data": {
      "text/plain": [
       "'BZ6'"
      ]
     },
     "execution_count": 152,
     "metadata": {},
     "output_type": "execute_result"
    }
   ],
   "source": [
    "san_steps[2]"
   ]
  },
  {
   "cell_type": "code",
   "execution_count": 17,
   "metadata": {},
   "outputs": [
    {
     "data": {
      "text/plain": [
       "['ZGR', 'JR4', 'KF1', '4HL', 'KW4', 'T9P', 'YQ1', 'K6Q', 'FH2', '4JP']"
      ]
     },
     "execution_count": 17,
     "metadata": {},
     "output_type": "execute_result"
    }
   ],
   "source": [
    "you_steps[274:284]"
   ]
  },
  {
   "cell_type": "code",
   "execution_count": 18,
   "metadata": {},
   "outputs": [
    {
     "data": {
      "text/plain": [
       "['MVY', 'D1Q', 'S5L', 'H1B', 'CPK', '5NR', 'YQ1', 'K6Q', 'FH2', '4JP']"
      ]
     },
     "execution_count": 18,
     "metadata": {},
     "output_type": "execute_result"
    }
   ],
   "source": [
    "san_steps[155:165]"
   ]
  },
  {
   "cell_type": "code",
   "execution_count": null,
   "metadata": {},
   "outputs": [],
   "source": []
  }
 ],
 "metadata": {
  "kernelspec": {
   "display_name": "Python [default]",
   "language": "python",
   "name": "python3"
  },
  "language_info": {
   "codemirror_mode": {
    "name": "ipython",
    "version": 3
   },
   "file_extension": ".py",
   "mimetype": "text/x-python",
   "name": "python",
   "nbconvert_exporter": "python",
   "pygments_lexer": "ipython3",
   "version": "3.6.7"
  }
 },
 "nbformat": 4,
 "nbformat_minor": 4
}
