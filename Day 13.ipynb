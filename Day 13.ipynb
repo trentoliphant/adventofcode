{
 "cells": [
  {
   "cell_type": "code",
   "execution_count": 1,
   "metadata": {},
   "outputs": [],
   "source": [
    "from intcode import intcode"
   ]
  },
  {
   "cell_type": "markdown",
   "metadata": {},
   "source": [
    "# Part 1"
   ]
  },
  {
   "cell_type": "code",
   "execution_count": 2,
   "metadata": {
    "jupyter": {
     "source_hidden": true
    }
   },
   "outputs": [],
   "source": [
    "inst = [int(num) for num in open('input 13.txt').read().split(',')]"
   ]
  },
  {
   "cell_type": "code",
   "execution_count": 3,
   "metadata": {
    "jupyter": {
     "source_hidden": true
    }
   },
   "outputs": [],
   "source": [
    "setup = intcode(inst)"
   ]
  },
  {
   "cell_type": "code",
   "execution_count": 4,
   "metadata": {
    "collapsed": true,
    "jupyter": {
     "outputs_hidden": true,
     "source_hidden": true
    }
   },
   "outputs": [
    {
     "data": {
      "text/plain": [
       "99"
      ]
     },
     "execution_count": 4,
     "metadata": {},
     "output_type": "execute_result"
    }
   ],
   "source": [
    "setup.run()"
   ]
  },
  {
   "cell_type": "code",
   "execution_count": 6,
   "metadata": {
    "jupyter": {
     "source_hidden": true
    }
   },
   "outputs": [],
   "source": [
    "pixels = [setup.output[i:i+3] for i in range(0, len(setup.output), 3)]"
   ]
  },
  {
   "cell_type": "code",
   "execution_count": 8,
   "metadata": {
    "collapsed": true,
    "jupyter": {
     "outputs_hidden": true,
     "source_hidden": true
    }
   },
   "outputs": [
    {
     "name": "stdout",
     "output_type": "stream",
     "text": [
      "363\n"
     ]
    }
   ],
   "source": [
    "blocks = 0\n",
    "for pixel in pixels:\n",
    "    if pixel[2] == 2:\n",
    "        blocks +=1\n",
    "print(blocks)"
   ]
  },
  {
   "cell_type": "markdown",
   "metadata": {},
   "source": [
    "# Part 2"
   ]
  },
  {
   "cell_type": "code",
   "execution_count": 2,
   "metadata": {},
   "outputs": [],
   "source": [
    "def min_screen_dump(output, ball=0, paddle=0, verbose=False):\n",
    "    screen = [output[i:i+3] for i in range(0, len(output), 3)]\n",
    "    for pixel in screen:\n",
    "        if pixel[0] == -1:\n",
    "            print(F'Score = {pixel[2]}')\n",
    "        if pixel[2] == 3:\n",
    "            paddle = pixel[0:2]\n",
    "            if verbose:\n",
    "                print(pixel[0], pixel[1], \"Paddle\")\n",
    "        if pixel[2] == 4:\n",
    "            ball = pixel[0:2]\n",
    "            if verbose:\n",
    "                print(pixel[0], pixel[1], \"Ball\")\n",
    "    return ball, paddle"
   ]
  },
  {
   "cell_type": "code",
   "execution_count": null,
   "metadata": {},
   "outputs": [],
   "source": []
  },
  {
   "cell_type": "code",
   "execution_count": 3,
   "metadata": {},
   "outputs": [],
   "source": [
    "#Load the game and change first value to 2 to allow it to run\n",
    "inst = [int(num) for num in open('input 13.txt').read().split(',')]\n",
    "inst[0] = 2\n",
    "\n",
    "game = intcode(inst)"
   ]
  },
  {
   "cell_type": "code",
   "execution_count": 4,
   "metadata": {},
   "outputs": [],
   "source": [
    "game.add_input([0,-1,0,1,1,1,1,1,1])"
   ]
  },
  {
   "cell_type": "code",
   "execution_count": 5,
   "metadata": {},
   "outputs": [
    {
     "data": {
      "text/plain": [
       "99"
      ]
     },
     "execution_count": 5,
     "metadata": {},
     "output_type": "execute_result"
    }
   ],
   "source": [
    "game.run()"
   ]
  },
  {
   "cell_type": "code",
   "execution_count": 6,
   "metadata": {},
   "outputs": [
    {
     "name": "stdout",
     "output_type": "stream",
     "text": [
      "19 18 Ball\n",
      "21 21 Paddle\n",
      "Score = 0\n",
      "20 19 Ball\n",
      "20 21 Paddle\n",
      "21 20 Ball\n",
      "22 21 Ball\n",
      "21 21 Paddle\n",
      "23 22 Ball\n",
      "Score = 0\n"
     ]
    },
    {
     "data": {
      "text/plain": [
       "([23, 22], [21, 21])"
      ]
     },
     "execution_count": 6,
     "metadata": {},
     "output_type": "execute_result"
    }
   ],
   "source": [
    "min_screen_dump(game.output, verbose=True)"
   ]
  },
  {
   "cell_type": "code",
   "execution_count": 4,
   "metadata": {},
   "outputs": [],
   "source": [
    "def which_way(paddle, cur_ball, prev_ball=(0,0)):\n",
    "    px, py = paddle\n",
    "    cx, cy = cur_ball\n",
    "    bx, by = prev_ball\n",
    "    if px == cx:\n",
    "        return 0\n",
    "    if px < cx:\n",
    "        return 1\n",
    "    if px > cx:\n",
    "        return -1\n",
    "    "
   ]
  },
  {
   "cell_type": "code",
   "execution_count": 5,
   "metadata": {},
   "outputs": [
    {
     "name": "stdout",
     "output_type": "stream",
     "text": [
      "Score = 0\n",
      "Score = 91\n",
      "Score = 95\n",
      "Score = 113\n",
      "Score = 129\n",
      "Score = 179\n",
      "Score = 228\n",
      "Score = 263\n",
      "Score = 265\n",
      "Score = 325\n",
      "Score = 353\n",
      "Score = 408\n",
      "Score = 459\n",
      "Score = 539\n",
      "Score = 603\n",
      "Score = 670\n",
      "Score = 766\n",
      "Score = 823\n",
      "Score = 894\n",
      "Score = 916\n",
      "Score = 969\n",
      "Score = 1057\n",
      "Score = 1117\n",
      "Score = 1197\n",
      "Score = 1228\n",
      "Score = 1262\n",
      "Score = 1298\n",
      "Score = 1313\n",
      "Score = 1354\n",
      "Score = 1376\n",
      "Score = 1454\n",
      "Score = 1512\n",
      "Score = 1519\n",
      "Score = 1585\n",
      "Score = 1634\n",
      "Score = 1637\n",
      "Score = 1731\n",
      "Score = 1829\n",
      "Score = 1860\n",
      "Score = 1954\n",
      "Score = 1997\n",
      "Score = 2087\n",
      "Score = 2121\n",
      "Score = 2148\n",
      "Score = 2159\n",
      "Score = 2177\n",
      "Score = 2259\n",
      "Score = 2353\n",
      "Score = 2428\n",
      "Score = 2453\n",
      "Score = 2468\n",
      "Score = 2542\n",
      "Score = 2610\n",
      "Score = 2678\n",
      "Score = 2679\n",
      "Score = 2740\n",
      "Score = 2805\n",
      "Score = 2853\n",
      "Score = 2879\n",
      "Score = 2954\n",
      "Score = 2969\n",
      "Score = 3034\n",
      "Score = 3129\n",
      "Score = 3130\n",
      "Score = 3170\n",
      "Score = 3244\n",
      "Score = 3285\n",
      "Score = 3345\n",
      "Score = 3430\n",
      "Score = 3510\n",
      "Score = 3533\n",
      "Score = 3574\n",
      "Score = 3577\n",
      "Score = 3642\n",
      "Score = 3649\n",
      "Score = 3736\n",
      "Score = 3748\n",
      "Score = 3812\n",
      "Score = 3860\n",
      "Score = 3886\n",
      "Score = 3891\n",
      "Score = 3937\n",
      "Score = 4015\n",
      "Score = 4068\n",
      "Score = 4161\n",
      "Score = 4223\n",
      "Score = 4275\n",
      "Score = 4370\n",
      "Score = 4440\n",
      "Score = 4481\n",
      "Score = 4567\n",
      "Score = 4637\n",
      "Score = 4648\n",
      "Score = 4660\n",
      "Score = 4698\n",
      "Score = 4706\n",
      "Score = 4757\n",
      "Score = 4788\n",
      "Score = 4800\n",
      "Score = 4810\n",
      "Score = 4832\n",
      "Score = 4851\n",
      "Score = 4936\n",
      "Score = 4977\n",
      "Score = 4980\n",
      "Score = 5060\n",
      "Score = 5115\n",
      "Score = 5116\n",
      "Score = 5211\n",
      "Score = 5290\n",
      "Score = 5302\n",
      "Score = 5307\n",
      "Score = 5346\n",
      "Score = 5353\n",
      "Score = 5368\n",
      "Score = 5462\n",
      "Score = 5474\n",
      "Score = 5552\n",
      "Score = 5568\n",
      "Score = 5613\n",
      "Score = 5682\n",
      "Score = 5780\n",
      "Score = 5866\n",
      "Score = 5962\n",
      "Score = 6014\n",
      "Score = 6107\n",
      "Score = 6151\n",
      "Score = 6162\n",
      "Score = 6223\n",
      "Score = 6239\n",
      "Score = 6263\n",
      "Score = 6271\n",
      "Score = 6334\n",
      "Score = 6361\n",
      "Score = 6429\n",
      "Score = 6501\n",
      "Score = 6506\n",
      "Score = 6552\n",
      "Score = 6592\n",
      "Score = 6688\n",
      "Score = 6744\n",
      "Score = 6766\n",
      "Score = 6788\n",
      "Score = 6865\n",
      "Score = 6927\n",
      "Score = 6933\n",
      "Score = 6986\n",
      "Score = 7002\n",
      "Score = 7036\n",
      "Score = 7060\n",
      "Score = 7101\n",
      "Score = 7132\n",
      "Score = 7191\n",
      "Score = 7248\n",
      "Score = 7310\n",
      "Score = 7341\n",
      "Score = 7413\n",
      "Score = 7427\n",
      "Score = 7432\n",
      "Score = 7484\n",
      "Score = 7520\n",
      "Score = 7547\n",
      "Score = 7548\n",
      "Score = 7589\n",
      "Score = 7687\n",
      "Score = 7714\n",
      "Score = 7727\n",
      "Score = 7775\n",
      "Score = 7811\n",
      "Score = 7892\n",
      "Score = 7949\n",
      "Score = 7978\n",
      "Score = 8023\n",
      "Score = 8058\n",
      "Score = 8155\n",
      "Score = 8204\n",
      "Score = 8237\n",
      "Score = 8302\n",
      "Score = 8316\n",
      "Score = 8355\n",
      "Score = 8398\n",
      "Score = 8409\n",
      "Score = 8471\n",
      "Score = 8493\n",
      "Score = 8570\n",
      "Score = 8585\n",
      "Score = 8670\n",
      "Score = 8716\n",
      "Score = 8737\n",
      "Score = 8786\n",
      "Score = 8799\n",
      "Score = 8891\n",
      "Score = 8892\n",
      "Score = 8952\n",
      "Score = 9019\n",
      "Score = 9051\n",
      "Score = 9097\n",
      "Score = 9105\n",
      "Score = 9174\n",
      "Score = 9262\n",
      "Score = 9313\n",
      "Score = 9315\n",
      "Score = 9368\n",
      "Score = 9380\n",
      "Score = 9468\n",
      "Score = 9480\n",
      "Score = 9569\n",
      "Score = 9629\n",
      "Score = 9659\n",
      "Score = 9720\n",
      "Score = 9759\n",
      "Score = 9834\n",
      "Score = 9898\n",
      "Score = 9926\n",
      "Score = 9929\n",
      "Score = 9933\n",
      "Score = 9963\n",
      "Score = 10020\n",
      "Score = 10077\n",
      "Score = 10089\n",
      "Score = 10096\n",
      "Score = 10118\n",
      "Score = 10148\n",
      "Score = 10195\n",
      "Score = 10219\n",
      "Score = 10290\n",
      "Score = 10306\n",
      "Score = 10373\n",
      "Score = 10433\n",
      "Score = 10530\n",
      "Score = 10556\n",
      "Score = 10578\n",
      "Score = 10675\n",
      "Score = 10758\n",
      "Score = 10762\n",
      "Score = 10841\n",
      "Score = 10908\n",
      "Score = 10978\n",
      "Score = 11072\n",
      "Score = 11122\n",
      "Score = 11158\n",
      "Score = 11199\n",
      "Score = 11256\n",
      "Score = 11347\n",
      "Score = 11407\n",
      "Score = 11487\n",
      "Score = 11540\n",
      "Score = 11583\n",
      "Score = 11640\n",
      "Score = 11650\n",
      "Score = 11683\n",
      "Score = 11752\n",
      "Score = 11818\n",
      "Score = 11866\n",
      "Score = 11952\n",
      "Score = 12033\n",
      "Score = 12085\n",
      "Score = 12103\n",
      "Score = 12192\n",
      "Score = 12253\n",
      "Score = 12254\n",
      "Score = 12291\n",
      "Score = 12294\n",
      "Score = 12336\n",
      "Score = 12391\n",
      "Score = 12426\n",
      "Score = 12495\n",
      "Score = 12497\n",
      "Score = 12583\n",
      "Score = 12608\n",
      "Score = 12655\n",
      "Score = 12711\n",
      "Score = 12777\n",
      "Score = 12874\n",
      "Score = 12942\n",
      "Score = 13023\n",
      "Score = 13078\n",
      "Score = 13153\n",
      "Score = 13205\n",
      "Score = 13234\n",
      "Score = 13265\n",
      "Score = 13300\n",
      "Score = 13348\n",
      "Score = 13382\n",
      "Score = 13454\n",
      "Score = 13487\n",
      "Score = 13535\n",
      "Score = 13617\n",
      "Score = 13707\n",
      "Score = 13745\n",
      "Score = 13771\n",
      "Score = 13840\n",
      "Score = 13856\n",
      "Score = 13871\n",
      "Score = 13875\n",
      "Score = 13972\n",
      "Score = 14032\n",
      "Score = 14069\n",
      "Score = 14101\n",
      "Score = 14110\n",
      "Score = 14195\n",
      "Score = 14244\n",
      "Score = 14274\n",
      "Score = 14365\n",
      "Score = 14422\n",
      "Score = 14454\n",
      "Score = 14484\n",
      "Score = 14523\n",
      "Score = 14599\n",
      "Score = 14635\n",
      "Score = 14714\n",
      "Score = 14730\n",
      "Score = 14793\n",
      "Score = 14879\n",
      "Score = 14892\n",
      "Score = 14933\n",
      "Score = 15029\n",
      "Score = 15092\n",
      "Score = 15107\n",
      "Score = 15119\n",
      "Score = 15215\n",
      "Score = 15262\n",
      "Score = 15332\n",
      "Score = 15334\n",
      "Score = 15388\n",
      "Score = 15459\n",
      "Score = 15491\n",
      "Score = 15551\n",
      "Score = 15567\n",
      "Score = 15590\n",
      "Score = 15623\n",
      "Score = 15671\n",
      "Score = 15732\n",
      "Score = 15783\n",
      "Score = 15830\n",
      "Score = 15864\n",
      "Score = 15923\n",
      "Score = 15963\n",
      "Score = 16015\n",
      "Score = 16077\n",
      "Score = 16119\n",
      "Score = 16184\n",
      "Score = 16280\n",
      "Score = 16328\n",
      "Score = 16420\n",
      "Score = 16433\n",
      "Score = 16454\n",
      "Score = 16483\n",
      "Score = 16491\n",
      "Score = 16520\n",
      "Score = 16547\n",
      "Score = 16627\n",
      "Score = 16681\n",
      "Score = 16741\n",
      "Score = 16753\n",
      "Score = 16782\n",
      "Score = 16799\n",
      "Score = 16833\n",
      "Score = 16847\n",
      "Score = 16938\n",
      "Score = 17009\n",
      "Score = 17060\n",
      "Score = 17086\n",
      "Score = 17159\n",
      "Game Over\n"
     ]
    }
   ],
   "source": [
    "prev_paddle = (0, 0)\n",
    "status = 0\n",
    "while status != 99:\n",
    "    status = game.run()\n",
    "    cur_ball, cur_paddle = min_screen_dump(game.output)\n",
    "    if status == 99:\n",
    "        print(\"Game Over\")\n",
    "        break\n",
    "    if cur_paddle == 0:\n",
    "        cur_paddle = prev_paddle\n",
    "    game.flush_output()\n",
    "    game.add_input(which_way(cur_paddle, cur_ball))\n",
    "    "
   ]
  },
  {
   "cell_type": "code",
   "execution_count": 10,
   "metadata": {},
   "outputs": [
    {
     "data": {
      "text/plain": [
       "99"
      ]
     },
     "execution_count": 10,
     "metadata": {},
     "output_type": "execute_result"
    }
   ],
   "source": [
    "status"
   ]
  },
  {
   "cell_type": "code",
   "execution_count": null,
   "metadata": {},
   "outputs": [],
   "source": []
  },
  {
   "cell_type": "code",
   "execution_count": 128,
   "metadata": {},
   "outputs": [],
   "source": [
    "game.flush_output()"
   ]
  },
  {
   "cell_type": "code",
   "execution_count": 23,
   "metadata": {},
   "outputs": [],
   "source": [
    "ginput = [1,1,0,-1,-1,-1]"
   ]
  },
  {
   "cell_type": "code",
   "execution_count": 159,
   "metadata": {},
   "outputs": [
    {
     "data": {
      "text/plain": [
       "[-1,\n",
       " 1,\n",
       " 0,\n",
       " 1,\n",
       " 1,\n",
       " 1,\n",
       " 1,\n",
       " 1,\n",
       " 1,\n",
       " 1,\n",
       " 1,\n",
       " 1,\n",
       " -1,\n",
       " -1,\n",
       " -1,\n",
       " -1,\n",
       " -1,\n",
       " -1,\n",
       " -1,\n",
       " -1,\n",
       " -1,\n",
       " -1,\n",
       " -1,\n",
       " -1,\n",
       " -1,\n",
       " -1,\n",
       " -1,\n",
       " -1,\n",
       " -1,\n",
       " -1,\n",
       " -1,\n",
       " -1,\n",
       " -1,\n",
       " -1,\n",
       " -1,\n",
       " -1,\n",
       " -1,\n",
       " -1,\n",
       " -1,\n",
       " -1,\n",
       " -1,\n",
       " 1,\n",
       " 1,\n",
       " 1,\n",
       " 1,\n",
       " 1,\n",
       " 0,\n",
       " -1,\n",
       " 0,\n",
       " 0,\n",
       " 0,\n",
       " 0,\n",
       " -1,\n",
       " -1,\n",
       " -1,\n",
       " -1,\n",
       " 1,\n",
       " 1,\n",
       " 1,\n",
       " 1]"
      ]
     },
     "execution_count": 159,
     "metadata": {},
     "output_type": "execute_result"
    }
   ],
   "source": [
    "game.input"
   ]
  },
  {
   "cell_type": "code",
   "execution_count": null,
   "metadata": {},
   "outputs": [],
   "source": []
  },
  {
   "cell_type": "code",
   "execution_count": null,
   "metadata": {},
   "outputs": [],
   "source": []
  },
  {
   "cell_type": "code",
   "execution_count": 20,
   "metadata": {},
   "outputs": [],
   "source": [
    "game.flush_output()"
   ]
  },
  {
   "cell_type": "code",
   "execution_count": 21,
   "metadata": {},
   "outputs": [
    {
     "data": {
      "text/plain": [
       "[]"
      ]
     },
     "execution_count": 21,
     "metadata": {},
     "output_type": "execute_result"
    }
   ],
   "source": [
    "game.output"
   ]
  },
  {
   "cell_type": "code",
   "execution_count": 10,
   "metadata": {},
   "outputs": [
    {
     "data": {
      "text/plain": [
       "2970"
      ]
     },
     "execution_count": 10,
     "metadata": {},
     "output_type": "execute_result"
    }
   ],
   "source": [
    "len(game.output)"
   ]
  },
  {
   "cell_type": "code",
   "execution_count": null,
   "metadata": {},
   "outputs": [],
   "source": [
    "game.input()"
   ]
  },
  {
   "cell_type": "code",
   "execution_count": 22,
   "metadata": {},
   "outputs": [],
   "source": [
    "next_move = -1\n",
    "last_ball = 0\n",
    "last_paddle = 0\n",
    "\n",
    "to_input = [0,0,0,0,0,-1,-1,-1,-1,-1]\n",
    "#g.add_input(to_input)\n",
    "status = 0\n",
    "verbose = True"
   ]
  },
  {
   "cell_type": "code",
   "execution_count": 25,
   "metadata": {},
   "outputs": [
    {
     "name": "stdout",
     "output_type": "stream",
     "text": [
      "20 19 Ball\n",
      "21 20 Ball\n",
      "22 19 Ball\n",
      "23 18 Ball\n",
      "24 17 Ball\n",
      "20 21 Paddle\n",
      "Score = 91\n",
      "25 18 Ball\n",
      "19 21 Paddle\n",
      "26 19 Ball\n",
      "18 21 Paddle\n",
      "27 20 Ball\n",
      "17 21 Paddle\n",
      "28 21 Ball\n",
      "16 21 Paddle\n",
      "29 22 Ball\n",
      "Score = 0\n"
     ]
    },
    {
     "ename": "IndexError",
     "evalue": "list index out of range",
     "output_type": "error",
     "traceback": [
      "\u001b[0;31m---------------------------------------------------------------------------\u001b[0m",
      "\u001b[0;31mIndexError\u001b[0m                                Traceback (most recent call last)",
      "\u001b[0;32m<ipython-input-25-e2207e9bcff1>\u001b[0m in \u001b[0;36m<module>\u001b[0;34m()\u001b[0m\n\u001b[1;32m      2\u001b[0m     \u001b[0mstatus\u001b[0m \u001b[0;34m=\u001b[0m \u001b[0mgame\u001b[0m\u001b[0;34m.\u001b[0m\u001b[0mrun\u001b[0m\u001b[0;34m(\u001b[0m\u001b[0;34m)\u001b[0m\u001b[0;34m\u001b[0m\u001b[0;34m\u001b[0m\u001b[0m\n\u001b[1;32m      3\u001b[0m     \u001b[0mnext_ball\u001b[0m\u001b[0;34m,\u001b[0m \u001b[0mnext_paddle\u001b[0m \u001b[0;34m=\u001b[0m \u001b[0mmin_screen_dump\u001b[0m\u001b[0;34m(\u001b[0m\u001b[0mgame\u001b[0m\u001b[0;34m.\u001b[0m\u001b[0moutput\u001b[0m\u001b[0;34m,\u001b[0m \u001b[0mlast_ball\u001b[0m\u001b[0;34m,\u001b[0m \u001b[0mlast_paddle\u001b[0m\u001b[0;34m,\u001b[0m \u001b[0mverbose\u001b[0m\u001b[0;34m)\u001b[0m\u001b[0;34m\u001b[0m\u001b[0;34m\u001b[0m\u001b[0m\n\u001b[0;32m----> 4\u001b[0;31m     \u001b[0mgame\u001b[0m\u001b[0;34m.\u001b[0m\u001b[0madd_input\u001b[0m\u001b[0;34m(\u001b[0m\u001b[0mto_input\u001b[0m\u001b[0;34m[\u001b[0m\u001b[0mx\u001b[0m\u001b[0;34m]\u001b[0m\u001b[0;34m)\u001b[0m\u001b[0;34m\u001b[0m\u001b[0;34m\u001b[0m\u001b[0m\n\u001b[0m\u001b[1;32m      5\u001b[0m     \u001b[0mgame\u001b[0m\u001b[0;34m.\u001b[0m\u001b[0mflush_output\u001b[0m\u001b[0;34m(\u001b[0m\u001b[0;34m)\u001b[0m\u001b[0;34m\u001b[0m\u001b[0;34m\u001b[0m\u001b[0m\n\u001b[1;32m      6\u001b[0m     \u001b[0;32mif\u001b[0m \u001b[0mstatus\u001b[0m\u001b[0;34m==\u001b[0m\u001b[0;36m99\u001b[0m\u001b[0;34m:\u001b[0m\u001b[0;34m\u001b[0m\u001b[0;34m\u001b[0m\u001b[0m\n",
      "\u001b[0;31mIndexError\u001b[0m: list index out of range"
     ]
    }
   ],
   "source": [
    "for x in range(20):\n",
    "    status = game.run()\n",
    "    next_ball, next_paddle = min_screen_dump(game.output, last_ball, last_paddle, verbose)\n",
    "    game.add_input(to_input[x])\n",
    "    game.flush_output()\n",
    "    if status==99:\n",
    "        break"
   ]
  },
  {
   "cell_type": "code",
   "execution_count": null,
   "metadata": {},
   "outputs": [],
   "source": []
  }
 ],
 "metadata": {
  "kernelspec": {
   "display_name": "Python [default]",
   "language": "python",
   "name": "python3"
  },
  "language_info": {
   "codemirror_mode": {
    "name": "ipython",
    "version": 3
   },
   "file_extension": ".py",
   "mimetype": "text/x-python",
   "name": "python",
   "nbconvert_exporter": "python",
   "pygments_lexer": "ipython3",
   "version": "3.6.7"
  }
 },
 "nbformat": 4,
 "nbformat_minor": 4
}
