{
 "cells": [
  {
   "cell_type": "code",
   "execution_count": 63,
   "metadata": {},
   "outputs": [],
   "source": [
    "inputs = [1,0,0,3,1,1,2,3,1,3,4,3,1,5,0,3,2,1,9,19,1,19,5,23,2,23,13,27,1,10,27,31,2,31,6,35,1,5,35,39,1,39,10,43,2,9,43,47,1,47,5,51,2,51,9,55,1,13,55,59,1,13,59,63,1,6,63,67,2,13,67,71,1,10,71,75,2,13,75,79,1,5,79,83,2,83,9,87,2,87,13,91,1,91,5,95,2,9,95,99,1,99,5,103,1,2,103,107,1,10,107,0,99,2,14,0,0]"
   ]
  },
  {
   "cell_type": "code",
   "execution_count": 62,
   "metadata": {},
   "outputs": [],
   "source": [
    "def add(a, b):\n",
    "    return a + b\n",
    "\n",
    "def mul(a, b):\n",
    "    return a * b\n",
    "\n",
    "def gravity(reg, cur_pos=0):\n",
    "    op_code = reg[cur_pos]\n",
    "    op_sym = '+'\n",
    "    while op_code !=99:\n",
    "#         print(F'Current register: {reg[cur_pos:cur_pos+4]}')\n",
    "        if op_code == 1:\n",
    "            op = add\n",
    "            op_sym = '+'\n",
    "        elif op_code == 2:\n",
    "            op = mul\n",
    "            op_sym = '*'\n",
    "        else:\n",
    "            raise ValueError(F'{op_code} is not a valid op_code')\n",
    "        a = cur_pos + 1\n",
    "        b = cur_pos + 2\n",
    "        c = cur_pos + 3\n",
    "        pos_to_change = reg[c]\n",
    "        pos_a = reg[a]\n",
    "        pos_b = reg[b]\n",
    "        reg[pos_to_change] = op(reg[pos_a], reg[pos_b])\n",
    "#         print('Register Postitions of values')\n",
    "#         print(F'\\treg[{a}] = {pos_a} which has value {reg[pos_a]}')\n",
    "#         print(F'\\treg[{b}] = {pos_b} which has value {reg[pos_b]}')\n",
    "#         print(F'Register position {pos_to_change} set to {reg[pos_to_change]} ({reg[pos_a]} {op_sym} {reg[pos_b]})')\n",
    "        cur_pos += 4\n",
    "        op_code = reg[cur_pos]\n",
    "#         print()\n",
    "\n",
    "        "
   ]
  },
  {
   "cell_type": "code",
   "execution_count": 54,
   "metadata": {},
   "outputs": [
    {
     "name": "stdout",
     "output_type": "stream",
     "text": [
      "Current register: [1, 0, 0, 3]\n",
      "Register Postitions of values\n",
      "\treg[1] = 0 which has value 1\n",
      "\treg[2] = 0 which has value 1\n",
      "Register position 3 set to 2 (1 + 1)\n",
      "\n",
      "Current register: [1, 1, 2, 3]\n",
      "Register Postitions of values\n",
      "\treg[5] = 1 which has value 0\n",
      "\treg[6] = 2 which has value 0\n",
      "Register position 3 set to 0 (0 + 0)\n",
      "\n",
      "Current register: [1, 3, 4, 3]\n",
      "Register Postitions of values\n",
      "\treg[9] = 3 which has value 1\n",
      "\treg[10] = 4 which has value 1\n",
      "Register position 3 set to 1 (1 + 1)\n",
      "\n",
      "Current register: [1, 5, 0, 3]\n",
      "Register Postitions of values\n",
      "\treg[13] = 5 which has value 1\n",
      "\treg[14] = 0 which has value 1\n",
      "Register position 3 set to 2 (1 + 1)\n",
      "\n",
      "Current register: [2, 1, 9, 19]\n",
      "Register Postitions of values\n",
      "\treg[17] = 1 which has value 0\n",
      "\treg[18] = 9 which has value 3\n",
      "Register position 19 set to 0 (0 * 3)\n",
      "\n",
      "Current register: [1, 19, 5, 23]\n",
      "Register Postitions of values\n",
      "\treg[21] = 19 which has value 0\n",
      "\treg[22] = 5 which has value 1\n",
      "Register position 23 set to 1 (0 + 1)\n",
      "\n",
      "Current register: [2, 23, 13, 27]\n",
      "Register Postitions of values\n",
      "\treg[25] = 23 which has value 1\n",
      "\treg[26] = 13 which has value 5\n",
      "Register position 27 set to 5 (1 * 5)\n",
      "\n",
      "Current register: [1, 10, 27, 31]\n",
      "Register Postitions of values\n",
      "\treg[29] = 10 which has value 4\n",
      "\treg[30] = 27 which has value 5\n",
      "Register position 31 set to 9 (4 + 5)\n",
      "\n",
      "Current register: [2, 31, 6, 35]\n",
      "Register Postitions of values\n",
      "\treg[33] = 31 which has value 9\n",
      "\treg[34] = 6 which has value 2\n",
      "Register position 35 set to 18 (9 * 2)\n",
      "\n",
      "Current register: [1, 5, 35, 39]\n",
      "Register Postitions of values\n",
      "\treg[37] = 5 which has value 1\n",
      "\treg[38] = 35 which has value 18\n",
      "Register position 39 set to 19 (1 + 18)\n",
      "\n",
      "Current register: [1, 39, 10, 43]\n",
      "Register Postitions of values\n",
      "\treg[41] = 39 which has value 19\n",
      "\treg[42] = 10 which has value 4\n",
      "Register position 43 set to 23 (19 + 4)\n",
      "\n",
      "Current register: [2, 9, 43, 47]\n",
      "Register Postitions of values\n",
      "\treg[45] = 9 which has value 3\n",
      "\treg[46] = 43 which has value 23\n",
      "Register position 47 set to 69 (3 * 23)\n",
      "\n",
      "Current register: [1, 47, 5, 51]\n",
      "Register Postitions of values\n",
      "\treg[49] = 47 which has value 69\n",
      "\treg[50] = 5 which has value 1\n",
      "Register position 51 set to 70 (69 + 1)\n",
      "\n",
      "Current register: [2, 51, 9, 55]\n",
      "Register Postitions of values\n",
      "\treg[53] = 51 which has value 70\n",
      "\treg[54] = 9 which has value 3\n",
      "Register position 55 set to 210 (70 * 3)\n",
      "\n",
      "Current register: [1, 13, 55, 59]\n",
      "Register Postitions of values\n",
      "\treg[57] = 13 which has value 5\n",
      "\treg[58] = 55 which has value 210\n",
      "Register position 59 set to 215 (5 + 210)\n",
      "\n",
      "Current register: [1, 13, 59, 63]\n",
      "Register Postitions of values\n",
      "\treg[61] = 13 which has value 5\n",
      "\treg[62] = 59 which has value 215\n",
      "Register position 63 set to 220 (5 + 215)\n",
      "\n",
      "Current register: [1, 6, 63, 67]\n",
      "Register Postitions of values\n",
      "\treg[65] = 6 which has value 2\n",
      "\treg[66] = 63 which has value 220\n",
      "Register position 67 set to 222 (2 + 220)\n",
      "\n",
      "Current register: [2, 13, 67, 71]\n",
      "Register Postitions of values\n",
      "\treg[69] = 13 which has value 5\n",
      "\treg[70] = 67 which has value 222\n",
      "Register position 71 set to 1110 (5 * 222)\n",
      "\n",
      "Current register: [1, 10, 71, 75]\n",
      "Register Postitions of values\n",
      "\treg[73] = 10 which has value 4\n",
      "\treg[74] = 71 which has value 1110\n",
      "Register position 75 set to 1114 (4 + 1110)\n",
      "\n",
      "Current register: [2, 13, 75, 79]\n",
      "Register Postitions of values\n",
      "\treg[77] = 13 which has value 5\n",
      "\treg[78] = 75 which has value 1114\n",
      "Register position 79 set to 5570 (5 * 1114)\n",
      "\n",
      "Current register: [1, 5, 79, 83]\n",
      "Register Postitions of values\n",
      "\treg[81] = 5 which has value 1\n",
      "\treg[82] = 79 which has value 5570\n",
      "Register position 83 set to 5571 (1 + 5570)\n",
      "\n",
      "Current register: [2, 83, 9, 87]\n",
      "Register Postitions of values\n",
      "\treg[85] = 83 which has value 5571\n",
      "\treg[86] = 9 which has value 3\n",
      "Register position 87 set to 16713 (5571 * 3)\n",
      "\n",
      "Current register: [2, 87, 13, 91]\n",
      "Register Postitions of values\n",
      "\treg[89] = 87 which has value 16713\n",
      "\treg[90] = 13 which has value 5\n",
      "Register position 91 set to 83565 (16713 * 5)\n",
      "\n",
      "Current register: [1, 91, 5, 95]\n",
      "Register Postitions of values\n",
      "\treg[93] = 91 which has value 83565\n",
      "\treg[94] = 5 which has value 1\n",
      "Register position 95 set to 83566 (83565 + 1)\n",
      "\n",
      "Current register: [2, 9, 95, 99]\n",
      "Register Postitions of values\n",
      "\treg[97] = 9 which has value 3\n",
      "\treg[98] = 95 which has value 83566\n",
      "Register position 99 set to 250698 (3 * 83566)\n",
      "\n",
      "Current register: [1, 99, 5, 103]\n",
      "Register Postitions of values\n",
      "\treg[101] = 99 which has value 250698\n",
      "\treg[102] = 5 which has value 1\n",
      "Register position 103 set to 250699 (250698 + 1)\n",
      "\n",
      "Current register: [1, 2, 103, 107]\n",
      "Register Postitions of values\n",
      "\treg[105] = 2 which has value 0\n",
      "\treg[106] = 103 which has value 250699\n",
      "Register position 107 set to 250699 (0 + 250699)\n",
      "\n",
      "Current register: [1, 10, 107, 0]\n",
      "Register Postitions of values\n",
      "\treg[109] = 10 which has value 4\n",
      "\treg[110] = 107 which has value 250699\n",
      "Register position 0 set to 250703 (4 + 250699)\n",
      "\n"
     ]
    }
   ],
   "source": [
    "gravity(inputs)"
   ]
  },
  {
   "cell_type": "code",
   "execution_count": 44,
   "metadata": {},
   "outputs": [],
   "source": [
    "test1 = [1,9,10,3,2,3,11,0,99,30,40,50]\n",
    "test2 = [2,3,0,3,99]\n",
    "test3 = [2,4,4,5,99,0]\n",
    "test4 = [1,1,1,4,99,5,6,0,99]"
   ]
  },
  {
   "cell_type": "code",
   "execution_count": 42,
   "metadata": {},
   "outputs": [
    {
     "name": "stdout",
     "output_type": "stream",
     "text": [
      "Current register: [1, 9, 10, 3]\n",
      "1 2 3 3\n",
      "Register Postitions of values\n",
      "\treg[1] = 9 which has value 30\n",
      "\treg[2] = 10 which has value 40\n",
      "Register position 3 set to 70 (30 + 40)\n",
      "\n",
      "Current register: [2, 3, 11, 0]\n",
      "5 6 7 0\n",
      "Register Postitions of values\n",
      "\treg[5] = 3 which has value 70\n",
      "\treg[6] = 11 which has value 50\n",
      "Register position 0 set to 3500 (70 * 50)\n",
      "\n"
     ]
    }
   ],
   "source": [
    "gravity(test1)\n",
    "test1\n",
    "assert test1 == result1"
   ]
  },
  {
   "cell_type": "code",
   "execution_count": 37,
   "metadata": {},
   "outputs": [
    {
     "name": "stdout",
     "output_type": "stream",
     "text": [
      "Current register: [2, 3, 0, 3]\n",
      "Register Postitions of values\n",
      "\treg[1] = 3 which has value 6\n",
      "\treg[2] = 0 which has value 2\n",
      "Register position 3 set to 6 (6 * 2)\n",
      "\n"
     ]
    }
   ],
   "source": [
    "gravity(test2)\n",
    "test2\n",
    "assert test2 == result2"
   ]
  },
  {
   "cell_type": "code",
   "execution_count": 38,
   "metadata": {},
   "outputs": [
    {
     "name": "stdout",
     "output_type": "stream",
     "text": [
      "Current register: [1, 1, 1, 4]\n",
      "Register Postitions of values\n",
      "\treg[1] = 1 which has value 1\n",
      "\treg[2] = 1 which has value 1\n",
      "Register position 4 set to 2 (1 + 1)\n",
      "\n",
      "Current register: [2, 5, 6, 0]\n",
      "Register Postitions of values\n",
      "\treg[5] = 5 which has value 5\n",
      "\treg[6] = 6 which has value 6\n",
      "Register position 0 set to 30 (5 * 6)\n",
      "\n"
     ]
    }
   ],
   "source": [
    "gravity(test4)\n",
    "test4\n",
    "assert test4 == result4"
   ]
  },
  {
   "cell_type": "code",
   "execution_count": 45,
   "metadata": {},
   "outputs": [
    {
     "name": "stdout",
     "output_type": "stream",
     "text": [
      "Current register: [2, 4, 4, 5]\n",
      "1 2 3 5\n",
      "Register Postitions of values\n",
      "\treg[1] = 4 which has value 99\n",
      "\treg[2] = 4 which has value 99\n",
      "Register position 5 set to 9801 (99 * 99)\n",
      "\n"
     ]
    }
   ],
   "source": [
    "gravity(test3)\n",
    "test3\n",
    "assert test3 == result3"
   ]
  },
  {
   "cell_type": "code",
   "execution_count": 33,
   "metadata": {},
   "outputs": [],
   "source": [
    "result1 = [3500,9,10,70,\n",
    "2,3,11,0,\n",
    "99,\n",
    "30,40,50]\n",
    "result2 = [2,3,0,6,99]\n",
    "result3 = [2,4,4,5,99,9801]\n",
    "result4 = [30,1,1,4,2,5,6,0,99]"
   ]
  },
  {
   "cell_type": "code",
   "execution_count": 70,
   "metadata": {},
   "outputs": [],
   "source": [
    "def find_result(inputs, expected=19690720):\n",
    "    intermediate = []\n",
    "    for noun in range(100):\n",
    "        for verb in range(100):\n",
    "            modified_inputs = inputs[:]\n",
    "            modified_inputs[1] = noun\n",
    "            modified_inputs[2] = verb\n",
    "            gravity(modified_inputs)\n",
    "            result = modified_inputs[0]\n",
    "            intermediate.append((noun, verb, result))\n",
    "            if result == expected:\n",
    "                return noun, verb, intermediate"
   ]
  },
  {
   "cell_type": "code",
   "execution_count": 55,
   "metadata": {
    "collapsed": true,
    "jupyter": {
     "outputs_hidden": true
    }
   },
   "outputs": [
    {
     "name": "stdout",
     "output_type": "stream",
     "text": [
      "Current register: [1, 12, 2, 3]\n",
      "Register Postitions of values\n",
      "\treg[1] = 12 which has value 1\n",
      "\treg[2] = 2 which has value 2\n",
      "Register position 3 set to 3 (1 + 2)\n",
      "\n",
      "Current register: [1, 1, 2, 3]\n",
      "Register Postitions of values\n",
      "\treg[5] = 1 which has value 12\n",
      "\treg[6] = 2 which has value 2\n",
      "Register position 3 set to 14 (12 + 2)\n",
      "\n",
      "Current register: [1, 3, 4, 3]\n",
      "Register Postitions of values\n",
      "\treg[9] = 3 which has value 15\n",
      "\treg[10] = 4 which has value 1\n",
      "Register position 3 set to 15 (15 + 1)\n",
      "\n",
      "Current register: [1, 5, 0, 3]\n",
      "Register Postitions of values\n",
      "\treg[13] = 5 which has value 1\n",
      "\treg[14] = 0 which has value 1\n",
      "Register position 3 set to 2 (1 + 1)\n",
      "\n",
      "Current register: [2, 1, 9, 19]\n",
      "Register Postitions of values\n",
      "\treg[17] = 1 which has value 12\n",
      "\treg[18] = 9 which has value 3\n",
      "Register position 19 set to 36 (12 * 3)\n",
      "\n",
      "Current register: [1, 19, 5, 23]\n",
      "Register Postitions of values\n",
      "\treg[21] = 19 which has value 36\n",
      "\treg[22] = 5 which has value 1\n",
      "Register position 23 set to 37 (36 + 1)\n",
      "\n",
      "Current register: [2, 23, 13, 27]\n",
      "Register Postitions of values\n",
      "\treg[25] = 23 which has value 37\n",
      "\treg[26] = 13 which has value 5\n",
      "Register position 27 set to 185 (37 * 5)\n",
      "\n",
      "Current register: [1, 10, 27, 31]\n",
      "Register Postitions of values\n",
      "\treg[29] = 10 which has value 4\n",
      "\treg[30] = 27 which has value 185\n",
      "Register position 31 set to 189 (4 + 185)\n",
      "\n",
      "Current register: [2, 31, 6, 35]\n",
      "Register Postitions of values\n",
      "\treg[33] = 31 which has value 189\n",
      "\treg[34] = 6 which has value 2\n",
      "Register position 35 set to 378 (189 * 2)\n",
      "\n",
      "Current register: [1, 5, 35, 39]\n",
      "Register Postitions of values\n",
      "\treg[37] = 5 which has value 1\n",
      "\treg[38] = 35 which has value 378\n",
      "Register position 39 set to 379 (1 + 378)\n",
      "\n",
      "Current register: [1, 39, 10, 43]\n",
      "Register Postitions of values\n",
      "\treg[41] = 39 which has value 379\n",
      "\treg[42] = 10 which has value 4\n",
      "Register position 43 set to 383 (379 + 4)\n",
      "\n",
      "Current register: [2, 9, 43, 47]\n",
      "Register Postitions of values\n",
      "\treg[45] = 9 which has value 3\n",
      "\treg[46] = 43 which has value 383\n",
      "Register position 47 set to 1149 (3 * 383)\n",
      "\n",
      "Current register: [1, 47, 5, 51]\n",
      "Register Postitions of values\n",
      "\treg[49] = 47 which has value 1149\n",
      "\treg[50] = 5 which has value 1\n",
      "Register position 51 set to 1150 (1149 + 1)\n",
      "\n",
      "Current register: [2, 51, 9, 55]\n",
      "Register Postitions of values\n",
      "\treg[53] = 51 which has value 1150\n",
      "\treg[54] = 9 which has value 3\n",
      "Register position 55 set to 3450 (1150 * 3)\n",
      "\n",
      "Current register: [1, 13, 55, 59]\n",
      "Register Postitions of values\n",
      "\treg[57] = 13 which has value 5\n",
      "\treg[58] = 55 which has value 3450\n",
      "Register position 59 set to 3455 (5 + 3450)\n",
      "\n",
      "Current register: [1, 13, 59, 63]\n",
      "Register Postitions of values\n",
      "\treg[61] = 13 which has value 5\n",
      "\treg[62] = 59 which has value 3455\n",
      "Register position 63 set to 3460 (5 + 3455)\n",
      "\n",
      "Current register: [1, 6, 63, 67]\n",
      "Register Postitions of values\n",
      "\treg[65] = 6 which has value 2\n",
      "\treg[66] = 63 which has value 3460\n",
      "Register position 67 set to 3462 (2 + 3460)\n",
      "\n",
      "Current register: [2, 13, 67, 71]\n",
      "Register Postitions of values\n",
      "\treg[69] = 13 which has value 5\n",
      "\treg[70] = 67 which has value 3462\n",
      "Register position 71 set to 17310 (5 * 3462)\n",
      "\n",
      "Current register: [1, 10, 71, 75]\n",
      "Register Postitions of values\n",
      "\treg[73] = 10 which has value 4\n",
      "\treg[74] = 71 which has value 17310\n",
      "Register position 75 set to 17314 (4 + 17310)\n",
      "\n",
      "Current register: [2, 13, 75, 79]\n",
      "Register Postitions of values\n",
      "\treg[77] = 13 which has value 5\n",
      "\treg[78] = 75 which has value 17314\n",
      "Register position 79 set to 86570 (5 * 17314)\n",
      "\n",
      "Current register: [1, 5, 79, 83]\n",
      "Register Postitions of values\n",
      "\treg[81] = 5 which has value 1\n",
      "\treg[82] = 79 which has value 86570\n",
      "Register position 83 set to 86571 (1 + 86570)\n",
      "\n",
      "Current register: [2, 83, 9, 87]\n",
      "Register Postitions of values\n",
      "\treg[85] = 83 which has value 86571\n",
      "\treg[86] = 9 which has value 3\n",
      "Register position 87 set to 259713 (86571 * 3)\n",
      "\n",
      "Current register: [2, 87, 13, 91]\n",
      "Register Postitions of values\n",
      "\treg[89] = 87 which has value 259713\n",
      "\treg[90] = 13 which has value 5\n",
      "Register position 91 set to 1298565 (259713 * 5)\n",
      "\n",
      "Current register: [1, 91, 5, 95]\n",
      "Register Postitions of values\n",
      "\treg[93] = 91 which has value 1298565\n",
      "\treg[94] = 5 which has value 1\n",
      "Register position 95 set to 1298566 (1298565 + 1)\n",
      "\n",
      "Current register: [2, 9, 95, 99]\n",
      "Register Postitions of values\n",
      "\treg[97] = 9 which has value 3\n",
      "\treg[98] = 95 which has value 1298566\n",
      "Register position 99 set to 3895698 (3 * 1298566)\n",
      "\n",
      "Current register: [1, 99, 5, 103]\n",
      "Register Postitions of values\n",
      "\treg[101] = 99 which has value 3895698\n",
      "\treg[102] = 5 which has value 1\n",
      "Register position 103 set to 3895699 (3895698 + 1)\n",
      "\n",
      "Current register: [1, 2, 103, 107]\n",
      "Register Postitions of values\n",
      "\treg[105] = 2 which has value 2\n",
      "\treg[106] = 103 which has value 3895699\n",
      "Register position 107 set to 3895701 (2 + 3895699)\n",
      "\n",
      "Current register: [1, 10, 107, 0]\n",
      "Register Postitions of values\n",
      "\treg[109] = 10 which has value 4\n",
      "\treg[110] = 107 which has value 3895701\n",
      "Register position 0 set to 3895705 (4 + 3895701)\n",
      "\n"
     ]
    }
   ],
   "source": [
    "gravity(modified_inputs)"
   ]
  },
  {
   "cell_type": "code",
   "execution_count": 56,
   "metadata": {},
   "outputs": [
    {
     "data": {
      "text/plain": [
       "250703"
      ]
     },
     "execution_count": 56,
     "metadata": {},
     "output_type": "execute_result"
    }
   ],
   "source": [
    "inputs[0]"
   ]
  },
  {
   "cell_type": "code",
   "execution_count": 57,
   "metadata": {},
   "outputs": [
    {
     "data": {
      "text/plain": [
       "3895705"
      ]
     },
     "execution_count": 57,
     "metadata": {},
     "output_type": "execute_result"
    }
   ],
   "source": [
    "modified_inputs[0]"
   ]
  },
  {
   "cell_type": "code",
   "execution_count": 71,
   "metadata": {},
   "outputs": [],
   "source": [
    "noun, verb, intermediate = find_result(inputs)"
   ]
  },
  {
   "cell_type": "code",
   "execution_count": 66,
   "metadata": {},
   "outputs": [
    {
     "data": {
      "text/plain": [
       "(64, 17)"
      ]
     },
     "execution_count": 66,
     "metadata": {},
     "output_type": "execute_result"
    }
   ],
   "source": [
    "noun, verb"
   ]
  },
  {
   "cell_type": "code",
   "execution_count": 74,
   "metadata": {},
   "outputs": [
    {
     "data": {
      "text/plain": [
       "6417"
      ]
     },
     "execution_count": 74,
     "metadata": {},
     "output_type": "execute_result"
    }
   ],
   "source": [
    "100 * noun + verb"
   ]
  },
  {
   "cell_type": "code",
   "execution_count": 72,
   "metadata": {},
   "outputs": [
    {
     "data": {
      "text/plain": [
       "6418"
      ]
     },
     "execution_count": 72,
     "metadata": {},
     "output_type": "execute_result"
    }
   ],
   "source": [
    "len(intermediate)"
   ]
  },
  {
   "cell_type": "code",
   "execution_count": 75,
   "metadata": {},
   "outputs": [],
   "source": [
    "import pandas"
   ]
  },
  {
   "cell_type": "code",
   "execution_count": 78,
   "metadata": {},
   "outputs": [],
   "source": [
    "df = pandas.DataFrame(intermediate, columns=['noun', 'verb', 'result'])"
   ]
  },
  {
   "cell_type": "code",
   "execution_count": 81,
   "metadata": {},
   "outputs": [
    {
     "data": {
      "text/html": [
       "<div>\n",
       "<style scoped>\n",
       "    .dataframe tbody tr th:only-of-type {\n",
       "        vertical-align: middle;\n",
       "    }\n",
       "\n",
       "    .dataframe tbody tr th {\n",
       "        vertical-align: top;\n",
       "    }\n",
       "\n",
       "    .dataframe thead th {\n",
       "        text-align: right;\n",
       "    }\n",
       "</style>\n",
       "<table border=\"1\" class=\"dataframe\">\n",
       "  <thead>\n",
       "    <tr style=\"text-align: right;\">\n",
       "      <th></th>\n",
       "      <th>noun</th>\n",
       "      <th>verb</th>\n",
       "      <th>result</th>\n",
       "    </tr>\n",
       "  </thead>\n",
       "  <tbody>\n",
       "    <tr>\n",
       "      <th>6400</th>\n",
       "      <td>64</td>\n",
       "      <td>0</td>\n",
       "      <td>19690703</td>\n",
       "    </tr>\n",
       "    <tr>\n",
       "      <th>6401</th>\n",
       "      <td>64</td>\n",
       "      <td>1</td>\n",
       "      <td>19690704</td>\n",
       "    </tr>\n",
       "    <tr>\n",
       "      <th>6402</th>\n",
       "      <td>64</td>\n",
       "      <td>2</td>\n",
       "      <td>19690705</td>\n",
       "    </tr>\n",
       "    <tr>\n",
       "      <th>6403</th>\n",
       "      <td>64</td>\n",
       "      <td>3</td>\n",
       "      <td>19690706</td>\n",
       "    </tr>\n",
       "    <tr>\n",
       "      <th>6404</th>\n",
       "      <td>64</td>\n",
       "      <td>4</td>\n",
       "      <td>19690707</td>\n",
       "    </tr>\n",
       "    <tr>\n",
       "      <th>6405</th>\n",
       "      <td>64</td>\n",
       "      <td>5</td>\n",
       "      <td>19690708</td>\n",
       "    </tr>\n",
       "    <tr>\n",
       "      <th>6406</th>\n",
       "      <td>64</td>\n",
       "      <td>6</td>\n",
       "      <td>19690709</td>\n",
       "    </tr>\n",
       "    <tr>\n",
       "      <th>6407</th>\n",
       "      <td>64</td>\n",
       "      <td>7</td>\n",
       "      <td>19690710</td>\n",
       "    </tr>\n",
       "    <tr>\n",
       "      <th>6408</th>\n",
       "      <td>64</td>\n",
       "      <td>8</td>\n",
       "      <td>19690711</td>\n",
       "    </tr>\n",
       "    <tr>\n",
       "      <th>6409</th>\n",
       "      <td>64</td>\n",
       "      <td>9</td>\n",
       "      <td>19690712</td>\n",
       "    </tr>\n",
       "    <tr>\n",
       "      <th>6410</th>\n",
       "      <td>64</td>\n",
       "      <td>10</td>\n",
       "      <td>19690713</td>\n",
       "    </tr>\n",
       "    <tr>\n",
       "      <th>6411</th>\n",
       "      <td>64</td>\n",
       "      <td>11</td>\n",
       "      <td>19690714</td>\n",
       "    </tr>\n",
       "    <tr>\n",
       "      <th>6412</th>\n",
       "      <td>64</td>\n",
       "      <td>12</td>\n",
       "      <td>19690715</td>\n",
       "    </tr>\n",
       "    <tr>\n",
       "      <th>6413</th>\n",
       "      <td>64</td>\n",
       "      <td>13</td>\n",
       "      <td>19690716</td>\n",
       "    </tr>\n",
       "    <tr>\n",
       "      <th>6414</th>\n",
       "      <td>64</td>\n",
       "      <td>14</td>\n",
       "      <td>19690717</td>\n",
       "    </tr>\n",
       "    <tr>\n",
       "      <th>6415</th>\n",
       "      <td>64</td>\n",
       "      <td>15</td>\n",
       "      <td>19690718</td>\n",
       "    </tr>\n",
       "    <tr>\n",
       "      <th>6416</th>\n",
       "      <td>64</td>\n",
       "      <td>16</td>\n",
       "      <td>19690719</td>\n",
       "    </tr>\n",
       "    <tr>\n",
       "      <th>6417</th>\n",
       "      <td>64</td>\n",
       "      <td>17</td>\n",
       "      <td>19690720</td>\n",
       "    </tr>\n",
       "  </tbody>\n",
       "</table>\n",
       "</div>"
      ],
      "text/plain": [
       "      noun  verb    result\n",
       "6400    64     0  19690703\n",
       "6401    64     1  19690704\n",
       "6402    64     2  19690705\n",
       "6403    64     3  19690706\n",
       "6404    64     4  19690707\n",
       "6405    64     5  19690708\n",
       "6406    64     6  19690709\n",
       "6407    64     7  19690710\n",
       "6408    64     8  19690711\n",
       "6409    64     9  19690712\n",
       "6410    64    10  19690713\n",
       "6411    64    11  19690714\n",
       "6412    64    12  19690715\n",
       "6413    64    13  19690716\n",
       "6414    64    14  19690717\n",
       "6415    64    15  19690718\n",
       "6416    64    16  19690719\n",
       "6417    64    17  19690720"
      ]
     },
     "execution_count": 81,
     "metadata": {},
     "output_type": "execute_result"
    }
   ],
   "source": [
    "df[df.noun == 64]"
   ]
  },
  {
   "cell_type": "code",
   "execution_count": 82,
   "metadata": {},
   "outputs": [
    {
     "data": {
      "text/plain": [
       "6418"
      ]
     },
     "execution_count": 82,
     "metadata": {},
     "output_type": "execute_result"
    }
   ],
   "source": [
    "len(df)"
   ]
  },
  {
   "cell_type": "code",
   "execution_count": null,
   "metadata": {},
   "outputs": [],
   "source": []
  }
 ],
 "metadata": {
  "kernelspec": {
   "display_name": "Python [default]",
   "language": "python",
   "name": "python3"
  },
  "language_info": {
   "codemirror_mode": {
    "name": "ipython",
    "version": 3
   },
   "file_extension": ".py",
   "mimetype": "text/x-python",
   "name": "python",
   "nbconvert_exporter": "python",
   "pygments_lexer": "ipython3",
   "version": "3.6.7"
  }
 },
 "nbformat": 4,
 "nbformat_minor": 4
}
