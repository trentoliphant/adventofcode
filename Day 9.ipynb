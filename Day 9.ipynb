{
 "cells": [
  {
   "cell_type": "code",
   "execution_count": 1,
   "metadata": {},
   "outputs": [],
   "source": [
    "BOOST = [1102,34463338,34463338,63,1007,63,34463338,63,1005,63,53,1101,3,0,1000,109,988,209,12,9,1000,209,6,209,3,203,0,1008,1000,1,63,1005,63,65,1008,1000,2,63,1005,63,904,1008,1000,0,63,1005,63,58,4,25,104,0,99,4,0,104,0,99,4,17,104,0,99,0,0,1101,37,0,1013,1101,426,0,1027,1101,36,0,1000,1101,0,606,1023,1102,34,1,1011,1102,1,712,1029,1102,1,27,1007,1101,831,0,1024,1102,32,1,1002,1102,1,1,1021,1101,429,0,1026,1102,1,826,1025,1101,0,717,1028,1102,1,20,1018,1101,0,24,1004,1102,31,1,1009,1101,22,0,1015,1102,38,1,1014,1102,613,1,1022,1102,29,1,1017,1102,0,1,1020,1102,1,21,1008,1102,33,1,1012,1101,0,30,1006,1101,0,28,1016,1102,1,26,1005,1102,35,1,1019,1101,25,0,1003,1102,1,23,1001,1102,1,39,1010,109,-3,2102,1,5,63,1008,63,34,63,1005,63,205,1001,64,1,64,1106,0,207,4,187,1002,64,2,64,109,-2,1201,7,0,63,1008,63,34,63,1005,63,227,1105,1,233,4,213,1001,64,1,64,1002,64,2,64,109,21,21102,40,1,3,1008,1019,37,63,1005,63,257,1001,64,1,64,1106,0,259,4,239,1002,64,2,64,109,-4,21101,41,0,2,1008,1014,38,63,1005,63,279,1105,1,285,4,265,1001,64,1,64,1002,64,2,64,109,-10,1201,4,0,63,1008,63,30,63,1005,63,307,4,291,1105,1,311,1001,64,1,64,1002,64,2,64,109,6,1207,0,22,63,1005,63,329,4,317,1105,1,333,1001,64,1,64,1002,64,2,64,109,-5,1207,5,20,63,1005,63,353,1001,64,1,64,1106,0,355,4,339,1002,64,2,64,109,8,2108,29,-5,63,1005,63,375,1001,64,1,64,1105,1,377,4,361,1002,64,2,64,109,15,1206,-6,395,4,383,1001,64,1,64,1105,1,395,1002,64,2,64,109,-11,21107,42,43,4,1005,1019,413,4,401,1106,0,417,1001,64,1,64,1002,64,2,64,109,6,2106,0,6,1105,1,435,4,423,1001,64,1,64,1002,64,2,64,109,-15,1208,-3,24,63,1005,63,455,1001,64,1,64,1105,1,457,4,441,1002,64,2,64,109,-13,1208,10,25,63,1005,63,475,4,463,1106,0,479,1001,64,1,64,1002,64,2,64,109,21,21108,43,42,3,1005,1017,495,1106,0,501,4,485,1001,64,1,64,1002,64,2,64,109,-14,2107,31,2,63,1005,63,519,4,507,1106,0,523,1001,64,1,64,1002,64,2,64,109,-4,1202,8,1,63,1008,63,24,63,1005,63,549,4,529,1001,64,1,64,1105,1,549,1002,64,2,64,109,1,2108,23,4,63,1005,63,567,4,555,1105,1,571,1001,64,1,64,1002,64,2,64,109,2,2101,0,5,63,1008,63,21,63,1005,63,591,1105,1,597,4,577,1001,64,1,64,1002,64,2,64,109,28,2105,1,-4,1001,64,1,64,1105,1,615,4,603,1002,64,2,64,109,-10,1205,4,633,4,621,1001,64,1,64,1106,0,633,1002,64,2,64,109,2,1206,2,645,1106,0,651,4,639,1001,64,1,64,1002,64,2,64,109,-4,1202,-6,1,63,1008,63,28,63,1005,63,671,1105,1,677,4,657,1001,64,1,64,1002,64,2,64,109,-9,21102,44,1,4,1008,1010,44,63,1005,63,699,4,683,1105,1,703,1001,64,1,64,1002,64,2,64,109,31,2106,0,-9,4,709,1105,1,721,1001,64,1,64,1002,64,2,64,109,-30,21108,45,45,6,1005,1013,743,4,727,1001,64,1,64,1106,0,743,1002,64,2,64,109,2,21101,46,0,3,1008,1012,46,63,1005,63,765,4,749,1106,0,769,1001,64,1,64,1002,64,2,64,109,-5,2101,0,0,63,1008,63,24,63,1005,63,795,4,775,1001,64,1,64,1105,1,795,1002,64,2,64,109,6,2107,32,-1,63,1005,63,815,1001,64,1,64,1106,0,817,4,801,1002,64,2,64,109,19,2105,1,-5,4,823,1106,0,835,1001,64,1,64,1002,64,2,64,109,-12,21107,47,46,-1,1005,1016,851,1105,1,857,4,841,1001,64,1,64,1002,64,2,64,109,-2,1205,5,873,1001,64,1,64,1105,1,875,4,863,1002,64,2,64,109,-6,2102,1,-8,63,1008,63,23,63,1005,63,897,4,881,1105,1,901,1001,64,1,64,4,64,99,21101,0,27,1,21101,0,915,0,1106,0,922,21201,1,44808,1,204,1,99,109,3,1207,-2,3,63,1005,63,964,21201,-2,-1,1,21101,942,0,0,1105,1,922,21201,1,0,-1,21201,-2,-3,1,21102,957,1,0,1105,1,922,22201,1,-1,-2,1106,0,968,21202,-2,1,-2,109,-3,2105,1,0]"
   ]
  },
  {
   "cell_type": "code",
   "execution_count": 22,
   "metadata": {},
   "outputs": [],
   "source": [
    "def add(a, b):\n",
    "    return a + b\n",
    "\n",
    "def mul(a, b):\n",
    "    return a * b\n",
    "\n",
    "def get_code_and_mode(code):\n",
    "    scode = F'{code:05}'\n",
    "    return int(scode[-2:]), int(scode[-3]), int(scode[-4]), int(scode[-5])\n",
    "    \n",
    "def intcode(input, reg, cur_pos=0, id=0, verbose=False):\n",
    "    rel_base = 0\n",
    "    if verbose:\n",
    "        print(F'Starting at position {cur_pos}, relative base = {rel_base}')\n",
    "    if isinstance(input, int):\n",
    "        input = [input]\n",
    "    output = None\n",
    "    input_count = 0\n",
    "    if verbose:\n",
    "        print(cur_pos)\n",
    "    op_code, mode_a, mode_b, mode_c = get_code_and_mode(reg[cur_pos])\n",
    "    while op_code !=99:\n",
    "        jumps = False\n",
    "        if verbose:\n",
    "            print(op_code, mode_a, mode_b, mode_c)\n",
    "        a = cur_pos + 1\n",
    "        b = cur_pos + 2\n",
    "        c = cur_pos + 3\n",
    "        if mode_a == 0:\n",
    "            pos_a = reg[a]\n",
    "            val_a = reg[pos_a]\n",
    "        elif mode_a == 2:\n",
    "            pos_a = reg[a+rel_base]\n",
    "        else:\n",
    "            val_a = reg[a]\n",
    "        if mode_b == 0 and op_code not in [3,4,9]: \n",
    "            pos_b = reg[b]\n",
    "            val_b = reg[pos_b]\n",
    "        elif mode_b == 2 and op_code not in [3,4,9]:\n",
    "            pos_b = reg[b+rel_base]\n",
    "        else:\n",
    "            val_b = reg[b]\n",
    "        if op_code in [1,2]:\n",
    "            step = 4\n",
    "            pos_to_change = reg[c]\n",
    "            if op_code == 1:\n",
    "                op = add\n",
    "                op_sym = '+'\n",
    "            elif op_code == 2:\n",
    "                op = mul\n",
    "                op_sym = '*'\n",
    "            val_to_write = op(val_a, val_b)\n",
    "            check_mem = pos_to_change - len(reg)\n",
    "            if check_mem > 0:\n",
    "                reg.extend([0]*check_mem)\n",
    "            reg[pos_to_change] = val_to_write\n",
    "            if verbose:\n",
    "                print(F'Wrote {val_a} {op_sym} {val_b} = {val_to_write} to position {pos_to_change}')\n",
    "                print(F'Parameter a = {reg[a]}, Parameter b = {reg[b]}, Parameter c = {reg[c]}')\n",
    "        elif op_code in [3,4]:\n",
    "            step = 2\n",
    "            if op_code == 3:\n",
    "                if input_count >= len(input):\n",
    "                    return (cur_pos, output)\n",
    "                pos_to_change = reg[a]\n",
    "                check_mem = pos_to_change - len(reg)\n",
    "                if check_mem > 0:\n",
    "                    reg.extend([0]*check_mem)\n",
    "                reg[pos_to_change] = input[input_count]\n",
    "                if verbose:\n",
    "                    print(F'Wrote {input[input_count]} to position {pos_to_change}')\n",
    "                    print(F'Parameter a = {reg[a]}, Parameter b = {reg[b]}, Parameter c = {reg[c]}')\n",
    "                input_count += 1\n",
    "            elif op_code == 4:\n",
    "                if verbose:\n",
    "                    print('======output=========')\n",
    "                    print(val_a)\n",
    "                    print('=====================')\n",
    "                output = val_a\n",
    "        elif op_code in [5,6]:\n",
    "            step = 3\n",
    "            if (op_code == 5 and val_a != 0) or (op_code == 6 and val_a == 0):\n",
    "                jumps = True\n",
    "                next_pos = val_b\n",
    "        elif op_code in [7,8]:\n",
    "            step = 4\n",
    "            pos_to_change = reg[c]\n",
    "            if (op_code == 7 and val_a < val_b) or (op_code == 8 and val_a == val_b):\n",
    "                val_to_write = 1\n",
    "            else:\n",
    "                val_to_write = 0\n",
    "            reg[pos_to_change] = val_to_write\n",
    "        elif op_code == 9:\n",
    "            step = 2\n",
    "            rel_base += reg[a]\n",
    "            if verbose:\n",
    "                print(F'Changing rel_base to {rel_base}')\n",
    "        else:\n",
    "            raise ValueError(F'{op_code} is not a valid op_code')\n",
    "        if jumps:\n",
    "            cur_pos = next_pos\n",
    "            if verbose:\n",
    "                print(F'Jumping to position {cur_pos}')\n",
    "        else:\n",
    "            cur_pos += step\n",
    "            if verbose:\n",
    "                print(F'Moving {step} steps to position {cur_pos}')\n",
    "        if verbose:\n",
    "            print('------------------')\n",
    "            print(reg[cur_pos:cur_pos+4])\n",
    "        op_code, mode_a, mode_b, mode_c = get_code_and_mode(reg[cur_pos])\n",
    "    if output is not None:\n",
    "        if verbose:\n",
    "            print(F'Returning {output}')\n",
    "        return (-1, output)"
   ]
  },
  {
   "cell_type": "code",
   "execution_count": 92,
   "metadata": {},
   "outputs": [],
   "source": [
    "test1 = [109,1,204,-1,1001,100,1,100,1008,100,16,101,1006,101,0,99]\n",
    "test2 = [1102,34915192,34915192,7,4,7,99,0]\n",
    "test3 = [104,1125899906842624,99]"
   ]
  },
  {
   "cell_type": "code",
   "execution_count": 124,
   "metadata": {},
   "outputs": [],
   "source": [
    "class intcode:\n",
    "    \n",
    "    def __init__(self, program, input=[], cur_pos=0, rel_base=0, id=0, verbose=False):\n",
    "        self.memory = program[:]\n",
    "        self.size = len(program)\n",
    "        self.input_count = 0\n",
    "        if isinstance(input, int):\n",
    "            input = [input]\n",
    "        self.input = input\n",
    "        self.cur_pos = cur_pos\n",
    "        self.relative_base = rel_base\n",
    "        self.verbose = verbose\n",
    "        self.id = id\n",
    "        self.waiting_for_input = False\n",
    "        self.output = []\n",
    "        self.logs = []\n",
    "    \n",
    "    def _check_mem(self, pos):\n",
    "        if pos >= self.size:\n",
    "            self.log(F'Not enough memory - requested {pos}, existing {self.size}', 2)\n",
    "            self.memory.extend([0] * (pos - self.size + 1))\n",
    "            self.size = len(self.memory)\n",
    "            self.log(F'Increased memory to {self.size}', 2)\n",
    "    \n",
    "    def _read_mem(self, pointer, mode):\n",
    "        if mode == 1:\n",
    "            self.log(F'Immediate mode returning value: {pointer}', 3)\n",
    "            return pointer\n",
    "        if mode == 2:\n",
    "            pointer = pointer + self.relative_base\n",
    "            self.log(F'Relative mode moving pointer to {pointer}', 3)\n",
    "        self._check_mem(pointer)\n",
    "        to_return = self.memory[pointer]\n",
    "        self.log(F'Returning value {to_return} from position {pointer}', 2)\n",
    "        return to_return\n",
    "    \n",
    "    def _write_mem(self, pointer, mode, value):\n",
    "        if mode == 2:\n",
    "            pointer = pointer + self.relative_base\n",
    "            self.log(F'Relative mode moving pointer to {pointer}', 3)\n",
    "        self._check_mem(pointer)\n",
    "        self.memory[pointer] = value\n",
    "        self.log(F'Writing value {value} to position {pointer}', 2)\n",
    "\n",
    "        \n",
    "    def _get_code_and_modes(self, code):\n",
    "        scode = F'{code:05}'\n",
    "        return int(scode[-2:]), int(scode[-3]), int(scode[-4]), int(scode[-5])\n",
    "    \n",
    "    def run_opcode(self, code, modes):\n",
    "        if code == 1:\n",
    "            self.opcode1(modes)\n",
    "        if code == 2:\n",
    "            self.opcode2(modes)\n",
    "        if code == 3:\n",
    "            self.opcode3(modes)\n",
    "        if code == 4:\n",
    "            self.opcode4(modes)\n",
    "        if code == 5:\n",
    "            self.opcode5(modes)\n",
    "        if code == 6:\n",
    "            self.opcode6(modes)\n",
    "        if code == 7:\n",
    "            self.opcode7(modes)\n",
    "        if code == 8:\n",
    "            self.opcode8(modes)\n",
    "        if code == 9:\n",
    "            self.opcode9(modes)\n",
    "    \n",
    "    def opcode1(self, modes):\n",
    "        mode_a, mode_b, mode_c = modes\n",
    "        a, b, c = self.memory[self.cur_pos + 1: self.cur_pos + 4]\n",
    "        self.log(F'Parameters: {a}, {b}, {c}', 1)\n",
    "        val_a = self._read_mem(a, mode_a)\n",
    "        val_b = self._read_mem(b, mode_b)\n",
    "        self._write_mem(c, mode_c, val_a + val_b)\n",
    "        self.log(F'Wrote {val_a} + {val_b} = {val_a + val_b} to {c}, mode {mode_c}', 2)\n",
    "        self.cur_pos += 4\n",
    "\n",
    "    def opcode2(self, modes):\n",
    "        mode_a, mode_b, mode_c = modes\n",
    "        a, b, c = self.memory[self.cur_pos + 1: self.cur_pos + 4]\n",
    "        self.log(F'Parameters: {a}, {b}, {c}', 1)\n",
    "        val_a = self._read_mem(a, mode_a)\n",
    "        val_b = self._read_mem(b, mode_b)\n",
    "        self._write_mem(c, mode_c, val_a * val_b)\n",
    "        self.log(F'Wrote {val_a} * {val_b} = {val_a * val_b} to {c}, mode {mode_c}', 2)\n",
    "        self.cur_pos += 4\n",
    "        \n",
    "    def opcode3(self, modes):\n",
    "        mode = modes[0]\n",
    "        if self.input_count > len(self.input):\n",
    "            self.waiting_for_input = True\n",
    "            self.log(F'Waiting for input, cur_pos: {cur_pos}')\n",
    "            return\n",
    "        param = self.memory[self.cur_pos + 1]\n",
    "        cur_input = self.input[self.input_count]\n",
    "        self._write_mem(param, mode, cur_input)\n",
    "        self.log(F'Wrote {cur_input} to {param}, mode {mode}', 2)\n",
    "        self.input_count += 1\n",
    "        self.cur_pos += 2\n",
    "    \n",
    "    def opcode4(self, modes):\n",
    "        mode = modes[0]\n",
    "        val = self.memory[self.cur_pos + 1]\n",
    "        self.log(F'Parameter: {val}', 2)\n",
    "        to_output = self._read_mem(val, mode)\n",
    "        self.log(F'Writing {to_output} from {val} mode {mode} to output', 2)\n",
    "        self.output.append(self._read_mem(val, mode))\n",
    "        self.log(F'New_output: {self.output}', 2)\n",
    "        self.cur_pos += 2\n",
    "\n",
    "    def opcode5(self, modes):\n",
    "        mode_a, mode_b = modes[:2]\n",
    "        a, b = self.memory[self.cur_pos + 1: self.cur_pos + 3]\n",
    "        if self._read_mem(a, mode_a) != 0:\n",
    "            self.cur_pos = self._read_mem(b, mode_b)\n",
    "        else:\n",
    "            self.cur_pos += 3\n",
    "    \n",
    "    def opcode6(self, modes):\n",
    "        mode_a, mode_b = modes[:2]\n",
    "        a, b = self.memory[self.cur_pos + 1: self.cur_pos + 3]\n",
    "        if self._read_mem(a, mode_a) == 0:\n",
    "            self.cur_pos = self._read_mem(b, mode_b)\n",
    "        else:\n",
    "            self.cur_pos += 3\n",
    "        \n",
    "    def opcode7(self, modes):\n",
    "        mode_a, mode_b, mode_c = modes\n",
    "        a, b, c = self.memory[self.cur_pos + 1: self.cur_pos + 4]\n",
    "        val_to_write = 0\n",
    "        if self._read_mem(a, mode_a) < self._read_mem(b, mode_b):\n",
    "            val_to_write = 1\n",
    "        self._write_mem(c, mode_c, val_to_write)\n",
    "        self.cur_pos += 4\n",
    "    \n",
    "    def opcode8(self, modes):\n",
    "        mode_a, mode_b, mode_c = modes\n",
    "        a, b, c = self.memory[self.cur_pos + 1: self.cur_pos + 4]\n",
    "        val_to_write = 0\n",
    "        if self._read_mem(a, mode_a) == self._read_mem(b, mode_b):\n",
    "            val_to_write = 1\n",
    "        self._write_mem(c, mode_c, val_to_write)\n",
    "        self.cur_pos += 4\n",
    "        \n",
    "    def opcode9(self, modes):\n",
    "        mode = modes[0]\n",
    "        param = self.memory[self.cur_pos+1]\n",
    "        val = self._read_mem(param, mode)\n",
    "        self.relative_base += val\n",
    "        self.cur_pos += 2\n",
    "        \n",
    "    def run(self):\n",
    "        cur_opcode = 0\n",
    "        while not self.waiting_for_input and cur_opcode !=99:\n",
    "            codes = self._get_code_and_modes(self.memory[self.cur_pos])\n",
    "            cur_opcode = codes[0]\n",
    "            modes = codes[1:]\n",
    "            self.log('=====================', 3)\n",
    "            self.log(F'cur_pos: {self.cur_pos}, opcode: {codes}', 1)\n",
    "            self.run_opcode(cur_opcode, modes)\n",
    "        self.log(self.output)\n",
    "\n",
    "    def step(self):\n",
    "        codes = self._get_code_and_modes(self.memory[self.cur_pos])\n",
    "        self.log('=======================', 3)\n",
    "        self.log(F'cur_pos: {self.cur_pos}, opcode: {codes}', 1)\n",
    "        self.run_opcode(codes[0], codes[1:])\n",
    "    \n",
    "    def log(self, log_string, level=0):\n",
    "        self.logs.append(log_string)\n",
    "        if self.verbose >= level:\n",
    "            print(log_string)\n",
    "        \n",
    "    def add_input(self, input):\n",
    "        if isinstance(input, list):\n",
    "            self.input.extend(input)\n",
    "        elif isinstance(input, int):\n",
    "            self.input.append(input)\n",
    "        else:\n",
    "            raise ValueError('Input must be an int or list')\n",
    "        self.log(F'Added {input} to input buffer, able to restart')\n",
    "        self.waiting_for_input = False"
   ]
  },
  {
   "cell_type": "code",
   "execution_count": 118,
   "metadata": {},
   "outputs": [],
   "source": [
    "t = intcode(test1)"
   ]
  },
  {
   "cell_type": "code",
   "execution_count": 119,
   "metadata": {},
   "outputs": [],
   "source": [
    "t.run()"
   ]
  },
  {
   "cell_type": "code",
   "execution_count": 120,
   "metadata": {},
   "outputs": [
    {
     "data": {
      "text/plain": [
       "[109, 1, 204, -1, 1001, 100, 1, 100, 1008, 100, 16, 101, 1006, 101, 0, 99]"
      ]
     },
     "execution_count": 120,
     "metadata": {},
     "output_type": "execute_result"
    }
   ],
   "source": [
    "t.output"
   ]
  },
  {
   "cell_type": "code",
   "execution_count": 62,
   "metadata": {},
   "outputs": [
    {
     "data": {
      "text/plain": [
       "[100, 1]"
      ]
     },
     "execution_count": 62,
     "metadata": {},
     "output_type": "execute_result"
    }
   ],
   "source": [
    "t.memory[t.cur_pos + 1: t.cur_pos + 3]"
   ]
  },
  {
   "cell_type": "code",
   "execution_count": 121,
   "metadata": {},
   "outputs": [],
   "source": [
    "test4 = [3,12,6,12,15,1,13,14,13,4,13,99,-1,0,1,9]\n",
    "test5 = [3,3,1105,-1,9,1101,0,0,12,4,12,99,1]"
   ]
  },
  {
   "cell_type": "code",
   "execution_count": 131,
   "metadata": {},
   "outputs": [],
   "source": [
    "t = intcode(test4, 456)"
   ]
  },
  {
   "cell_type": "code",
   "execution_count": 132,
   "metadata": {},
   "outputs": [],
   "source": [
    "t.run()"
   ]
  },
  {
   "cell_type": "code",
   "execution_count": 133,
   "metadata": {},
   "outputs": [
    {
     "data": {
      "text/plain": [
       "[1]"
      ]
     },
     "execution_count": 133,
     "metadata": {},
     "output_type": "execute_result"
    }
   ],
   "source": [
    "t.output"
   ]
  },
  {
   "cell_type": "code",
   "execution_count": 87,
   "metadata": {},
   "outputs": [],
   "source": [
    "t.cur_pos = 0"
   ]
  },
  {
   "cell_type": "code",
   "execution_count": 62,
   "metadata": {},
   "outputs": [],
   "source": [
    "t.step()"
   ]
  },
  {
   "cell_type": "code",
   "execution_count": 63,
   "metadata": {},
   "outputs": [
    {
     "data": {
      "text/plain": [
       "2"
      ]
     },
     "execution_count": 63,
     "metadata": {},
     "output_type": "execute_result"
    }
   ],
   "source": [
    "t.cur_pos"
   ]
  },
  {
   "cell_type": "code",
   "execution_count": 89,
   "metadata": {},
   "outputs": [
    {
     "data": {
      "text/plain": [
       "[3, 12, 6, 12, 15, 1, 13, 14, 13, 4, 13, 99, 2, 6, 1, 9]"
      ]
     },
     "execution_count": 89,
     "metadata": {},
     "output_type": "execute_result"
    }
   ],
   "source": [
    "test4"
   ]
  },
  {
   "cell_type": "code",
   "execution_count": 90,
   "metadata": {},
   "outputs": [
    {
     "data": {
      "text/plain": [
       "False"
      ]
     },
     "execution_count": 90,
     "metadata": {},
     "output_type": "execute_result"
    }
   ],
   "source": [
    "test4 == [3,12,6,12,15,1,13,14,13,4,13,99,-1,0,1,9]"
   ]
  },
  {
   "cell_type": "code",
   "execution_count": 134,
   "metadata": {},
   "outputs": [],
   "source": [
    "day5 = [3,225,1,225,6,6,1100,1,238,225,104,0,1101,69,55,225,1001,144,76,224,101,-139,224,224,4,224,1002,223,8,223,1001,224,3,224,1,223,224,223,1102,60,49,225,1102,51,78,225,1101,82,33,224,1001,224,-115,224,4,224,1002,223,8,223,1001,224,3,224,1,224,223,223,1102,69,5,225,2,39,13,224,1001,224,-4140,224,4,224,102,8,223,223,101,2,224,224,1,224,223,223,101,42,44,224,101,-120,224,224,4,224,102,8,223,223,101,3,224,224,1,223,224,223,1102,68,49,224,101,-3332,224,224,4,224,1002,223,8,223,1001,224,4,224,1,224,223,223,1101,50,27,225,1102,5,63,225,1002,139,75,224,1001,224,-3750,224,4,224,1002,223,8,223,1001,224,3,224,1,223,224,223,102,79,213,224,1001,224,-2844,224,4,224,102,8,223,223,1001,224,4,224,1,223,224,223,1,217,69,224,1001,224,-95,224,4,224,102,8,223,223,1001,224,5,224,1,223,224,223,1102,36,37,225,1101,26,16,225,4,223,99,0,0,0,677,0,0,0,0,0,0,0,0,0,0,0,1105,0,99999,1105,227,247,1105,1,99999,1005,227,99999,1005,0,256,1105,1,99999,1106,227,99999,1106,0,265,1105,1,99999,1006,0,99999,1006,227,274,1105,1,99999,1105,1,280,1105,1,99999,1,225,225,225,1101,294,0,0,105,1,0,1105,1,99999,1106,0,300,1105,1,99999,1,225,225,225,1101,314,0,0,106,0,0,1105,1,99999,1107,677,677,224,102,2,223,223,1006,224,329,1001,223,1,223,1108,677,677,224,1002,223,2,223,1006,224,344,1001,223,1,223,107,226,226,224,1002,223,2,223,1006,224,359,101,1,223,223,1008,226,226,224,102,2,223,223,1005,224,374,1001,223,1,223,1107,226,677,224,1002,223,2,223,1006,224,389,1001,223,1,223,1008,677,226,224,1002,223,2,223,1005,224,404,1001,223,1,223,7,677,226,224,102,2,223,223,1005,224,419,1001,223,1,223,1008,677,677,224,1002,223,2,223,1006,224,434,1001,223,1,223,108,226,226,224,102,2,223,223,1006,224,449,1001,223,1,223,108,677,677,224,102,2,223,223,1006,224,464,1001,223,1,223,107,226,677,224,1002,223,2,223,1005,224,479,101,1,223,223,1108,226,677,224,1002,223,2,223,1006,224,494,1001,223,1,223,107,677,677,224,1002,223,2,223,1006,224,509,101,1,223,223,7,677,677,224,102,2,223,223,1006,224,524,1001,223,1,223,1007,226,677,224,1002,223,2,223,1005,224,539,1001,223,1,223,8,226,677,224,1002,223,2,223,1005,224,554,101,1,223,223,8,677,677,224,102,2,223,223,1005,224,569,101,1,223,223,7,226,677,224,102,2,223,223,1006,224,584,1001,223,1,223,1007,226,226,224,102,2,223,223,1006,224,599,1001,223,1,223,1107,677,226,224,1002,223,2,223,1006,224,614,1001,223,1,223,1108,677,226,224,1002,223,2,223,1005,224,629,1001,223,1,223,1007,677,677,224,102,2,223,223,1006,224,644,1001,223,1,223,108,226,677,224,102,2,223,223,1005,224,659,101,1,223,223,8,677,226,224,1002,223,2,223,1006,224,674,1001,223,1,223,4,223,99,226]"
   ]
  },
  {
   "cell_type": "code",
   "execution_count": 138,
   "metadata": {},
   "outputs": [],
   "source": [
    "d5 = intcode(day5, 1)"
   ]
  },
  {
   "cell_type": "code",
   "execution_count": 139,
   "metadata": {},
   "outputs": [],
   "source": [
    "d5.run()"
   ]
  },
  {
   "cell_type": "code",
   "execution_count": 140,
   "metadata": {},
   "outputs": [
    {
     "data": {
      "text/plain": [
       "[0, 0, 0, 0, 0, 0, 0, 0, 0, 7157989]"
      ]
     },
     "execution_count": 140,
     "metadata": {},
     "output_type": "execute_result"
    }
   ],
   "source": [
    "d5.output"
   ]
  },
  {
   "cell_type": "code",
   "execution_count": 144,
   "metadata": {},
   "outputs": [],
   "source": [
    "b = intcode(BOOST, 2)"
   ]
  },
  {
   "cell_type": "code",
   "execution_count": 145,
   "metadata": {},
   "outputs": [],
   "source": [
    "b.run()"
   ]
  },
  {
   "cell_type": "code",
   "execution_count": 146,
   "metadata": {},
   "outputs": [
    {
     "data": {
      "text/plain": [
       "[66113]"
      ]
     },
     "execution_count": 146,
     "metadata": {},
     "output_type": "execute_result"
    }
   ],
   "source": [
    "b.output"
   ]
  },
  {
   "cell_type": "code",
   "execution_count": null,
   "metadata": {},
   "outputs": [],
   "source": []
  }
 ],
 "metadata": {
  "kernelspec": {
   "display_name": "Python [default]",
   "language": "python",
   "name": "python3"
  },
  "language_info": {
   "codemirror_mode": {
    "name": "ipython",
    "version": 3
   },
   "file_extension": ".py",
   "mimetype": "text/x-python",
   "name": "python",
   "nbconvert_exporter": "python",
   "pygments_lexer": "ipython3",
   "version": "3.6.7"
  }
 },
 "nbformat": 4,
 "nbformat_minor": 4
}
