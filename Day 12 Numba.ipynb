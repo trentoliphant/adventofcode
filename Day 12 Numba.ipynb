{
 "cells": [
  {
   "cell_type": "code",
   "execution_count": 2,
   "metadata": {},
   "outputs": [],
   "source": [
    "from numba import jitclass\n",
    "from numba import int32"
   ]
  },
  {
   "cell_type": "code",
   "execution_count": 2,
   "metadata": {},
   "outputs": [],
   "source": [
    "class moon:\n",
    "    \n",
    "    def __init__(self, x, y, z):\n",
    "        self.position = [x, y, z]\n",
    "        self.velocity = [0, 0, 0]\n",
    "        \n",
    "    def apply_velocity(self):\n",
    "        self.position[0] += self.velocity[0]\n",
    "        self.position[1] += self.velocity[1]\n",
    "        self.position[2] += self.velocity[2]\n",
    "        \n",
    "    def apply_gravity(self, other):\n",
    "        for i, val in enumerate(other):\n",
    "            vel = 0\n",
    "            if self.position[i] < other[i]:\n",
    "                vel = 1\n",
    "            elif self.position[i] > other[i]:\n",
    "                vel = -1\n",
    "            self.velocity[i] += vel\n",
    "    \n",
    "    @property\n",
    "    def kinetic_energy(self):\n",
    "        x, y, z = self.velocity\n",
    "        return abs(x) + abs(y) + abs(z)\n",
    "    \n",
    "    @property\n",
    "    def potential_energy(self):\n",
    "        x, y, z = self.position\n",
    "        return abs(x) + abs(y) + abs(z)\n",
    "    \n",
    "    @property\n",
    "    def total_energy(self):\n",
    "        return self.potential_energy * self.kinetic_energy\n",
    "    \n",
    "    @property\n",
    "    def state(self):\n",
    "        return self.position + self.velocity"
   ]
  },
  {
   "cell_type": "code",
   "execution_count": 3,
   "metadata": {},
   "outputs": [],
   "source": [
    "#Example 1\n",
    "io = moon(x=-1, y=0, z=2)\n",
    "europa = moon(x=2, y=-10, z=-7)\n",
    "ganymede = moon(x=4, y=-8, z=8)\n",
    "callisto = moon(x=3, y=5, z=-1)"
   ]
  },
  {
   "cell_type": "code",
   "execution_count": null,
   "metadata": {},
   "outputs": [],
   "source": [
    "#Example 2\n",
    "io = moon(x=-8, y=-10, z=0)\n",
    "europa = moon(x=5, y=5, z=10)\n",
    "ganymede = moon(x=2, y=-7, z=3)\n",
    "callisto = moon(x=9, y=-8, z=-3)"
   ]
  },
  {
   "cell_type": "code",
   "execution_count": null,
   "metadata": {},
   "outputs": [],
   "source": [
    "# Real input\n",
    "io = moon(x=-1, y=7, z=3)\n",
    "europa = moon(x=12, y=2, z=-13)\n",
    "ganymede = moon(x=14, y=18, z=-8)\n",
    "callisto = moon(x=17, y=4, z=-4)"
   ]
  },
  {
   "cell_type": "code",
   "execution_count": 4,
   "metadata": {},
   "outputs": [],
   "source": [
    "moons = [io, europa, ganymede, callisto]\n",
    "pairs = [\n",
    "    (io, europa),\n",
    "    (io, ganymede),\n",
    "    (io, callisto),\n",
    "    (europa, ganymede),\n",
    "    (europa, callisto),\n",
    "    (ganymede, callisto)\n",
    "]\n",
    "steps = 1000"
   ]
  },
  {
   "cell_type": "markdown",
   "metadata": {},
   "source": [
    "Part 1"
   ]
  },
  {
   "cell_type": "code",
   "execution_count": null,
   "metadata": {},
   "outputs": [],
   "source": [
    "for step in range(steps):\n",
    "    for pair in pairs:\n",
    "        pair[0].apply_gravity(pair[1].position)\n",
    "        pair[1].apply_gravity(pair[0].position)\n",
    "    for m in moons:\n",
    "        m.apply_velocity()"
   ]
  },
  {
   "cell_type": "markdown",
   "metadata": {},
   "source": [
    "Printout for comparison"
   ]
  },
  {
   "cell_type": "code",
   "execution_count": null,
   "metadata": {},
   "outputs": [],
   "source": [
    "for m in moons:\n",
    "    pos_x, pos_y, pos_z = m.position\n",
    "    vel_x, vel_y, vel_z = m.velocity\n",
    "    print(F'pos=(x={pos_x}, y={pos_y}, z={pos_z}), vel=(x={vel_x}, y={vel_y}, z={vel_z})')"
   ]
  },
  {
   "cell_type": "markdown",
   "metadata": {},
   "source": [
    "Get total energy"
   ]
  },
  {
   "cell_type": "code",
   "execution_count": null,
   "metadata": {},
   "outputs": [],
   "source": [
    "pot = 0\n",
    "kin = 0\n",
    "tot = 0\n",
    "for m in moons:\n",
    "    pot += m.potential_energy\n",
    "    kin += m.kinetic_energy\n",
    "    tot += m.total_energy"
   ]
  },
  {
   "cell_type": "markdown",
   "metadata": {},
   "source": [
    "Get the state of everything - list of all positions and velocities in moon order"
   ]
  },
  {
   "cell_type": "code",
   "execution_count": 5,
   "metadata": {},
   "outputs": [],
   "source": [
    "def state_of_universe(moons):\n",
    "    state = []\n",
    "    for m in moons:\n",
    "        state += m.state\n",
    "    return state"
   ]
  },
  {
   "cell_type": "markdown",
   "metadata": {},
   "source": [
    "Calculate total steps to get back to a previous state"
   ]
  },
  {
   "cell_type": "code",
   "execution_count": 6,
   "metadata": {},
   "outputs": [],
   "source": [
    "steps = 0\n",
    "prev_states = []\n",
    "cur_state = state_of_universe(moons)\n",
    "while cur_state not in prev_states:\n",
    "    for pair in pairs:\n",
    "        pair[0].apply_gravity(pair[1].position)\n",
    "        pair[1].apply_gravity(pair[0].position)\n",
    "    for m in moons:\n",
    "        m.apply_velocity()\n",
    "    prev_states.append(cur_state)\n",
    "    cur_state = state_of_universe(moons)\n",
    "    steps += 1"
   ]
  },
  {
   "cell_type": "code",
   "execution_count": 7,
   "metadata": {},
   "outputs": [
    {
     "data": {
      "text/plain": [
       "2772"
      ]
     },
     "execution_count": 7,
     "metadata": {},
     "output_type": "execute_result"
    }
   ],
   "source": [
    "steps"
   ]
  },
  {
   "cell_type": "code",
   "execution_count": null,
   "metadata": {},
   "outputs": [],
   "source": []
  }
 ],
 "metadata": {
  "kernelspec": {
   "display_name": "Python [conda env:anaconda]",
   "language": "python",
   "name": "conda-env-anaconda-py"
  },
  "language_info": {
   "codemirror_mode": {
    "name": "ipython",
    "version": 3
   },
   "file_extension": ".py",
   "mimetype": "text/x-python",
   "name": "python",
   "nbconvert_exporter": "python",
   "pygments_lexer": "ipython3",
   "version": "3.6.3"
  }
 },
 "nbformat": 4,
 "nbformat_minor": 4
}
