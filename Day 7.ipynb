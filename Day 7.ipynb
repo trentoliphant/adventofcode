{
 "cells": [
  {
   "cell_type": "code",
   "execution_count": 1,
   "metadata": {},
   "outputs": [],
   "source": [
    "amp_reg = [3,8,1001,8,10,8,105,1,0,0,21,46,59,84,93,102,183,264,345,426,99999,3,9,1002,9,4,9,1001,9,3,9,102,2,9,9,1001,9,5,9,102,3,9,9,4,9,99,3,9,1002,9,3,9,101,4,9,9,4,9,99,3,9,1002,9,4,9,1001,9,4,9,102,2,9,9,1001,9,2,9,1002,9,3,9,4,9,99,3,9,1001,9,5,9,4,9,99,3,9,1002,9,4,9,4,9,99,3,9,101,2,9,9,4,9,3,9,102,2,9,9,4,9,3,9,1001,9,1,9,4,9,3,9,1001,9,1,9,4,9,3,9,1002,9,2,9,4,9,3,9,101,1,9,9,4,9,3,9,1001,9,2,9,4,9,3,9,102,2,9,9,4,9,3,9,1001,9,2,9,4,9,3,9,1002,9,2,9,4,9,99,3,9,101,1,9,9,4,9,3,9,102,2,9,9,4,9,3,9,1001,9,2,9,4,9,3,9,101,2,9,9,4,9,3,9,101,2,9,9,4,9,3,9,101,2,9,9,4,9,3,9,1002,9,2,9,4,9,3,9,101,2,9,9,4,9,3,9,1001,9,1,9,4,9,3,9,101,1,9,9,4,9,99,3,9,1002,9,2,9,4,9,3,9,1002,9,2,9,4,9,3,9,101,1,9,9,4,9,3,9,1002,9,2,9,4,9,3,9,101,2,9,9,4,9,3,9,1001,9,2,9,4,9,3,9,101,2,9,9,4,9,3,9,101,1,9,9,4,9,3,9,1002,9,2,9,4,9,3,9,102,2,9,9,4,9,99,3,9,102,2,9,9,4,9,3,9,102,2,9,9,4,9,3,9,1001,9,1,9,4,9,3,9,1001,9,1,9,4,9,3,9,101,1,9,9,4,9,3,9,102,2,9,9,4,9,3,9,102,2,9,9,4,9,3,9,1002,9,2,9,4,9,3,9,102,2,9,9,4,9,3,9,1001,9,1,9,4,9,99,3,9,101,1,9,9,4,9,3,9,1002,9,2,9,4,9,3,9,102,2,9,9,4,9,3,9,1002,9,2,9,4,9,3,9,101,1,9,9,4,9,3,9,101,1,9,9,4,9,3,9,1001,9,2,9,4,9,3,9,101,2,9,9,4,9,3,9,101,1,9,9,4,9,3,9,101,1,9,9,4,9,99]"
   ]
  },
  {
   "cell_type": "code",
   "execution_count": 2,
   "metadata": {},
   "outputs": [],
   "source": [
    "test1 = [3,15,3,16,1002,16,10,16,1,16,15,15,4,15,99,0,0]\n",
    "test2 = [3,23,3,24,1002,24,10,24,1002,23,-1,23,101,5,23,23,1,24,23,23,4,23,99,0,0]\n",
    "test3 = [3,31,3,32,1002,32,10,32,1001,31,-2,31,1007,31,0,33,1002,33,7,33,1,33,31,31,1,32,31,31,4,31,99,0,0,0]"
   ]
  },
  {
   "cell_type": "code",
   "execution_count": 52,
   "metadata": {},
   "outputs": [],
   "source": [
    "def add(a, b):\n",
    "    return a + b\n",
    "\n",
    "def mul(a, b):\n",
    "    return a * b\n",
    "\n",
    "def get_code_and_mode(code):\n",
    "    scode = F'{code:05}'\n",
    "    return int(scode[-2:]), int(scode[-3]), int(scode[-4]), int(scode[-5])\n",
    "    \n",
    "def intcode(input, reg, cur_pos=0, id=0, verbose=False):\n",
    "    if verbose:\n",
    "        print(F'Starting at position {cur_pos}')\n",
    "    if isinstance(input, int):\n",
    "        input = [input]\n",
    "    output = None\n",
    "    input_count = 0\n",
    "    if verbose:\n",
    "        print(cur_pos)\n",
    "    op_code, mode_a, mode_b, mode_c = get_code_and_mode(reg[cur_pos])\n",
    "    while op_code !=99:\n",
    "        jumps = False\n",
    "        if verbose:\n",
    "            print(op_code, mode_a, mode_b, mode_c)\n",
    "        a = cur_pos + 1\n",
    "        b = cur_pos + 2\n",
    "        c = cur_pos + 3\n",
    "        if mode_a == 0:\n",
    "            pos_a = reg[a]\n",
    "            val_a = reg[pos_a]\n",
    "        else:\n",
    "            val_a = reg[a]\n",
    "        if mode_b == 0 and op_code not in [3,4]: \n",
    "            pos_b = reg[b]\n",
    "            val_b = reg[pos_b]\n",
    "        else:\n",
    "            val_b = reg[b]\n",
    "        if op_code in [1,2]:\n",
    "            step = 4\n",
    "            pos_to_change = reg[c]\n",
    "            if op_code == 1:\n",
    "                op = add\n",
    "                op_sym = '+'\n",
    "            elif op_code == 2:\n",
    "                op = mul\n",
    "                op_sym = '*'\n",
    "            val_to_write = op(val_a, val_b)\n",
    "            reg[pos_to_change] = val_to_write\n",
    "            if verbose:\n",
    "                print(F'Wrote {val_a} {op_sym} {val_b} = {val_to_write} to position {pos_to_change}')\n",
    "                print(F'Parameter a = {reg[a]}, Parameter b = {reg[b]}, Parameter c = {reg[c]}')\n",
    "        elif op_code in [3,4]:\n",
    "            step = 2\n",
    "            if op_code == 3:\n",
    "                if input_count >= len(input):\n",
    "                    return (cur_pos, output)\n",
    "                pos_to_change = reg[a]\n",
    "                reg[pos_to_change] = input[input_count]\n",
    "                if verbose:\n",
    "                    print(F'Wrote {input[input_count]} to position {pos_to_change}')\n",
    "                    print(F'Parameter a = {reg[a]}, Parameter b = {reg[b]}, Parameter c = {reg[c]}')\n",
    "                input_count += 1\n",
    "            elif op_code == 4:\n",
    "                if verbose:\n",
    "                    print('======output=========')\n",
    "                    print(val_a)\n",
    "                    print('=====================')\n",
    "                output = val_a\n",
    "        elif op_code in [5,6]:\n",
    "            step = 3\n",
    "            if (op_code == 5 and val_a != 0) or (op_code == 6 and val_a == 0):\n",
    "                jumps = True\n",
    "                next_pos = val_b\n",
    "        elif op_code in [7,8]:\n",
    "            step = 4\n",
    "            pos_to_change = reg[c]\n",
    "            if (op_code == 7 and val_a < val_b) or (op_code == 8 and val_a == val_b):\n",
    "                val_to_write = 1\n",
    "            else:\n",
    "                val_to_write = 0\n",
    "            reg[pos_to_change] = val_to_write\n",
    "        else:\n",
    "            raise ValueError(F'{op_code} is not a valid op_code')\n",
    "        if jumps:\n",
    "            cur_pos = next_pos\n",
    "            if verbose:\n",
    "                print(F'Jumping to position {cur_pos}')\n",
    "        else:\n",
    "            cur_pos += step\n",
    "            if verbose:\n",
    "                print(F'Moving {step} steps to position {cur_pos}')\n",
    "        if verbose:\n",
    "            print('------------------')\n",
    "            print(reg[cur_pos:cur_pos+4])\n",
    "        op_code, mode_a, mode_b, mode_c = get_code_and_mode(reg[cur_pos])\n",
    "#        print(F'{id}|{reg[26]:10}|{reg[27]:10}|{reg[28]:10}')\n",
    "    if output is not None:\n",
    "        if verbose:\n",
    "            print(F'Returning {output}')\n",
    "        return (-1, output)"
   ]
  },
  {
   "cell_type": "code",
   "execution_count": 53,
   "metadata": {},
   "outputs": [],
   "source": [
    "def amps(reg, phases = [0,1,2,3,4,5], verbose=False):\n",
    "    output = 0\n",
    "    input = [0, 0, 0, 0, 0]\n",
    "    amp_reg = [reg[:], reg[:], reg[:], reg[:], reg[:]]\n",
    "    amp_pos = [0,0,0,0,0]\n",
    "    cur_amp = 0\n",
    "    return_signal = 0\n",
    "    end = False\n",
    "    while not end:\n",
    "        if amp_pos[cur_amp] == 0:\n",
    "            input[cur_amp] = [phases[cur_amp], input[cur_amp]]\n",
    "            if verbose:\n",
    "                print(F'+++++++++++\\n\\nStarting amp {cur_amp} with phase {phases[cur_amp]} and input {input[cur_amp]}')\n",
    "        else:\n",
    "            if verbose:\n",
    "                print(F'+++++++++++\\n\\nFeedback loop to amp {cur_amp} with input {input[cur_amp]}')\n",
    "        return_signal, output = intcode(input[cur_amp], amp_reg[cur_amp], cur_pos=amp_pos[cur_amp], id=cur_amp, verbose=verbose)\n",
    "        amp_pos[cur_amp] = return_signal\n",
    "        if cur_amp == 4:\n",
    "            cur_amp = 0\n",
    "        else:\n",
    "            cur_amp += 1\n",
    "        input[cur_amp] = output\n",
    "        if verbose:\n",
    "            print(F'Sending {output} to amp {cur_amp}')\n",
    "        if cur_amp == 0 and return_signal == -1:\n",
    "            end = True\n",
    "    if verbose:\n",
    "        print(F'Final output = {output}')\n",
    "    return output"
   ]
  },
  {
   "cell_type": "code",
   "execution_count": null,
   "metadata": {},
   "outputs": [],
   "source": []
  },
  {
   "cell_type": "code",
   "execution_count": 54,
   "metadata": {},
   "outputs": [],
   "source": [
    "test4 = [3,26,1001,26,-4,26,3,27,1002,27,2,27,1,27,26,\n",
    "27,4,27,1001,28,-1,28,1005,28,6,99,0,0,5]\n",
    "test5 = [3,52,1001,52,-5,52,3,53,1,52,56,54,1007,54,5,55,1005,55,26,1001,54,\n",
    "-5,54,1105,1,12,1,53,54,53,1008,54,0,55,1001,55,1,55,2,53,55,53,4,\n",
    "53,1001,56,-1,56,1005,56,6,99,0,0,0,0,10]"
   ]
  },
  {
   "cell_type": "code",
   "execution_count": 56,
   "metadata": {},
   "outputs": [
    {
     "data": {
      "text/plain": [
       "139629729"
      ]
     },
     "execution_count": 56,
     "metadata": {},
     "output_type": "execute_result"
    }
   ],
   "source": [
    "amps(test4, (9,8,7,6,5))"
   ]
  },
  {
   "cell_type": "code",
   "execution_count": 57,
   "metadata": {},
   "outputs": [
    {
     "data": {
      "text/plain": [
       "18216"
      ]
     },
     "execution_count": 57,
     "metadata": {},
     "output_type": "execute_result"
    }
   ],
   "source": [
    "amps(test5, (9,7,8,5,6), verbose=False)"
   ]
  },
  {
   "cell_type": "code",
   "execution_count": 24,
   "metadata": {},
   "outputs": [
    {
     "name": "stdout",
     "output_type": "stream",
     "text": [
      "Automatic pdb calling has been turned OFF\n"
     ]
    }
   ],
   "source": [
    "pdb"
   ]
  },
  {
   "cell_type": "code",
   "execution_count": 25,
   "metadata": {
    "collapsed": true,
    "jupyter": {
     "outputs_hidden": true
    }
   },
   "outputs": [
    {
     "name": "stdout",
     "output_type": "stream",
     "text": [
      "+++++++++++\n",
      "\n",
      "Trying phase 0 in amp 0\n",
      "0\n",
      "3 0 0 0\n",
      "Wrote [0, 0] to position 15\n",
      "Parameter a = 15, Parameter b = 3, Parameter c = 16\n",
      "Moving 2 steps to position 2\n",
      "------------------\n",
      "[3, 16, 1002, 16]\n",
      "3 0 0 0\n",
      "Wrote [0, 0] to position 16\n",
      "Parameter a = 16, Parameter b = 1002, Parameter c = 16\n",
      "Moving 2 steps to position 4\n",
      "------------------\n",
      "[1002, 16, 10, 16]\n",
      "2 0 1 0\n",
      "Wrote 0 * 10 = 0 to position 16\n",
      "Parameter a = 16, Parameter b = 10, Parameter c = 16\n",
      "Moving 4 steps to position 8\n",
      "------------------\n",
      "[1, 16, 15, 15]\n",
      "1 0 0 0\n",
      "Wrote 0 + 0 = 0 to position 15\n",
      "Parameter a = 16, Parameter b = 15, Parameter c = 15\n",
      "Moving 4 steps to position 12\n",
      "------------------\n",
      "[4, 15, 99, 0]\n",
      "4 0 0 0\n",
      "======output=========\n",
      "0\n",
      "=====================\n",
      "Moving 2 steps to position 14\n",
      "------------------\n",
      "[99, 0, 0]\n",
      "Returning 0\n",
      "output = 0\n",
      "+++++++++++\n",
      "\n",
      "Trying phase 1 in amp 1\n",
      "0\n",
      "3 0 0 0\n",
      "Wrote [1, 0] to position 15\n",
      "Parameter a = 15, Parameter b = 3, Parameter c = 16\n",
      "Moving 2 steps to position 2\n",
      "------------------\n",
      "[3, 16, 1002, 16]\n",
      "3 0 0 0\n",
      "Wrote [1, 0] to position 16\n",
      "Parameter a = 16, Parameter b = 1002, Parameter c = 16\n",
      "Moving 2 steps to position 4\n",
      "------------------\n",
      "[1002, 16, 10, 16]\n",
      "2 0 1 0\n",
      "Wrote 0 * 10 = 0 to position 16\n",
      "Parameter a = 16, Parameter b = 10, Parameter c = 16\n",
      "Moving 4 steps to position 8\n",
      "------------------\n",
      "[1, 16, 15, 15]\n",
      "1 0 0 0\n",
      "Wrote 0 + 1 = 1 to position 15\n",
      "Parameter a = 16, Parameter b = 15, Parameter c = 15\n",
      "Moving 4 steps to position 12\n",
      "------------------\n",
      "[4, 15, 99, 1]\n",
      "4 0 0 0\n",
      "======output=========\n",
      "1\n",
      "=====================\n",
      "Moving 2 steps to position 14\n",
      "------------------\n",
      "[99, 1, 0]\n",
      "Returning 1\n",
      "output = 1\n",
      "+++++++++++\n",
      "\n",
      "Trying phase 2 in amp 2\n",
      "0\n",
      "3 0 0 0\n",
      "Wrote [2, 1] to position 15\n",
      "Parameter a = 15, Parameter b = 3, Parameter c = 16\n",
      "Moving 2 steps to position 2\n",
      "------------------\n",
      "[3, 16, 1002, 16]\n",
      "3 0 0 0\n",
      "Wrote [2, 1] to position 16\n",
      "Parameter a = 16, Parameter b = 1002, Parameter c = 16\n",
      "Moving 2 steps to position 4\n",
      "------------------\n",
      "[1002, 16, 10, 16]\n",
      "2 0 1 0\n",
      "Wrote 1 * 10 = 10 to position 16\n",
      "Parameter a = 16, Parameter b = 10, Parameter c = 16\n",
      "Moving 4 steps to position 8\n",
      "------------------\n",
      "[1, 16, 15, 15]\n",
      "1 0 0 0\n",
      "Wrote 10 + 2 = 12 to position 15\n",
      "Parameter a = 16, Parameter b = 15, Parameter c = 15\n",
      "Moving 4 steps to position 12\n",
      "------------------\n",
      "[4, 15, 99, 12]\n",
      "4 0 0 0\n",
      "======output=========\n",
      "12\n",
      "=====================\n",
      "Moving 2 steps to position 14\n",
      "------------------\n",
      "[99, 12, 10]\n",
      "Returning 12\n",
      "output = 12\n",
      "+++++++++++\n",
      "\n",
      "Trying phase 3 in amp 3\n",
      "0\n",
      "3 0 0 0\n",
      "Wrote [3, 12] to position 15\n",
      "Parameter a = 15, Parameter b = 3, Parameter c = 16\n",
      "Moving 2 steps to position 2\n",
      "------------------\n",
      "[3, 16, 1002, 16]\n",
      "3 0 0 0\n",
      "Wrote [3, 12] to position 16\n",
      "Parameter a = 16, Parameter b = 1002, Parameter c = 16\n",
      "Moving 2 steps to position 4\n",
      "------------------\n",
      "[1002, 16, 10, 16]\n",
      "2 0 1 0\n",
      "Wrote 12 * 10 = 120 to position 16\n",
      "Parameter a = 16, Parameter b = 10, Parameter c = 16\n",
      "Moving 4 steps to position 8\n",
      "------------------\n",
      "[1, 16, 15, 15]\n",
      "1 0 0 0\n",
      "Wrote 120 + 3 = 123 to position 15\n",
      "Parameter a = 16, Parameter b = 15, Parameter c = 15\n",
      "Moving 4 steps to position 12\n",
      "------------------\n",
      "[4, 15, 99, 123]\n",
      "4 0 0 0\n",
      "======output=========\n",
      "123\n",
      "=====================\n",
      "Moving 2 steps to position 14\n",
      "------------------\n",
      "[99, 123, 120]\n",
      "Returning 123\n",
      "output = 123\n",
      "+++++++++++\n",
      "\n",
      "Trying phase 4 in amp 4\n",
      "0\n",
      "3 0 0 0\n",
      "Wrote [4, 123] to position 15\n",
      "Parameter a = 15, Parameter b = 3, Parameter c = 16\n",
      "Moving 2 steps to position 2\n",
      "------------------\n",
      "[3, 16, 1002, 16]\n",
      "3 0 0 0\n",
      "Wrote [4, 123] to position 16\n",
      "Parameter a = 16, Parameter b = 1002, Parameter c = 16\n",
      "Moving 2 steps to position 4\n",
      "------------------\n",
      "[1002, 16, 10, 16]\n",
      "2 0 1 0\n",
      "Wrote 123 * 10 = 1230 to position 16\n",
      "Parameter a = 16, Parameter b = 10, Parameter c = 16\n",
      "Moving 4 steps to position 8\n",
      "------------------\n",
      "[1, 16, 15, 15]\n",
      "1 0 0 0\n",
      "Wrote 1230 + 4 = 1234 to position 15\n",
      "Parameter a = 16, Parameter b = 15, Parameter c = 15\n",
      "Moving 4 steps to position 12\n",
      "------------------\n",
      "[4, 15, 99, 1234]\n",
      "4 0 0 0\n",
      "======output=========\n",
      "1234\n",
      "=====================\n",
      "Moving 2 steps to position 14\n",
      "------------------\n",
      "[99, 1234, 1230]\n",
      "Returning 1234\n",
      "output = 1234\n",
      "+++++++++++\n",
      "\n",
      "Trying phase 5 in amp 5\n",
      "0\n",
      "3 0 0 0\n",
      "Wrote [5, 1234] to position 15\n",
      "Parameter a = 15, Parameter b = 3, Parameter c = 16\n",
      "Moving 2 steps to position 2\n",
      "------------------\n",
      "[3, 16, 1002, 16]\n",
      "3 0 0 0\n",
      "Wrote [5, 1234] to position 16\n",
      "Parameter a = 16, Parameter b = 1002, Parameter c = 16\n",
      "Moving 2 steps to position 4\n",
      "------------------\n",
      "[1002, 16, 10, 16]\n",
      "2 0 1 0\n",
      "Wrote 1234 * 10 = 12340 to position 16\n",
      "Parameter a = 16, Parameter b = 10, Parameter c = 16\n",
      "Moving 4 steps to position 8\n",
      "------------------\n",
      "[1, 16, 15, 15]\n",
      "1 0 0 0\n",
      "Wrote 12340 + 5 = 12345 to position 15\n",
      "Parameter a = 16, Parameter b = 15, Parameter c = 15\n",
      "Moving 4 steps to position 12\n",
      "------------------\n",
      "[4, 15, 99, 12345]\n",
      "4 0 0 0\n",
      "======output=========\n",
      "12345\n",
      "=====================\n",
      "Moving 2 steps to position 14\n",
      "------------------\n",
      "[99, 12345, 12340]\n",
      "Returning 12345\n",
      "output = 12345\n",
      "Final output = 12345\n"
     ]
    },
    {
     "data": {
      "text/plain": [
       "12345"
      ]
     },
     "execution_count": 25,
     "metadata": {},
     "output_type": "execute_result"
    }
   ],
   "source": [
    "amps(test1, verbose=True)"
   ]
  },
  {
   "cell_type": "code",
   "execution_count": 25,
   "metadata": {},
   "outputs": [
    {
     "data": {
      "text/plain": [
       "57"
      ]
     },
     "execution_count": 25,
     "metadata": {},
     "output_type": "execute_result"
    }
   ],
   "source": [
    "len(test5)"
   ]
  },
  {
   "cell_type": "code",
   "execution_count": 62,
   "metadata": {},
   "outputs": [],
   "source": [
    "from itertools import permutations"
   ]
  },
  {
   "cell_type": "code",
   "execution_count": 64,
   "metadata": {},
   "outputs": [],
   "source": [
    "def find_best(reg, perms=[0,1,2,3,4], verbose=False):\n",
    "    max = 0\n",
    "    best_perm = None\n",
    "    for p in permutations(perms):\n",
    "        if verbose:\n",
    "            print(F'~~~~~~~\\n\\nTrying {p}')\n",
    "        output = amps(reg[:], p, verbose)\n",
    "        if verbose:\n",
    "            print(F'Final output: {output}')\n",
    "        if output > max:\n",
    "            max = output\n",
    "            best_perm = p\n",
    "    return best_perm, max"
   ]
  },
  {
   "cell_type": "code",
   "execution_count": 67,
   "metadata": {},
   "outputs": [
    {
     "data": {
      "text/plain": [
       "((6, 5, 9, 8, 7), 4248984)"
      ]
     },
     "execution_count": 67,
     "metadata": {},
     "output_type": "execute_result"
    }
   ],
   "source": [
    "find_best(amp_reg, [9,8,7,6,5])"
   ]
  },
  {
   "cell_type": "code",
   "execution_count": 29,
   "metadata": {},
   "outputs": [
    {
     "data": {
      "text/plain": [
       "54321"
      ]
     },
     "execution_count": 29,
     "metadata": {},
     "output_type": "execute_result"
    }
   ],
   "source": [
    "amps(test2, (0,1,2,3,4))"
   ]
  },
  {
   "cell_type": "code",
   "execution_count": 30,
   "metadata": {},
   "outputs": [
    {
     "data": {
      "text/plain": [
       "65210"
      ]
     },
     "execution_count": 30,
     "metadata": {},
     "output_type": "execute_result"
    }
   ],
   "source": [
    "amps(test3, (1,0,4,3,2))"
   ]
  },
  {
   "cell_type": "code",
   "execution_count": 61,
   "metadata": {},
   "outputs": [
    {
     "ename": "NameError",
     "evalue": "name 'permutations' is not defined",
     "output_type": "error",
     "traceback": [
      "\u001b[0;31m---------------------------------------------------------------------------\u001b[0m",
      "\u001b[0;31mNameError\u001b[0m                                 Traceback (most recent call last)",
      "\u001b[0;32m<ipython-input-61-16721d73bbbe>\u001b[0m in \u001b[0;36m<module>\u001b[0;34m()\u001b[0m\n\u001b[0;32m----> 1\u001b[0;31m \u001b[0mfind_best\u001b[0m\u001b[0;34m(\u001b[0m\u001b[0mamp_reg\u001b[0m\u001b[0;34m)\u001b[0m\u001b[0;34m\u001b[0m\u001b[0;34m\u001b[0m\u001b[0m\n\u001b[0m",
      "\u001b[0;32m<ipython-input-58-060b17fb54b8>\u001b[0m in \u001b[0;36mfind_best\u001b[0;34m(reg, verbose)\u001b[0m\n\u001b[1;32m      2\u001b[0m     \u001b[0mmax\u001b[0m \u001b[0;34m=\u001b[0m \u001b[0;36m0\u001b[0m\u001b[0;34m\u001b[0m\u001b[0;34m\u001b[0m\u001b[0m\n\u001b[1;32m      3\u001b[0m     \u001b[0mbest_perm\u001b[0m \u001b[0;34m=\u001b[0m \u001b[0;32mNone\u001b[0m\u001b[0;34m\u001b[0m\u001b[0;34m\u001b[0m\u001b[0m\n\u001b[0;32m----> 4\u001b[0;31m     \u001b[0;32mfor\u001b[0m \u001b[0mp\u001b[0m \u001b[0;32min\u001b[0m \u001b[0mpermutations\u001b[0m\u001b[0;34m(\u001b[0m\u001b[0;34m[\u001b[0m\u001b[0;36m0\u001b[0m\u001b[0;34m,\u001b[0m\u001b[0;36m1\u001b[0m\u001b[0;34m,\u001b[0m\u001b[0;36m2\u001b[0m\u001b[0;34m,\u001b[0m\u001b[0;36m3\u001b[0m\u001b[0;34m,\u001b[0m\u001b[0;36m4\u001b[0m\u001b[0;34m]\u001b[0m\u001b[0;34m)\u001b[0m\u001b[0;34m:\u001b[0m\u001b[0;34m\u001b[0m\u001b[0;34m\u001b[0m\u001b[0m\n\u001b[0m\u001b[1;32m      5\u001b[0m         \u001b[0;32mif\u001b[0m \u001b[0mverbose\u001b[0m\u001b[0;34m:\u001b[0m\u001b[0;34m\u001b[0m\u001b[0;34m\u001b[0m\u001b[0m\n\u001b[1;32m      6\u001b[0m             \u001b[0mprint\u001b[0m\u001b[0;34m(\u001b[0m\u001b[0;34mF'~~~~~~~\\n\\nTrying {p}'\u001b[0m\u001b[0;34m)\u001b[0m\u001b[0;34m\u001b[0m\u001b[0;34m\u001b[0m\u001b[0m\n",
      "\u001b[0;31mNameError\u001b[0m: name 'permutations' is not defined"
     ]
    }
   ],
   "source": [
    "find_best(amp_reg)"
   ]
  },
  {
   "cell_type": "code",
   "execution_count": 50,
   "metadata": {
    "collapsed": true,
    "jupyter": {
     "outputs_hidden": true
    }
   },
   "outputs": [
    {
     "name": "stdout",
     "output_type": "stream",
     "text": [
      "+++++++++++\n",
      "\n",
      "Starting amp 0 with phase 9 and input [9, 0]\n",
      "0\n",
      "3 0 0 0\n",
      "Wrote [9, 0] to position 26\n",
      "Parameter a = 26, Parameter b = 1001, Parameter c = 26\n",
      "Moving 2 steps to position 2\n",
      "------------------\n",
      "[1001, 26, -4, 26]\n",
      "1 0 1 0\n",
      "Wrote 9 + -4 = 5 to position 26\n",
      "Parameter a = 26, Parameter b = -4, Parameter c = 26\n",
      "Moving 4 steps to position 6\n",
      "------------------\n",
      "[3, 27, 1002, 27]\n",
      "3 0 0 0\n",
      "Wrote [9, 0] to position 27\n",
      "Parameter a = 27, Parameter b = 1002, Parameter c = 27\n",
      "Moving 2 steps to position 8\n",
      "------------------\n",
      "[1002, 27, 2, 27]\n",
      "2 0 1 0\n",
      "Wrote 0 * 2 = 0 to position 27\n",
      "Parameter a = 27, Parameter b = 2, Parameter c = 27\n",
      "Moving 4 steps to position 12\n",
      "------------------\n",
      "[1, 27, 26, 27]\n",
      "1 0 0 0\n",
      "Wrote 0 + 5 = 5 to position 27\n",
      "Parameter a = 27, Parameter b = 26, Parameter c = 27\n",
      "Moving 4 steps to position 16\n",
      "------------------\n",
      "[4, 27, 1001, 28]\n",
      "4 0 0 0\n",
      "======output=========\n",
      "5\n",
      "=====================\n",
      "Moving 2 steps to position 18\n",
      "------------------\n",
      "[1001, 28, -1, 28]\n",
      "1 0 1 0\n",
      "Wrote 5 + -1 = 4 to position 28\n",
      "Parameter a = 28, Parameter b = -1, Parameter c = 28\n",
      "Moving 4 steps to position 22\n",
      "------------------\n",
      "[1005, 28, 6, 99]\n",
      "5 0 1 0\n",
      "Moving 3 steps to position 6\n",
      "------------------\n",
      "[3, 27, 1002, 27]\n",
      "3 0 0 0\n"
     ]
    },
    {
     "ename": "IndexError",
     "evalue": "list index out of range",
     "output_type": "error",
     "traceback": [
      "\u001b[0;31m---------------------------------------------------------------------------\u001b[0m",
      "\u001b[0;31mIndexError\u001b[0m                                Traceback (most recent call last)",
      "\u001b[0;32m<ipython-input-50-12827e7bb847>\u001b[0m in \u001b[0;36m<module>\u001b[0;34m()\u001b[0m\n\u001b[0;32m----> 1\u001b[0;31m \u001b[0mamps\u001b[0m\u001b[0;34m(\u001b[0m\u001b[0mtest4\u001b[0m\u001b[0;34m,\u001b[0m \u001b[0;34m(\u001b[0m\u001b[0;36m9\u001b[0m\u001b[0;34m,\u001b[0m\u001b[0;36m7\u001b[0m\u001b[0;34m,\u001b[0m\u001b[0;36m8\u001b[0m\u001b[0;34m,\u001b[0m\u001b[0;36m5\u001b[0m\u001b[0;34m,\u001b[0m\u001b[0;36m6\u001b[0m\u001b[0;34m)\u001b[0m\u001b[0;34m,\u001b[0m \u001b[0mverbose\u001b[0m\u001b[0;34m=\u001b[0m\u001b[0;32mTrue\u001b[0m\u001b[0;34m)\u001b[0m\u001b[0;34m\u001b[0m\u001b[0;34m\u001b[0m\u001b[0m\n\u001b[0m",
      "\u001b[0;32m<ipython-input-49-5c694b1019cf>\u001b[0m in \u001b[0;36mamps\u001b[0;34m(reg, phases, verbose)\u001b[0m\n\u001b[1;32m     11\u001b[0m             \u001b[0;32mif\u001b[0m \u001b[0mverbose\u001b[0m\u001b[0;34m:\u001b[0m\u001b[0;34m\u001b[0m\u001b[0;34m\u001b[0m\u001b[0m\n\u001b[1;32m     12\u001b[0m                 \u001b[0mprint\u001b[0m\u001b[0;34m(\u001b[0m\u001b[0;34mF'+++++++++++\\n\\nStarting amp {cur_amp} with phase {phases[cur_amp]} and input {input[cur_amp]}'\u001b[0m\u001b[0;34m)\u001b[0m\u001b[0;34m\u001b[0m\u001b[0;34m\u001b[0m\u001b[0m\n\u001b[0;32m---> 13\u001b[0;31m         \u001b[0mreturn_signal\u001b[0m\u001b[0;34m,\u001b[0m \u001b[0moutput\u001b[0m \u001b[0;34m=\u001b[0m \u001b[0mintcode\u001b[0m\u001b[0;34m(\u001b[0m\u001b[0minput\u001b[0m\u001b[0;34m[\u001b[0m\u001b[0mcur_amp\u001b[0m\u001b[0;34m]\u001b[0m\u001b[0;34m,\u001b[0m \u001b[0mamp_reg\u001b[0m\u001b[0;34m[\u001b[0m\u001b[0mcur_amp\u001b[0m\u001b[0;34m]\u001b[0m\u001b[0;34m,\u001b[0m \u001b[0mcur_pos\u001b[0m\u001b[0;34m=\u001b[0m\u001b[0mamp_pos\u001b[0m\u001b[0;34m[\u001b[0m\u001b[0mcur_amp\u001b[0m\u001b[0;34m]\u001b[0m\u001b[0;34m,\u001b[0m \u001b[0mverbose\u001b[0m\u001b[0;34m=\u001b[0m\u001b[0mverbose\u001b[0m\u001b[0;34m)\u001b[0m\u001b[0;34m\u001b[0m\u001b[0;34m\u001b[0m\u001b[0m\n\u001b[0m\u001b[1;32m     14\u001b[0m         \u001b[0mamp_pos\u001b[0m\u001b[0;34m[\u001b[0m\u001b[0mcur_amp\u001b[0m\u001b[0;34m]\u001b[0m \u001b[0;34m=\u001b[0m \u001b[0mreturn_signal\u001b[0m\u001b[0;34m\u001b[0m\u001b[0;34m\u001b[0m\u001b[0m\n\u001b[1;32m     15\u001b[0m         \u001b[0minput\u001b[0m\u001b[0;34m[\u001b[0m\u001b[0mcur_amp\u001b[0m\u001b[0;34m]\u001b[0m \u001b[0;34m=\u001b[0m \u001b[0moutput\u001b[0m\u001b[0;34m\u001b[0m\u001b[0;34m\u001b[0m\u001b[0m\n",
      "\u001b[0;32m<ipython-input-48-80b782abd06c>\u001b[0m in \u001b[0;36mintcode\u001b[0;34m(input, reg, cur_pos, verbose)\u001b[0m\n\u001b[1;32m     52\u001b[0m                     \u001b[0;32mreturn\u001b[0m \u001b[0;34m(\u001b[0m\u001b[0mcur_pos\u001b[0m\u001b[0;34m,\u001b[0m \u001b[0moutput\u001b[0m\u001b[0;34m)\u001b[0m\u001b[0;34m\u001b[0m\u001b[0;34m\u001b[0m\u001b[0m\n\u001b[1;32m     53\u001b[0m                 \u001b[0mpos_to_change\u001b[0m \u001b[0;34m=\u001b[0m \u001b[0mreg\u001b[0m\u001b[0;34m[\u001b[0m\u001b[0ma\u001b[0m\u001b[0;34m]\u001b[0m\u001b[0;34m\u001b[0m\u001b[0;34m\u001b[0m\u001b[0m\n\u001b[0;32m---> 54\u001b[0;31m                 \u001b[0mreg\u001b[0m\u001b[0;34m[\u001b[0m\u001b[0mpos_to_change\u001b[0m\u001b[0;34m]\u001b[0m \u001b[0;34m=\u001b[0m \u001b[0minput\u001b[0m\u001b[0;34m[\u001b[0m\u001b[0minput_count\u001b[0m\u001b[0;34m]\u001b[0m\u001b[0;34m\u001b[0m\u001b[0;34m\u001b[0m\u001b[0m\n\u001b[0m\u001b[1;32m     55\u001b[0m                 \u001b[0minput_count\u001b[0m \u001b[0;34m+=\u001b[0m \u001b[0;36m1\u001b[0m\u001b[0;34m\u001b[0m\u001b[0;34m\u001b[0m\u001b[0m\n\u001b[1;32m     56\u001b[0m                 \u001b[0;32mif\u001b[0m \u001b[0mverbose\u001b[0m\u001b[0;34m:\u001b[0m\u001b[0;34m\u001b[0m\u001b[0;34m\u001b[0m\u001b[0m\n",
      "\u001b[0;31mIndexError\u001b[0m: list index out of range"
     ]
    },
    {
     "name": "stdout",
     "output_type": "stream",
     "text": [
      "> \u001b[0;32m<ipython-input-48-80b782abd06c>\u001b[0m(54)\u001b[0;36mintcode\u001b[0;34m()\u001b[0m\n",
      "\u001b[0;32m     52 \u001b[0;31m                    \u001b[0;32mreturn\u001b[0m \u001b[0;34m(\u001b[0m\u001b[0mcur_pos\u001b[0m\u001b[0;34m,\u001b[0m \u001b[0moutput\u001b[0m\u001b[0;34m)\u001b[0m\u001b[0;34m\u001b[0m\u001b[0;34m\u001b[0m\u001b[0m\n",
      "\u001b[0m\u001b[0;32m     53 \u001b[0;31m                \u001b[0mpos_to_change\u001b[0m \u001b[0;34m=\u001b[0m \u001b[0mreg\u001b[0m\u001b[0;34m[\u001b[0m\u001b[0ma\u001b[0m\u001b[0;34m]\u001b[0m\u001b[0;34m\u001b[0m\u001b[0;34m\u001b[0m\u001b[0m\n",
      "\u001b[0m\u001b[0;32m---> 54 \u001b[0;31m                \u001b[0mreg\u001b[0m\u001b[0;34m[\u001b[0m\u001b[0mpos_to_change\u001b[0m\u001b[0;34m]\u001b[0m \u001b[0;34m=\u001b[0m \u001b[0minput\u001b[0m\u001b[0;34m[\u001b[0m\u001b[0minput_count\u001b[0m\u001b[0;34m]\u001b[0m\u001b[0;34m\u001b[0m\u001b[0;34m\u001b[0m\u001b[0m\n",
      "\u001b[0m\u001b[0;32m     55 \u001b[0;31m                \u001b[0minput_count\u001b[0m \u001b[0;34m+=\u001b[0m \u001b[0;36m1\u001b[0m\u001b[0;34m\u001b[0m\u001b[0;34m\u001b[0m\u001b[0m\n",
      "\u001b[0m\u001b[0;32m     56 \u001b[0;31m                \u001b[0;32mif\u001b[0m \u001b[0mverbose\u001b[0m\u001b[0;34m:\u001b[0m\u001b[0;34m\u001b[0m\u001b[0;34m\u001b[0m\u001b[0m\n",
      "\u001b[0m\n"
     ]
    },
    {
     "name": "stdin",
     "output_type": "stream",
     "text": [
      "ipdb>  reg\n"
     ]
    },
    {
     "name": "stdout",
     "output_type": "stream",
     "text": [
      "[3, 26, 1001, 26, -4, 26, 3, 27, 1002, 27, 2, 27, 1, 27, 26, 27, 4, 27, 1001, 28, -1, 28, 1005, 28, 6, 99, 5, 5, 4]\n"
     ]
    },
    {
     "name": "stdin",
     "output_type": "stream",
     "text": [
      "ipdb>  reg[26]\n"
     ]
    },
    {
     "name": "stdout",
     "output_type": "stream",
     "text": [
      "5\n"
     ]
    },
    {
     "name": "stdin",
     "output_type": "stream",
     "text": [
      "ipdb>  q\n"
     ]
    }
   ],
   "source": [
    "amps(test4, (9,7,8,5,6), verbose=True)"
   ]
  },
  {
   "cell_type": "code",
   "execution_count": null,
   "metadata": {},
   "outputs": [],
   "source": []
  }
 ],
 "metadata": {
  "kernelspec": {
   "display_name": "Python [default]",
   "language": "python",
   "name": "python3"
  },
  "language_info": {
   "codemirror_mode": {
    "name": "ipython",
    "version": 3
   },
   "file_extension": ".py",
   "mimetype": "text/x-python",
   "name": "python",
   "nbconvert_exporter": "python",
   "pygments_lexer": "ipython3",
   "version": "3.6.7"
  }
 },
 "nbformat": 4,
 "nbformat_minor": 4
}
