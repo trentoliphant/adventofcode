{
 "cells": [
  {
   "cell_type": "code",
   "execution_count": 2,
   "metadata": {},
   "outputs": [],
   "source": [
    "robot_code = [3,8,1005,8,291,1106,0,11,0,0,0,104,1,104,0,3,8,1002,8,-1,10,101,1,10,10,4,10,108,0,8,10,4,10,1002,8,1,28,1,1003,20,10,2,1103,19,10,3,8,1002,8,-1,10,1001,10,1,10,4,10,1008,8,0,10,4,10,1001,8,0,59,1,1004,3,10,3,8,102,-1,8,10,1001,10,1,10,4,10,108,0,8,10,4,10,1001,8,0,84,1006,0,3,1,1102,12,10,3,8,1002,8,-1,10,101,1,10,10,4,10,1008,8,1,10,4,10,101,0,8,114,3,8,1002,8,-1,10,101,1,10,10,4,10,108,1,8,10,4,10,101,0,8,135,3,8,1002,8,-1,10,1001,10,1,10,4,10,1008,8,0,10,4,10,102,1,8,158,2,9,9,10,2,2,10,10,3,8,1002,8,-1,10,1001,10,1,10,4,10,1008,8,1,10,4,10,101,0,8,188,1006,0,56,3,8,1002,8,-1,10,1001,10,1,10,4,10,108,1,8,10,4,10,1001,8,0,212,1006,0,76,2,1005,8,10,3,8,102,-1,8,10,1001,10,1,10,4,10,108,1,8,10,4,10,1001,8,0,241,3,8,102,-1,8,10,101,1,10,10,4,10,1008,8,0,10,4,10,1002,8,1,264,1006,0,95,1,1001,12,10,101,1,9,9,1007,9,933,10,1005,10,15,99,109,613,104,0,104,1,21102,838484206484,1,1,21102,1,308,0,1106,0,412,21102,1,937267929116,1,21101,0,319,0,1105,1,412,3,10,104,0,104,1,3,10,104,0,104,0,3,10,104,0,104,1,3,10,104,0,104,1,3,10,104,0,104,0,3,10,104,0,104,1,21102,206312598619,1,1,21102,366,1,0,1105,1,412,21101,179410332867,0,1,21102,377,1,0,1105,1,412,3,10,104,0,104,0,3,10,104,0,104,0,21101,0,709580595968,1,21102,1,400,0,1106,0,412,21102,868389384552,1,1,21101,411,0,0,1106,0,412,99,109,2,21202,-1,1,1,21102,1,40,2,21102,1,443,3,21101,0,433,0,1106,0,476,109,-2,2105,1,0,0,1,0,0,1,109,2,3,10,204,-1,1001,438,439,454,4,0,1001,438,1,438,108,4,438,10,1006,10,470,1102,0,1,438,109,-2,2106,0,0,0,109,4,1202,-1,1,475,1207,-3,0,10,1006,10,493,21102,0,1,-3,21202,-3,1,1,21201,-2,0,2,21101,0,1,3,21102,1,512,0,1106,0,517,109,-4,2105,1,0,109,5,1207,-3,1,10,1006,10,540,2207,-4,-2,10,1006,10,540,22101,0,-4,-4,1106,0,608,21201,-4,0,1,21201,-3,-1,2,21202,-2,2,3,21101,0,559,0,1106,0,517,21201,1,0,-4,21102,1,1,-1,2207,-4,-2,10,1006,10,578,21101,0,0,-1,22202,-2,-1,-2,2107,0,-3,10,1006,10,600,21201,-1,0,1,21102,600,1,0,106,0,475,21202,-2,-1,-2,22201,-4,-2,-4,109,-5,2106,0,0]"
   ]
  },
  {
   "cell_type": "code",
   "execution_count": 3,
   "metadata": {},
   "outputs": [],
   "source": [
    "class intcode:\n",
    "    \n",
    "    def __init__(self, program, input=[], cur_pos=0, rel_base=0, id=0, verbose=False):\n",
    "        self.memory = program[:]\n",
    "        self.size = len(program)\n",
    "        self.input_count = 0\n",
    "        if isinstance(input, int):\n",
    "            input = [input]\n",
    "        self.input = input\n",
    "        self.cur_pos = cur_pos\n",
    "        self.relative_base = rel_base\n",
    "        self.verbose = verbose\n",
    "        self.id = id\n",
    "        self.waiting_for_input = False\n",
    "        self.output = []\n",
    "        self.logs = []\n",
    "    \n",
    "    def _check_mem(self, pos):\n",
    "        if pos >= self.size:\n",
    "            self.log(F'Not enough memory - requested {pos}, existing {self.size}', 2)\n",
    "            self.memory.extend([0] * (pos - self.size + 1))\n",
    "            self.size = len(self.memory)\n",
    "            self.log(F'Increased memory to {self.size}', 2)\n",
    "    \n",
    "    def _read_mem(self, pointer, mode):\n",
    "        if mode == 1:\n",
    "            self.log(F'Immediate mode returning value: {pointer}', 3)\n",
    "            return pointer\n",
    "        if mode == 2:\n",
    "            pointer = pointer + self.relative_base\n",
    "            self.log(F'Relative mode moving pointer to {pointer}', 3)\n",
    "        self._check_mem(pointer)\n",
    "        to_return = self.memory[pointer]\n",
    "        self.log(F'Returning value {to_return} from position {pointer}', 2)\n",
    "        return to_return\n",
    "    \n",
    "    def _write_mem(self, pointer, mode, value):\n",
    "        if mode == 2:\n",
    "            pointer = pointer + self.relative_base\n",
    "            self.log(F'Relative mode moving pointer to {pointer}', 3)\n",
    "        self._check_mem(pointer)\n",
    "        self.memory[pointer] = value\n",
    "        self.log(F'Writing value {value} to position {pointer}', 2)\n",
    "\n",
    "        \n",
    "    def _get_code_and_modes(self, code):\n",
    "        scode = F'{code:05}'\n",
    "        return int(scode[-2:]), int(scode[-3]), int(scode[-4]), int(scode[-5])\n",
    "    \n",
    "    def run_opcode(self, code, modes):\n",
    "        if code == 1:\n",
    "            self.opcode1(modes)\n",
    "        if code == 2:\n",
    "            self.opcode2(modes)\n",
    "        if code == 3:\n",
    "            self.opcode3(modes)\n",
    "        if code == 4:\n",
    "            self.opcode4(modes)\n",
    "        if code == 5:\n",
    "            self.opcode5(modes)\n",
    "        if code == 6:\n",
    "            self.opcode6(modes)\n",
    "        if code == 7:\n",
    "            self.opcode7(modes)\n",
    "        if code == 8:\n",
    "            self.opcode8(modes)\n",
    "        if code == 9:\n",
    "            self.opcode9(modes)\n",
    "    \n",
    "    def opcode1(self, modes):\n",
    "        mode_a, mode_b, mode_c = modes\n",
    "        a, b, c = self.memory[self.cur_pos + 1: self.cur_pos + 4]\n",
    "        self.log(F'Parameters: {a}, {b}, {c}', 1)\n",
    "        val_a = self._read_mem(a, mode_a)\n",
    "        val_b = self._read_mem(b, mode_b)\n",
    "        self._write_mem(c, mode_c, val_a + val_b)\n",
    "        self.log(F'Wrote {val_a} + {val_b} = {val_a + val_b} to {c}, mode {mode_c}', 2)\n",
    "        self.cur_pos += 4\n",
    "\n",
    "    def opcode2(self, modes):\n",
    "        mode_a, mode_b, mode_c = modes\n",
    "        a, b, c = self.memory[self.cur_pos + 1: self.cur_pos + 4]\n",
    "        self.log(F'Parameters: {a}, {b}, {c}', 1)\n",
    "        val_a = self._read_mem(a, mode_a)\n",
    "        val_b = self._read_mem(b, mode_b)\n",
    "        self._write_mem(c, mode_c, val_a * val_b)\n",
    "        self.log(F'Wrote {val_a} * {val_b} = {val_a * val_b} to {c}, mode {mode_c}', 2)\n",
    "        self.cur_pos += 4\n",
    "        \n",
    "    def opcode3(self, modes):\n",
    "        mode = modes[0]\n",
    "        if self.input_count >= len(self.input):\n",
    "            self.waiting_for_input = True\n",
    "            self.log(F'Waiting for input, cur_pos: {self.cur_pos}',1)\n",
    "            return\n",
    "        param = self.memory[self.cur_pos + 1]\n",
    "        cur_input = self.input[self.input_count]\n",
    "        self._write_mem(param, mode, cur_input)\n",
    "        self.log(F'Wrote {cur_input} to {param}, mode {mode}', 2)\n",
    "        self.input_count += 1\n",
    "        self.cur_pos += 2\n",
    "    \n",
    "    def opcode4(self, modes):\n",
    "        mode = modes[0]\n",
    "        val = self.memory[self.cur_pos + 1]\n",
    "        self.log(F'Parameter: {val}', 2)\n",
    "        to_output = self._read_mem(val, mode)\n",
    "        self.log(F'Writing {to_output} from {val} mode {mode} to output', 2)\n",
    "        self.output.append(self._read_mem(val, mode))\n",
    "        self.log(F'New_output: {self.output}', 2)\n",
    "        self.cur_pos += 2\n",
    "\n",
    "    def opcode5(self, modes):\n",
    "        mode_a, mode_b = modes[:2]\n",
    "        a, b = self.memory[self.cur_pos + 1: self.cur_pos + 3]\n",
    "        if self._read_mem(a, mode_a) != 0:\n",
    "            self.cur_pos = self._read_mem(b, mode_b)\n",
    "        else:\n",
    "            self.cur_pos += 3\n",
    "    \n",
    "    def opcode6(self, modes):\n",
    "        mode_a, mode_b = modes[:2]\n",
    "        a, b = self.memory[self.cur_pos + 1: self.cur_pos + 3]\n",
    "        if self._read_mem(a, mode_a) == 0:\n",
    "            self.cur_pos = self._read_mem(b, mode_b)\n",
    "        else:\n",
    "            self.cur_pos += 3\n",
    "        \n",
    "    def opcode7(self, modes):\n",
    "        mode_a, mode_b, mode_c = modes\n",
    "        a, b, c = self.memory[self.cur_pos + 1: self.cur_pos + 4]\n",
    "        val_to_write = 0\n",
    "        if self._read_mem(a, mode_a) < self._read_mem(b, mode_b):\n",
    "            val_to_write = 1\n",
    "        self._write_mem(c, mode_c, val_to_write)\n",
    "        self.cur_pos += 4\n",
    "    \n",
    "    def opcode8(self, modes):\n",
    "        mode_a, mode_b, mode_c = modes\n",
    "        a, b, c = self.memory[self.cur_pos + 1: self.cur_pos + 4]\n",
    "        val_to_write = 0\n",
    "        if self._read_mem(a, mode_a) == self._read_mem(b, mode_b):\n",
    "            val_to_write = 1\n",
    "        self._write_mem(c, mode_c, val_to_write)\n",
    "        self.cur_pos += 4\n",
    "        \n",
    "    def opcode9(self, modes):\n",
    "        mode = modes[0]\n",
    "        param = self.memory[self.cur_pos+1]\n",
    "        val = self._read_mem(param, mode)\n",
    "        self.relative_base += val\n",
    "        self.cur_pos += 2\n",
    "        \n",
    "    def run(self):\n",
    "        cur_opcode = 0\n",
    "        while not self.waiting_for_input and cur_opcode !=99:\n",
    "            codes = self._get_code_and_modes(self.memory[self.cur_pos])\n",
    "            cur_opcode = codes[0]\n",
    "            modes = codes[1:]\n",
    "            self.log('=====================', 3)\n",
    "            self.log(F'cur_pos: {self.cur_pos}, opcode: {codes}', 1)\n",
    "            self.run_opcode(cur_opcode, modes)\n",
    "        self.log(self.output, 1)\n",
    "        if cur_opcode == 99:\n",
    "            return cur_opcode\n",
    "\n",
    "    def step(self):\n",
    "        codes = self._get_code_and_modes(self.memory[self.cur_pos])\n",
    "        self.log('=======================', 3)\n",
    "        self.log(F'cur_pos: {self.cur_pos}, opcode: {codes}', 1)\n",
    "        self.run_opcode(codes[0], codes[1:])\n",
    "    \n",
    "    def log(self, log_string, level=0):\n",
    "        self.logs.append(log_string)\n",
    "        if self.verbose >= level:\n",
    "            print(log_string)\n",
    "        \n",
    "    def add_input(self, input):\n",
    "        if isinstance(input, list):\n",
    "            self.input.extend(input)\n",
    "        elif isinstance(input, int):\n",
    "            self.input.append(input)\n",
    "        else:\n",
    "            raise ValueError('Input must be an int or list')\n",
    "        self.log(F'Added {input} to input buffer, able to restart', 1)\n",
    "        self.waiting_for_input = False"
   ]
  },
  {
   "cell_type": "code",
   "execution_count": 10,
   "metadata": {},
   "outputs": [
    {
     "name": "stdout",
     "output_type": "stream",
     "text": [
      "u 0 0\n"
     ]
    }
   ],
   "source": [
    "panel_painted = {}\n",
    "cur_x = 0\n",
    "cur_y = 0\n",
    "cur_dir = 'u'\n",
    "dir_map = {\n",
    "    'u': {'x': 0, 'y': 1},\n",
    "    'r': {'x': 1, 'y': 0},\n",
    "    'd': {'x': 0, 'y': -1},\n",
    "    'l': {'x': -1, 'y': 0}\n",
    "}\n",
    "\n",
    "\n",
    "def turn(direction, cur_dir, cur_x, cur_y):\n",
    "    if direction == 1:\n",
    "        dirs = ['u','r','d','l','u']\n",
    "    elif direction == 0:\n",
    "        dirs = ['u','l','d','r','u']    \n",
    "    next_dir = dirs[dirs.index(cur_dir) + 1]\n",
    "    new_x = cur_x + dir_map[next_dir]['x']\n",
    "    new_y = cur_y + dir_map[next_dir]['y']\n",
    "    return next_dir, new_x, new_y\n",
    "    \n",
    "cur_opcode = None\n",
    "\n",
    "robot = intcode(robot_code, input=1)\n",
    "step = 0\n",
    "print(cur_dir, cur_x, cur_y)\n",
    "while cur_opcode is None:\n",
    "    cur_opcode = robot.run()\n",
    "    color, next_turn = robot.output[-2:]\n",
    "    panel_painted[(cur_x, cur_y)] = color\n",
    "    cur_dir, cur_x, cur_y = turn(next_turn, cur_dir, cur_x, cur_y)\n",
    "#    print(cur_dir, cur_x, cur_y)\n",
    "    robot.add_input(panel_painted.get((cur_x, cur_y), 0))\n",
    "\n",
    "    \n",
    "    "
   ]
  },
  {
   "cell_type": "code",
   "execution_count": 16,
   "metadata": {},
   "outputs": [
    {
     "name": "stdout",
     "output_type": "stream",
     "text": [
      " X  X XXXX XXX  XXX  XXX  XXXX  XX    XX   \n",
      " X  X X    X  X X  X X  X X    X  X    X   \n",
      " X  X XXX  X  X X  X X  X XXX  X       X   \n",
      " X  X X    XXX  XXX  XXX  X    X XX    X   \n",
      " X  X X    X X  X    X X  X    X  X X  X   \n",
      "  XX  XXXX X  X X    X  X X     XXX  XX    \n"
     ]
    }
   ],
   "source": [
    "for row in range(6,0,-1):\n",
    "    y = row - 6\n",
    "    to_print = ''\n",
    "    for x in range(43):\n",
    "        if panel_painted.get((x, y), 0) == 1:\n",
    "            to_print += 'X'\n",
    "        else:\n",
    "            to_print += ' '\n",
    "    print(to_print)"
   ]
  },
  {
   "cell_type": "code",
   "execution_count": 12,
   "metadata": {},
   "outputs": [
    {
     "data": {
      "text/plain": [
       "{(0, -4): 0,\n",
       " (0, -3): 0,\n",
       " (0, 0): 0,\n",
       " (1, -5): 0,\n",
       " (1, -4): 1,\n",
       " (1, -3): 1,\n",
       " (1, -2): 1,\n",
       " (1, -1): 1,\n",
       " (1, 0): 1,\n",
       " (2, -5): 1,\n",
       " (2, -4): 0,\n",
       " (2, -3): 0,\n",
       " (2, -2): 0,\n",
       " (2, -1): 0,\n",
       " (2, 0): 0,\n",
       " (3, -5): 1,\n",
       " (3, -4): 0,\n",
       " (3, -3): 0,\n",
       " (3, -2): 0,\n",
       " (3, -1): 0,\n",
       " (3, 0): 0,\n",
       " (4, -5): 0,\n",
       " (4, -4): 1,\n",
       " (4, -3): 1,\n",
       " (4, -2): 1,\n",
       " (4, -1): 1,\n",
       " (4, 0): 1,\n",
       " (5, -5): 0,\n",
       " (5, -4): 0,\n",
       " (5, -3): 0,\n",
       " (5, -2): 0,\n",
       " (5, -1): 0,\n",
       " (5, 0): 0,\n",
       " (6, -5): 1,\n",
       " (6, -4): 1,\n",
       " (6, -3): 1,\n",
       " (6, -2): 1,\n",
       " (6, -1): 1,\n",
       " (6, 0): 1,\n",
       " (7, -5): 1,\n",
       " (7, -4): 0,\n",
       " (7, -3): 0,\n",
       " (7, -2): 1,\n",
       " (7, -1): 0,\n",
       " (7, 0): 1,\n",
       " (8, -5): 1,\n",
       " (8, -4): 0,\n",
       " (8, -3): 0,\n",
       " (8, -2): 1,\n",
       " (8, -1): 0,\n",
       " (8, 0): 1,\n",
       " (9, -5): 1,\n",
       " (9, -4): 0,\n",
       " (9, -3): 0,\n",
       " (9, -2): 0,\n",
       " (9, -1): 0,\n",
       " (9, 0): 1,\n",
       " (10, -5): 0,\n",
       " (10, -4): 0,\n",
       " (10, -3): 0,\n",
       " (10, -2): 0,\n",
       " (10, -1): 0,\n",
       " (10, 0): 0,\n",
       " (11, -5): 1,\n",
       " (11, -4): 1,\n",
       " (11, -3): 1,\n",
       " (11, -2): 1,\n",
       " (11, -1): 1,\n",
       " (11, 0): 1,\n",
       " (12, -5): 0,\n",
       " (12, -4): 0,\n",
       " (12, -3): 1,\n",
       " (12, -2): 0,\n",
       " (12, -1): 0,\n",
       " (12, 0): 1,\n",
       " (13, -5): 0,\n",
       " (13, -4): 1,\n",
       " (13, -3): 1,\n",
       " (13, -2): 0,\n",
       " (13, -1): 0,\n",
       " (13, 0): 1,\n",
       " (14, -5): 1,\n",
       " (14, -4): 0,\n",
       " (14, -3): 0,\n",
       " (14, -2): 1,\n",
       " (14, -1): 1,\n",
       " (14, 0): 0,\n",
       " (15, -5): 0,\n",
       " (15, -4): 0,\n",
       " (15, -3): 0,\n",
       " (15, -2): 0,\n",
       " (15, -1): 0,\n",
       " (15, 0): 0,\n",
       " (16, -5): 1,\n",
       " (16, -4): 1,\n",
       " (16, -3): 1,\n",
       " (16, -2): 1,\n",
       " (16, -1): 1,\n",
       " (16, 0): 1,\n",
       " (17, -5): 0,\n",
       " (17, -4): 0,\n",
       " (17, -3): 1,\n",
       " (17, -2): 0,\n",
       " (17, -1): 0,\n",
       " (17, 0): 1,\n",
       " (18, -5): 0,\n",
       " (18, -4): 0,\n",
       " (18, -3): 1,\n",
       " (18, -2): 0,\n",
       " (18, -1): 0,\n",
       " (18, 0): 1,\n",
       " (19, -5): 0,\n",
       " (19, -4): 0,\n",
       " (19, -3): 0,\n",
       " (19, -2): 1,\n",
       " (19, -1): 1,\n",
       " (19, 0): 0,\n",
       " (20, -5): 0,\n",
       " (20, -4): 0,\n",
       " (20, -3): 0,\n",
       " (20, -2): 0,\n",
       " (20, -1): 0,\n",
       " (20, 0): 0,\n",
       " (21, -5): 1,\n",
       " (21, -4): 1,\n",
       " (21, -3): 1,\n",
       " (21, -2): 1,\n",
       " (21, -1): 1,\n",
       " (21, 0): 1,\n",
       " (22, -5): 0,\n",
       " (22, -4): 0,\n",
       " (22, -3): 1,\n",
       " (22, -2): 0,\n",
       " (22, -1): 0,\n",
       " (22, 0): 1,\n",
       " (23, -5): 0,\n",
       " (23, -4): 1,\n",
       " (23, -3): 1,\n",
       " (23, -2): 0,\n",
       " (23, -1): 0,\n",
       " (23, 0): 1,\n",
       " (24, -5): 1,\n",
       " (24, -4): 0,\n",
       " (24, -3): 0,\n",
       " (24, -2): 1,\n",
       " (24, -1): 1,\n",
       " (24, 0): 0,\n",
       " (25, -5): 0,\n",
       " (25, -4): 0,\n",
       " (25, -3): 0,\n",
       " (25, -2): 0,\n",
       " (25, -1): 0,\n",
       " (25, 0): 0,\n",
       " (26, -5): 1,\n",
       " (26, -4): 1,\n",
       " (26, -3): 1,\n",
       " (26, -2): 1,\n",
       " (26, -1): 1,\n",
       " (26, 0): 1,\n",
       " (27, -5): 0,\n",
       " (27, -4): 0,\n",
       " (27, -3): 0,\n",
       " (27, -2): 1,\n",
       " (27, -1): 0,\n",
       " (27, 0): 1,\n",
       " (28, -5): 0,\n",
       " (28, -4): 0,\n",
       " (28, -3): 0,\n",
       " (28, -2): 1,\n",
       " (28, -1): 0,\n",
       " (28, 0): 1,\n",
       " (29, -5): 0,\n",
       " (29, -4): 0,\n",
       " (29, -3): 0,\n",
       " (29, -2): 0,\n",
       " (29, -1): 0,\n",
       " (29, 0): 1,\n",
       " (30, -5): 0,\n",
       " (30, -4): 0,\n",
       " (30, -3): 0,\n",
       " (30, -2): 0,\n",
       " (30, -1): 0,\n",
       " (30, 0): 0,\n",
       " (31, -5): 0,\n",
       " (31, -4): 1,\n",
       " (31, -3): 1,\n",
       " (31, -2): 1,\n",
       " (31, -1): 1,\n",
       " (31, 0): 0,\n",
       " (32, -5): 1,\n",
       " (32, -4): 0,\n",
       " (32, -3): 0,\n",
       " (32, -2): 0,\n",
       " (32, -1): 0,\n",
       " (32, 0): 1,\n",
       " (33, -5): 1,\n",
       " (33, -4): 0,\n",
       " (33, -3): 1,\n",
       " (33, -2): 0,\n",
       " (33, -1): 0,\n",
       " (33, 0): 1,\n",
       " (34, -5): 1,\n",
       " (34, -4): 1,\n",
       " (34, -3): 1,\n",
       " (34, -2): 0,\n",
       " (34, -1): 1,\n",
       " (34, 0): 0,\n",
       " (35, -5): 0,\n",
       " (35, -4): 0,\n",
       " (35, -3): 0,\n",
       " (35, -2): 0,\n",
       " (35, -1): 0,\n",
       " (35, 0): 0,\n",
       " (36, -5): 0,\n",
       " (36, -4): 1,\n",
       " (36, -3): 0,\n",
       " (36, -2): 0,\n",
       " (36, -1): 0,\n",
       " (36, 0): 0,\n",
       " (37, -5): 1,\n",
       " (37, -4): 0,\n",
       " (37, -3): 0,\n",
       " (37, -2): 0,\n",
       " (37, -1): 0,\n",
       " (37, 0): 0,\n",
       " (38, -5): 1,\n",
       " (38, -4): 0,\n",
       " (38, -3): 0,\n",
       " (38, -2): 0,\n",
       " (38, -1): 0,\n",
       " (38, 0): 1,\n",
       " (39, -5): 0,\n",
       " (39, -4): 1,\n",
       " (39, -3): 1,\n",
       " (39, -2): 1,\n",
       " (39, -1): 1,\n",
       " (39, 0): 1,\n",
       " (40, -5): 0,\n",
       " (40, -4): 0,\n",
       " (40, -3): 0,\n",
       " (40, -2): 0,\n",
       " (40, -1): 0,\n",
       " (40, 0): 0,\n",
       " (41, -3): 0,\n",
       " (41, -2): 0,\n",
       " (41, -1): 0,\n",
       " (41, 0): 0,\n",
       " (42, -2): 0,\n",
       " (42, -1): 0}"
      ]
     },
     "execution_count": 12,
     "metadata": {},
     "output_type": "execute_result"
    }
   ],
   "source": [
    "panel_painted"
   ]
  },
  {
   "cell_type": "code",
   "execution_count": null,
   "metadata": {},
   "outputs": [],
   "source": []
  },
  {
   "cell_type": "code",
   "execution_count": 13,
   "metadata": {},
   "outputs": [
    {
     "data": {
      "text/plain": [
       "('u', 2, 6)"
      ]
     },
     "execution_count": 13,
     "metadata": {},
     "output_type": "execute_result"
    }
   ],
   "source": [
    "turn_right('l', 2, 5)"
   ]
  },
  {
   "cell_type": "code",
   "execution_count": 45,
   "metadata": {},
   "outputs": [],
   "source": [
    "robot = intcode(robot_code)"
   ]
  },
  {
   "cell_type": "code",
   "execution_count": 48,
   "metadata": {},
   "outputs": [
    {
     "name": "stdout",
     "output_type": "stream",
     "text": [
      "Waiting for input, cur_pos: 15\n",
      "[1, 0]\n"
     ]
    }
   ],
   "source": [
    "robot.run()"
   ]
  },
  {
   "cell_type": "code",
   "execution_count": 47,
   "metadata": {},
   "outputs": [
    {
     "name": "stdout",
     "output_type": "stream",
     "text": [
      "Added 0 to input buffer, able to restart\n"
     ]
    }
   ],
   "source": [
    "robot.add_input(0)"
   ]
  },
  {
   "cell_type": "code",
   "execution_count": 20,
   "metadata": {},
   "outputs": [
    {
     "data": {
      "text/plain": [
       "0"
      ]
     },
     "execution_count": 20,
     "metadata": {},
     "output_type": "execute_result"
    }
   ],
   "source": [
    "robot.input_count"
   ]
  },
  {
   "cell_type": "code",
   "execution_count": 35,
   "metadata": {},
   "outputs": [
    {
     "ename": "IndexError",
     "evalue": "list index out of range",
     "output_type": "error",
     "traceback": [
      "\u001b[0;31m---------------------------------------------------------------------------\u001b[0m",
      "\u001b[0;31mIndexError\u001b[0m                                Traceback (most recent call last)",
      "\u001b[0;32m<ipython-input-35-4dbb8036f070>\u001b[0m in \u001b[0;36m<module>\u001b[0;34m()\u001b[0m\n\u001b[0;32m----> 1\u001b[0;31m \u001b[0mrobot\u001b[0m\u001b[0;34m.\u001b[0m\u001b[0mstep\u001b[0m\u001b[0;34m(\u001b[0m\u001b[0;34m)\u001b[0m\u001b[0;34m\u001b[0m\u001b[0;34m\u001b[0m\u001b[0m\n\u001b[0m",
      "\u001b[0;32m<ipython-input-2-da714d525d23>\u001b[0m in \u001b[0;36mstep\u001b[0;34m(self)\u001b[0m\n\u001b[1;32m    167\u001b[0m         \u001b[0mself\u001b[0m\u001b[0;34m.\u001b[0m\u001b[0mlog\u001b[0m\u001b[0;34m(\u001b[0m\u001b[0;34m'======================='\u001b[0m\u001b[0;34m,\u001b[0m \u001b[0;36m3\u001b[0m\u001b[0;34m)\u001b[0m\u001b[0;34m\u001b[0m\u001b[0;34m\u001b[0m\u001b[0m\n\u001b[1;32m    168\u001b[0m         \u001b[0mself\u001b[0m\u001b[0;34m.\u001b[0m\u001b[0mlog\u001b[0m\u001b[0;34m(\u001b[0m\u001b[0;34mF'cur_pos: {self.cur_pos}, opcode: {codes}'\u001b[0m\u001b[0;34m,\u001b[0m \u001b[0;36m1\u001b[0m\u001b[0;34m)\u001b[0m\u001b[0;34m\u001b[0m\u001b[0;34m\u001b[0m\u001b[0m\n\u001b[0;32m--> 169\u001b[0;31m         \u001b[0mself\u001b[0m\u001b[0;34m.\u001b[0m\u001b[0mrun_opcode\u001b[0m\u001b[0;34m(\u001b[0m\u001b[0mcodes\u001b[0m\u001b[0;34m[\u001b[0m\u001b[0;36m0\u001b[0m\u001b[0;34m]\u001b[0m\u001b[0;34m,\u001b[0m \u001b[0mcodes\u001b[0m\u001b[0;34m[\u001b[0m\u001b[0;36m1\u001b[0m\u001b[0;34m:\u001b[0m\u001b[0;34m]\u001b[0m\u001b[0;34m)\u001b[0m\u001b[0;34m\u001b[0m\u001b[0;34m\u001b[0m\u001b[0m\n\u001b[0m\u001b[1;32m    170\u001b[0m \u001b[0;34m\u001b[0m\u001b[0m\n\u001b[1;32m    171\u001b[0m     \u001b[0;32mdef\u001b[0m \u001b[0mlog\u001b[0m\u001b[0;34m(\u001b[0m\u001b[0mself\u001b[0m\u001b[0;34m,\u001b[0m \u001b[0mlog_string\u001b[0m\u001b[0;34m,\u001b[0m \u001b[0mlevel\u001b[0m\u001b[0;34m=\u001b[0m\u001b[0;36m0\u001b[0m\u001b[0;34m)\u001b[0m\u001b[0;34m:\u001b[0m\u001b[0;34m\u001b[0m\u001b[0;34m\u001b[0m\u001b[0m\n",
      "\u001b[0;32m<ipython-input-2-da714d525d23>\u001b[0m in \u001b[0;36mrun_opcode\u001b[0;34m(self, code, modes)\u001b[0m\n\u001b[1;32m     54\u001b[0m             \u001b[0mself\u001b[0m\u001b[0;34m.\u001b[0m\u001b[0mopcode2\u001b[0m\u001b[0;34m(\u001b[0m\u001b[0mmodes\u001b[0m\u001b[0;34m)\u001b[0m\u001b[0;34m\u001b[0m\u001b[0;34m\u001b[0m\u001b[0m\n\u001b[1;32m     55\u001b[0m         \u001b[0;32mif\u001b[0m \u001b[0mcode\u001b[0m \u001b[0;34m==\u001b[0m \u001b[0;36m3\u001b[0m\u001b[0;34m:\u001b[0m\u001b[0;34m\u001b[0m\u001b[0;34m\u001b[0m\u001b[0m\n\u001b[0;32m---> 56\u001b[0;31m             \u001b[0mself\u001b[0m\u001b[0;34m.\u001b[0m\u001b[0mopcode3\u001b[0m\u001b[0;34m(\u001b[0m\u001b[0mmodes\u001b[0m\u001b[0;34m)\u001b[0m\u001b[0;34m\u001b[0m\u001b[0;34m\u001b[0m\u001b[0m\n\u001b[0m\u001b[1;32m     57\u001b[0m         \u001b[0;32mif\u001b[0m \u001b[0mcode\u001b[0m \u001b[0;34m==\u001b[0m \u001b[0;36m4\u001b[0m\u001b[0;34m:\u001b[0m\u001b[0;34m\u001b[0m\u001b[0;34m\u001b[0m\u001b[0m\n\u001b[1;32m     58\u001b[0m             \u001b[0mself\u001b[0m\u001b[0;34m.\u001b[0m\u001b[0mopcode4\u001b[0m\u001b[0;34m(\u001b[0m\u001b[0mmodes\u001b[0m\u001b[0;34m)\u001b[0m\u001b[0;34m\u001b[0m\u001b[0;34m\u001b[0m\u001b[0m\n",
      "\u001b[0;32m<ipython-input-2-da714d525d23>\u001b[0m in \u001b[0;36mopcode3\u001b[0;34m(self, modes)\u001b[0m\n\u001b[1;32m     95\u001b[0m             \u001b[0;32mreturn\u001b[0m\u001b[0;34m\u001b[0m\u001b[0;34m\u001b[0m\u001b[0m\n\u001b[1;32m     96\u001b[0m         \u001b[0mparam\u001b[0m \u001b[0;34m=\u001b[0m \u001b[0mself\u001b[0m\u001b[0;34m.\u001b[0m\u001b[0mmemory\u001b[0m\u001b[0;34m[\u001b[0m\u001b[0mself\u001b[0m\u001b[0;34m.\u001b[0m\u001b[0mcur_pos\u001b[0m \u001b[0;34m+\u001b[0m \u001b[0;36m1\u001b[0m\u001b[0;34m]\u001b[0m\u001b[0;34m\u001b[0m\u001b[0;34m\u001b[0m\u001b[0m\n\u001b[0;32m---> 97\u001b[0;31m         \u001b[0mcur_input\u001b[0m \u001b[0;34m=\u001b[0m \u001b[0mself\u001b[0m\u001b[0;34m.\u001b[0m\u001b[0minput\u001b[0m\u001b[0;34m[\u001b[0m\u001b[0mself\u001b[0m\u001b[0;34m.\u001b[0m\u001b[0minput_count\u001b[0m\u001b[0;34m]\u001b[0m\u001b[0;34m\u001b[0m\u001b[0;34m\u001b[0m\u001b[0m\n\u001b[0m\u001b[1;32m     98\u001b[0m         \u001b[0mself\u001b[0m\u001b[0;34m.\u001b[0m\u001b[0m_write_mem\u001b[0m\u001b[0;34m(\u001b[0m\u001b[0mparam\u001b[0m\u001b[0;34m,\u001b[0m \u001b[0mmode\u001b[0m\u001b[0;34m,\u001b[0m \u001b[0mcur_input\u001b[0m\u001b[0;34m)\u001b[0m\u001b[0;34m\u001b[0m\u001b[0;34m\u001b[0m\u001b[0m\n\u001b[1;32m     99\u001b[0m         \u001b[0mself\u001b[0m\u001b[0;34m.\u001b[0m\u001b[0mlog\u001b[0m\u001b[0;34m(\u001b[0m\u001b[0;34mF'Wrote {cur_input} to {param}, mode {mode}'\u001b[0m\u001b[0;34m,\u001b[0m \u001b[0;36m2\u001b[0m\u001b[0;34m)\u001b[0m\u001b[0;34m\u001b[0m\u001b[0;34m\u001b[0m\u001b[0m\n",
      "\u001b[0;31mIndexError\u001b[0m: list index out of range"
     ]
    }
   ],
   "source": [
    "robot.step()"
   ]
  },
  {
   "cell_type": "code",
   "execution_count": 34,
   "metadata": {},
   "outputs": [
    {
     "data": {
      "text/plain": [
       "['=======================',\n",
       " 'cur_pos: 0, opcode: (3, 0, 0, 0)',\n",
       " 'Writing value 0 to position 8',\n",
       " 'Wrote 0 to 8, mode 0',\n",
       " '=======================',\n",
       " 'cur_pos: 2, opcode: (5, 0, 1, 0)',\n",
       " 'Returning value 0 from position 8',\n",
       " '=======================',\n",
       " 'cur_pos: 5, opcode: (6, 1, 1, 0)',\n",
       " 'Immediate mode returning value: 0',\n",
       " 'Immediate mode returning value: 11',\n",
       " '=======================',\n",
       " 'cur_pos: 11, opcode: (4, 1, 0, 0)',\n",
       " 'Parameter: 1',\n",
       " 'Immediate mode returning value: 1',\n",
       " 'Writing 1 from 1 mode 1 to output',\n",
       " 'Immediate mode returning value: 1',\n",
       " 'New_output: [1]',\n",
       " '=======================',\n",
       " 'cur_pos: 13, opcode: (4, 1, 0, 0)',\n",
       " 'Parameter: 0',\n",
       " 'Immediate mode returning value: 0',\n",
       " 'Writing 0 from 0 mode 1 to output',\n",
       " 'Immediate mode returning value: 0',\n",
       " 'New_output: [1, 0]']"
      ]
     },
     "execution_count": 34,
     "metadata": {},
     "output_type": "execute_result"
    }
   ],
   "source": [
    "robot.logs"
   ]
  },
  {
   "cell_type": "code",
   "execution_count": 36,
   "metadata": {},
   "outputs": [
    {
     "data": {
      "text/plain": [
       "False"
      ]
     },
     "execution_count": 36,
     "metadata": {},
     "output_type": "execute_result"
    }
   ],
   "source": [
    "robot.waiting_for_input"
   ]
  },
  {
   "cell_type": "code",
   "execution_count": 37,
   "metadata": {},
   "outputs": [
    {
     "data": {
      "text/plain": [
       "1"
      ]
     },
     "execution_count": 37,
     "metadata": {},
     "output_type": "execute_result"
    }
   ],
   "source": [
    "robot.input_count"
   ]
  },
  {
   "cell_type": "code",
   "execution_count": 38,
   "metadata": {},
   "outputs": [
    {
     "data": {
      "text/plain": [
       "1"
      ]
     },
     "execution_count": 38,
     "metadata": {},
     "output_type": "execute_result"
    }
   ],
   "source": [
    "len(robot.input)"
   ]
  },
  {
   "cell_type": "code",
   "execution_count": null,
   "metadata": {},
   "outputs": [],
   "source": []
  }
 ],
 "metadata": {
  "kernelspec": {
   "display_name": "Python [default]",
   "language": "python",
   "name": "python3"
  },
  "language_info": {
   "codemirror_mode": {
    "name": "ipython",
    "version": 3
   },
   "file_extension": ".py",
   "mimetype": "text/x-python",
   "name": "python",
   "nbconvert_exporter": "python",
   "pygments_lexer": "ipython3",
   "version": "3.6.7"
  }
 },
 "nbformat": 4,
 "nbformat_minor": 4
}
