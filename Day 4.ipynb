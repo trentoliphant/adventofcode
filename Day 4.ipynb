{
 "cells": [
  {
   "cell_type": "code",
   "execution_count": 1,
   "metadata": {},
   "outputs": [],
   "source": [
    "import re"
   ]
  },
  {
   "cell_type": "code",
   "execution_count": 162,
   "metadata": {},
   "outputs": [],
   "source": [
    "m = re.findall(r'([0-9])(\\1+)', '122333')"
   ]
  },
  {
   "cell_type": "code",
   "execution_count": 163,
   "metadata": {},
   "outputs": [
    {
     "data": {
      "text/plain": [
       "[('2', '2'), ('3', '33')]"
      ]
     },
     "execution_count": 163,
     "metadata": {},
     "output_type": "execute_result"
    }
   ],
   "source": [
    "m"
   ]
  },
  {
   "cell_type": "code",
   "execution_count": 98,
   "metadata": {},
   "outputs": [],
   "source": [
    "def validate(number_as_string):\n",
    "    r = re.search(r'([0-9])\\1', number_as_string)\n",
    "    if r is None:\n",
    "        return False\n",
    "    cur_digit = 0\n",
    "    for digit in [int(d) for d in number_as_string]:\n",
    "        if digit < cur_digit:\n",
    "            return False\n",
    "        cur_digit = digit\n",
    "    return True"
   ]
  },
  {
   "cell_type": "code",
   "execution_count": 49,
   "metadata": {},
   "outputs": [],
   "source": [
    "valid = []\n",
    "for x in range(172851,675870):\n",
    "    if validate(str(x)):\n",
    "        valid.append(x)"
   ]
  },
  {
   "cell_type": "code",
   "execution_count": 50,
   "metadata": {},
   "outputs": [
    {
     "data": {
      "text/plain": [
       "1660"
      ]
     },
     "execution_count": 50,
     "metadata": {},
     "output_type": "execute_result"
    }
   ],
   "source": [
    "len(valid)"
   ]
  },
  {
   "cell_type": "code",
   "execution_count": 52,
   "metadata": {},
   "outputs": [
    {
     "data": {
      "text/plain": [
       "[667799,\n",
       " 667888,\n",
       " 667889,\n",
       " 667899,\n",
       " 667999,\n",
       " 668888,\n",
       " 668889,\n",
       " 668899,\n",
       " 668999,\n",
       " 669999]"
      ]
     },
     "execution_count": 52,
     "metadata": {},
     "output_type": "execute_result"
    }
   ],
   "source": [
    "valid[-10:]"
   ]
  },
  {
   "cell_type": "code",
   "execution_count": 194,
   "metadata": {},
   "outputs": [],
   "source": [
    "def validate2(number_as_string):\n",
    "    r = re.findall(r'([0-9])(\\1+)', number_as_string)\n",
    "    if len(r) == 0:\n",
    "        return False\n",
    "    mult = []\n",
    "    for x in r:\n",
    "        if len(x[1]) > 1:\n",
    "            mult.append(False)\n",
    "        else:\n",
    "            mult.append(True)\n",
    "    if not any(mult):\n",
    "        return False\n",
    "    cur_digit = 0\n",
    "    for digit in [int(d) for d in number_as_string]:\n",
    "        if digit < cur_digit:\n",
    "            return False\n",
    "        cur_digit = digit\n",
    "    return True"
   ]
  },
  {
   "cell_type": "code",
   "execution_count": 195,
   "metadata": {},
   "outputs": [],
   "source": [
    "valid = []\n",
    "for x in range(172851,675870):\n",
    "    if validate2(str(x)):\n",
    "        valid.append(x)"
   ]
  },
  {
   "cell_type": "code",
   "execution_count": 196,
   "metadata": {},
   "outputs": [
    {
     "data": {
      "text/plain": [
       "1135"
      ]
     },
     "execution_count": 196,
     "metadata": {},
     "output_type": "execute_result"
    }
   ],
   "source": [
    "len(valid)"
   ]
  },
  {
   "cell_type": "code",
   "execution_count": 193,
   "metadata": {},
   "outputs": [
    {
     "name": "stdout",
     "output_type": "stream",
     "text": [
      "('1', '1')\n",
      "('2', '222')\n",
      "[True, False]\n"
     ]
    },
    {
     "data": {
      "text/plain": [
       "True"
      ]
     },
     "execution_count": 193,
     "metadata": {},
     "output_type": "execute_result"
    }
   ],
   "source": [
    "validate2('112222')"
   ]
  },
  {
   "cell_type": "code",
   "execution_count": 199,
   "metadata": {},
   "outputs": [
    {
     "data": {
      "text/plain": [
       "[177788,\n",
       " 177799,\n",
       " 177888,\n",
       " 177889,\n",
       " 177899,\n",
       " 177999,\n",
       " 178899,\n",
       " 188899,\n",
       " 188999,\n",
       " 222233,\n",
       " 222244,\n",
       " 222255,\n",
       " 222266,\n",
       " 222277,\n",
       " 222288,\n",
       " 222299,\n",
       " 222334,\n",
       " 222335,\n",
       " 222336,\n",
       " 222337]"
      ]
     },
     "execution_count": 199,
     "metadata": {},
     "output_type": "execute_result"
    }
   ],
   "source": [
    "valid[:20]"
   ]
  },
  {
   "cell_type": "code",
   "execution_count": null,
   "metadata": {},
   "outputs": [],
   "source": []
  }
 ],
 "metadata": {
  "kernelspec": {
   "display_name": "Python [default]",
   "language": "python",
   "name": "python3"
  },
  "language_info": {
   "codemirror_mode": {
    "name": "ipython",
    "version": 3
   },
   "file_extension": ".py",
   "mimetype": "text/x-python",
   "name": "python",
   "nbconvert_exporter": "python",
   "pygments_lexer": "ipython3",
   "version": "3.6.7"
  }
 },
 "nbformat": 4,
 "nbformat_minor": 4
}
