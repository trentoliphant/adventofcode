{
 "cells": [
  {
   "cell_type": "code",
   "execution_count": 5,
   "metadata": {},
   "outputs": [],
   "source": [
    "def man_dist(xend, yend, xbeg=0, ybeg=0):\n",
    "    return abs(xend-xbeg)+abs(yend-ybeg)"
   ]
  },
  {
   "cell_type": "code",
   "execution_count": 32,
   "metadata": {},
   "outputs": [],
   "source": [
    "def get_grid_points(move, xbeg=0, ybeg=0):\n",
    "    points = []\n",
    "    xcur, ycur = xbeg, ybeg\n",
    "    dir = move[0]\n",
    "    dist = int(move[1:])\n",
    "    dirs = {'U': (1, 0), 'D': (-1, 0), 'L': (0, -1), 'R': (0, 1)}\n",
    "    for i in range(dist):\n",
    "        xcur += dirs[dir][0]\n",
    "        ycur += dirs[dir][1]\n",
    "        points.append((xcur, ycur))\n",
    "    return points"
   ]
  },
  {
   "cell_type": "code",
   "execution_count": 22,
   "metadata": {},
   "outputs": [],
   "source": [
    "l = 'R75,D30,R83,U83,L12,D49,R71,U7,L72'.split(',')"
   ]
  },
  {
   "cell_type": "code",
   "execution_count": 33,
   "metadata": {},
   "outputs": [],
   "source": [
    "def trace_path(path):\n",
    "    all_points = []\n",
    "    cur_point = (0, 0)\n",
    "    for move in path:\n",
    "        all_points.extend(get_grid_points(move, cur_point[0], cur_point[1]))\n",
    "        cur_point = all_points[-1]\n",
    "    return all_points"
   ]
  },
  {
   "cell_type": "code",
   "execution_count": 28,
   "metadata": {},
   "outputs": [
    {
     "name": "stdout",
     "output_type": "stream",
     "text": [
      "R 8 0 0\n",
      "[(0, 1), (0, 2), (0, 3), (0, 4), (0, 5), (0, 6), (0, 7), (0, 8)]\n",
      "U 5 0 8\n",
      "[(0, 1), (0, 2), (0, 3), (0, 4), (0, 5), (0, 6), (0, 7), (0, 8), (1, 8), (2, 8), (3, 8), (4, 8), (5, 8)]\n",
      "L 5 5 8\n",
      "[(0, 1), (0, 2), (0, 3), (0, 4), (0, 5), (0, 6), (0, 7), (0, 8), (1, 8), (2, 8), (3, 8), (4, 8), (5, 8), (5, 7), (5, 6), (5, 5), (5, 4), (5, 3)]\n",
      "D 3 5 3\n",
      "[(0, 1), (0, 2), (0, 3), (0, 4), (0, 5), (0, 6), (0, 7), (0, 8), (1, 8), (2, 8), (3, 8), (4, 8), (5, 8), (5, 7), (5, 6), (5, 5), (5, 4), (5, 3), (4, 3), (3, 3), (2, 3)]\n"
     ]
    },
    {
     "data": {
      "text/plain": [
       "[(0, 1),\n",
       " (0, 2),\n",
       " (0, 3),\n",
       " (0, 4),\n",
       " (0, 5),\n",
       " (0, 6),\n",
       " (0, 7),\n",
       " (0, 8),\n",
       " (1, 8),\n",
       " (2, 8),\n",
       " (3, 8),\n",
       " (4, 8),\n",
       " (5, 8),\n",
       " (5, 7),\n",
       " (5, 6),\n",
       " (5, 5),\n",
       " (5, 4),\n",
       " (5, 3),\n",
       " (4, 3),\n",
       " (3, 3),\n",
       " (2, 3)]"
      ]
     },
     "execution_count": 28,
     "metadata": {},
     "output_type": "execute_result"
    }
   ],
   "source": [
    "trace_path('R8,U5,L5,D3'.split(','))"
   ]
  },
  {
   "cell_type": "code",
   "execution_count": 29,
   "metadata": {},
   "outputs": [],
   "source": [
    "path1 = 'R8,U5,L5,D3'.split(',')\n",
    "path2 = 'U7,R6,D4,L4'.split(',')"
   ]
  },
  {
   "cell_type": "code",
   "execution_count": 65,
   "metadata": {},
   "outputs": [],
   "source": [
    "def get_intersections(path_list):\n",
    "    points = [set(trace_path(path)) for path in path_list]\n",
    "    intersection = points[0]\n",
    "    for s in points[1:]:\n",
    "        intersection = intersection.intersection(s)\n",
    "    return intersection"
   ]
  },
  {
   "cell_type": "code",
   "execution_count": 34,
   "metadata": {},
   "outputs": [
    {
     "data": {
      "text/plain": [
       "{(3, 3), (5, 6)}"
      ]
     },
     "execution_count": 34,
     "metadata": {},
     "output_type": "execute_result"
    }
   ],
   "source": []
  },
  {
   "cell_type": "code",
   "execution_count": 66,
   "metadata": {},
   "outputs": [],
   "source": [
    "def get_nearest_intersection(intersections):\n",
    "    dists = [man_dist(x,y) for x,y in intersections]\n",
    "    return min(dists)"
   ]
  },
  {
   "cell_type": "code",
   "execution_count": 38,
   "metadata": {},
   "outputs": [
    {
     "name": "stdout",
     "output_type": "stream",
     "text": [
      "[11, 6]\n"
     ]
    },
    {
     "data": {
      "text/plain": [
       "6"
      ]
     },
     "execution_count": 38,
     "metadata": {},
     "output_type": "execute_result"
    }
   ],
   "source": [
    "get_nearest_intersection(get_intersections(path1, path2))"
   ]
  },
  {
   "cell_type": "code",
   "execution_count": 62,
   "metadata": {},
   "outputs": [],
   "source": [
    "test1 = ['R8,U5,L5,D3', 'U7,R6,D4,L4']\n",
    "test2 = ['R75,D30,R83,U83,L12,D49,R71,U7,L72', 'U62,R66,U55,R34,D71,R55,D58,R83']\n",
    "test3 = ['R98,U47,R26,D63,R33,U87,L62,D20,R33,U53,R51', 'U98,R91,D20,R16,D67,R40,U7,R15,U6,R7']"
   ]
  },
  {
   "cell_type": "code",
   "execution_count": 74,
   "metadata": {},
   "outputs": [],
   "source": [
    "def parse_paths(list_of_paths_as_string):\n",
    "    return [path.strip().split(',') for path in list_of_paths_as_string]"
   ]
  },
  {
   "cell_type": "code",
   "execution_count": 70,
   "metadata": {},
   "outputs": [
    {
     "data": {
      "text/plain": [
       "135"
      ]
     },
     "execution_count": 70,
     "metadata": {},
     "output_type": "execute_result"
    }
   ],
   "source": [
    "get_nearest_intersection(get_intersections(parse_paths(test3)))"
   ]
  },
  {
   "cell_type": "code",
   "execution_count": 69,
   "metadata": {},
   "outputs": [
    {
     "data": {
      "text/plain": [
       "[['R75', 'D30', 'R83', 'U83', 'L12', 'D49', 'R71', 'U7', 'L72'],\n",
       " ['U62', 'R66', 'U55', 'R34', 'D71', 'R55', 'D58', 'R83']]"
      ]
     },
     "execution_count": 69,
     "metadata": {},
     "output_type": "execute_result"
    }
   ],
   "source": [
    "parse_paths(test2)"
   ]
  },
  {
   "cell_type": "code",
   "execution_count": 101,
   "metadata": {},
   "outputs": [
    {
     "data": {
      "text/plain": [
       "410"
      ]
     },
     "execution_count": 101,
     "metadata": {},
     "output_type": "execute_result"
    }
   ],
   "source": [
    "get_steps(parse_paths(test3))"
   ]
  },
  {
   "cell_type": "code",
   "execution_count": 102,
   "metadata": {},
   "outputs": [
    {
     "name": "stdout",
     "output_type": "stream",
     "text": [
      "5672\n"
     ]
    }
   ],
   "source": [
    "with open('Input 3.txt') as d:\n",
    "    print(get_steps(parse_paths(d.readlines())))"
   ]
  },
  {
   "cell_type": "code",
   "execution_count": 98,
   "metadata": {},
   "outputs": [],
   "source": [
    "def get_steps(path_list):\n",
    "    points = [trace_path(path) for path in path_list]\n",
    "    intersection = set(points[0])\n",
    "    for s in points[1:]:\n",
    "        intersection = intersection.intersection(set(s))\n",
    "    lowest = None\n",
    "    for point in intersection:\n",
    "        steps = 0\n",
    "        for path in points:\n",
    "            steps += path.index(point) + 1\n",
    "        if lowest is None or steps < lowest:\n",
    "            lowest = steps\n",
    "    return lowest"
   ]
  },
  {
   "cell_type": "code",
   "execution_count": 77,
   "metadata": {},
   "outputs": [
    {
     "data": {
      "text/plain": [
       "'R8,U5,L5,D3'"
      ]
     },
     "execution_count": 77,
     "metadata": {},
     "output_type": "execute_result"
    }
   ],
   "source": [
    "test1[0]"
   ]
  },
  {
   "cell_type": "code",
   "execution_count": 80,
   "metadata": {},
   "outputs": [
    {
     "data": {
      "text/plain": [
       "9"
      ]
     },
     "execution_count": 80,
     "metadata": {},
     "output_type": "execute_result"
    }
   ],
   "source": [
    "test1[0].find('D')"
   ]
  },
  {
   "cell_type": "code",
   "execution_count": null,
   "metadata": {},
   "outputs": [],
   "source": []
  }
 ],
 "metadata": {
  "kernelspec": {
   "display_name": "Python [default]",
   "language": "python",
   "name": "python3"
  },
  "language_info": {
   "codemirror_mode": {
    "name": "ipython",
    "version": 3
   },
   "file_extension": ".py",
   "mimetype": "text/x-python",
   "name": "python",
   "nbconvert_exporter": "python",
   "pygments_lexer": "ipython3",
   "version": "3.6.7"
  }
 },
 "nbformat": 4,
 "nbformat_minor": 4
}
